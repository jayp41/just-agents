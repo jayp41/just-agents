{
  "cells": [
    {
      "cell_type": "markdown",
      "metadata": {
        "id": "view-in-github",
        "colab_type": "text"
      },
      "source": [
        "<a href=\"https://colab.research.google.com/github/longevity-genie/just-agents/blob/main/examples/notebooks/02_sqlite_example.ipynb\" target=\"_parent\"><img src=\"https://colab.research.google.com/assets/colab-badge.svg\" alt=\"Open In Colab\"/></a>"
      ]
    },
    {
      "cell_type": "markdown",
      "metadata": {
        "id": "9k4Gkr9gsMbA"
      },
      "source": [
        "## Building your Own SQL Agent with Just-Agents ##\n"
      ]
    },
    {
      "cell_type": "markdown",
      "metadata": {
        "id": "g7MwnE7rsYHR"
      },
      "source": [
        "This notebook provides a comprehensive guide on how to create and utilize your own custom SQL agents using [just-agents](https://github.com/longevity-genie/just-agents/) library."
      ]
    },
    {
      "cell_type": "markdown",
      "metadata": {
        "id": "LsvSImpG9nlO"
      },
      "source": [
        "It is the second tutorial in a series of tutorials, next ones are:\n",
        "1. Basic agents tutorial  \n",
        "2. Database agent tutorial (THIS ONE)\n",
        "3. Coding agent tutorial"
      ]
    },
    {
      "cell_type": "markdown",
      "metadata": {
        "id": "kk20e41DnDCd"
      },
      "source": [
        "## Working with the Open-Genes Database\n",
        "\n",
        "For this tutorial, we'll be interacting with the Open-Genes database. We'll be using a simplified version stored in an SQLite file. You can access the original database file at:\n",
        "\n",
        "[https://github.com/longevity-genie/longevity_gpts/blob/main/open_genes/data/open_genes.sqlite](https://github.com/longevity-genie/longevity_gpts/blob/main/open_genes/data/open_genes.sqlite)"
      ]
    },
    {
      "cell_type": "markdown",
      "metadata": {
        "id": "kFnEB8vYsVcY"
      },
      "source": [
        "Let's download the database first"
      ]
    },
    {
      "cell_type": "code",
      "execution_count": 1,
      "metadata": {
        "colab": {
          "base_uri": "https://localhost:8080/"
        },
        "collapsed": true,
        "id": "u8pafg11rt4U",
        "outputId": "f237273b-1661-453d-a638-ee590b4dd168"
      },
      "outputs": [
        {
          "output_type": "stream",
          "name": "stdout",
          "text": [
            "--2025-05-21 13:39:44--  https://github.com/longevity-genie/longevity_gpts/raw/main/open_genes/data/open_genes.sqlite\n",
            "Resolving github.com (github.com)... 140.82.112.3\n",
            "Connecting to github.com (github.com)|140.82.112.3|:443... connected.\n",
            "HTTP request sent, awaiting response... 302 Found\n",
            "Location: https://raw.githubusercontent.com/longevity-genie/longevity_gpts/main/open_genes/data/open_genes.sqlite [following]\n",
            "--2025-05-21 13:39:44--  https://raw.githubusercontent.com/longevity-genie/longevity_gpts/main/open_genes/data/open_genes.sqlite\n",
            "Resolving raw.githubusercontent.com (raw.githubusercontent.com)... 185.199.108.133, 185.199.109.133, 185.199.110.133, ...\n",
            "Connecting to raw.githubusercontent.com (raw.githubusercontent.com)|185.199.108.133|:443... connected.\n",
            "HTTP request sent, awaiting response... 200 OK\n",
            "Length: 1150976 (1.1M) [application/octet-stream]\n",
            "Saving to: ‘open_genes.sqlite’\n",
            "\n",
            "open_genes.sqlite   100%[===================>]   1.10M  --.-KB/s    in 0.06s   \n",
            "\n",
            "2025-05-21 13:39:45 (17.9 MB/s) - ‘open_genes.sqlite’ saved [1150976/1150976]\n",
            "\n"
          ]
        }
      ],
      "source": [
        "!wget https://github.com/longevity-genie/longevity_gpts/raw/main/open_genes/data/open_genes.sqlite -O open_genes.sqlite"
      ]
    },
    {
      "cell_type": "markdown",
      "metadata": {
        "id": "6Lr5wHHgyA2M"
      },
      "source": [
        "Let's test the query by outputing the tables"
      ]
    },
    {
      "cell_type": "markdown",
      "metadata": {
        "id": "q3UBwhdyz0X0"
      },
      "source": []
    },
    {
      "cell_type": "code",
      "execution_count": 2,
      "metadata": {
        "id": "o5tfHsPVz0zh"
      },
      "outputs": [],
      "source": [
        "import sqlite3\n",
        "\n",
        "def db_query(sql: str):\n",
        "    \"\"\" This function execute query on open-genes sqlite table. It returns query results. \"\"\"\n",
        "    conn = sqlite3.connect(\"open_genes.sqlite\")\n",
        "    cursor = conn.cursor()\n",
        "\n",
        "    cursor.execute(sql)\n",
        "    try:\n",
        "        rows = cursor.fetchall()\n",
        "        if rows is None or len(rows) == 0:\n",
        "            conn.close()\n",
        "            return \"\"\n",
        "        names = [description[0] for description in cursor.description]\n",
        "        text = \"; \".join(names) + \"\\n\"\n",
        "        for row in rows:\n",
        "            row = [str(i) for i in row]\n",
        "            text += \"; \".join(row) + \"\\n\"\n",
        "    finally:\n",
        "        conn.close()\n",
        "\n",
        "    return text"
      ]
    },
    {
      "cell_type": "markdown",
      "metadata": {
        "id": "DQDQ-1sm6Duz"
      },
      "source": [
        "Let's first check that functions work on its own, without agent"
      ]
    },
    {
      "cell_type": "code",
      "execution_count": 3,
      "metadata": {
        "colab": {
          "base_uri": "https://localhost:8080/"
        },
        "id": "ytXU4hSNzYu4",
        "outputId": "aa308af0-7b44-4ab4-94e1-1f6058243ee6"
      },
      "outputs": [
        {
          "output_type": "stream",
          "name": "stdout",
          "text": [
            "Tables: name\n",
            "lifespan_change\n",
            "gene_criteria\n",
            "gene_hallmarks\n",
            "longevity_associations\n",
            "\n"
          ]
        }
      ],
      "source": [
        "tables = db_query(\"SELECT name FROM sqlite_master WHERE type='table';\")\n",
        "print(\"Tables:\", tables)\n"
      ]
    },
    {
      "cell_type": "markdown",
      "source": [],
      "metadata": {
        "id": "-wo3px5fExOw"
      }
    },
    {
      "cell_type": "markdown",
      "metadata": {
        "id": "qKe3GAnb6UPd"
      },
      "source": [
        "## Making a naive sql agent\n",
        "\n",
        "Now we will create an agent, It will handle simple tasks."
      ]
    },
    {
      "cell_type": "markdown",
      "metadata": {
        "id": "mJ8gblYm6QOd"
      },
      "source": [
        "First, let's install the just-agent library with pip and set up API key for Groq"
      ]
    },
    {
      "cell_type": "code",
      "execution_count": 4,
      "metadata": {
        "colab": {
          "base_uri": "https://localhost:8080/"
        },
        "collapsed": true,
        "id": "f2V1eHN66eb9",
        "outputId": "01bfbc85-1cd0-468c-a4d4-32540b8e149c"
      },
      "outputs": [
        {
          "output_type": "stream",
          "name": "stdout",
          "text": [
            "Collecting just-agents-core==0.7.3\n",
            "  Downloading just_agents_core-0.7.3-py3-none-any.whl.metadata (4.8 kB)\n",
            "Requirement already satisfied: docstring_parser>=0.16 in /usr/local/lib/python3.11/dist-packages (from just-agents-core==0.7.3) (0.16)\n",
            "Collecting litellm==1.69.2 (from just-agents-core==0.7.3)\n",
            "  Downloading litellm-1.69.2-py3-none-any.whl.metadata (37 kB)\n",
            "Collecting mcp>=1.6.0 (from just-agents-core==0.7.3)\n",
            "  Downloading mcp-1.9.0-py3-none-any.whl.metadata (26 kB)\n",
            "Requirement already satisfied: pydantic<3.0.0,>=2.0.0 in /usr/local/lib/python3.11/dist-packages (from just-agents-core==0.7.3) (2.11.4)\n",
            "Collecting python-dotenv>=1.1.0 (from just-agents-core==0.7.3)\n",
            "  Downloading python_dotenv-1.1.0-py3-none-any.whl.metadata (24 kB)\n",
            "Collecting rich>=14.0.0 (from just-agents-core==0.7.3)\n",
            "  Downloading rich-14.0.0-py3-none-any.whl.metadata (18 kB)\n",
            "Requirement already satisfied: aiohttp in /usr/local/lib/python3.11/dist-packages (from litellm==1.69.2->just-agents-core==0.7.3) (3.11.15)\n",
            "Requirement already satisfied: click in /usr/local/lib/python3.11/dist-packages (from litellm==1.69.2->just-agents-core==0.7.3) (8.2.0)\n",
            "Requirement already satisfied: httpx>=0.23.0 in /usr/local/lib/python3.11/dist-packages (from litellm==1.69.2->just-agents-core==0.7.3) (0.28.1)\n",
            "Requirement already satisfied: importlib-metadata>=6.8.0 in /usr/local/lib/python3.11/dist-packages (from litellm==1.69.2->just-agents-core==0.7.3) (8.7.0)\n",
            "Requirement already satisfied: jinja2<4.0.0,>=3.1.2 in /usr/local/lib/python3.11/dist-packages (from litellm==1.69.2->just-agents-core==0.7.3) (3.1.6)\n",
            "Requirement already satisfied: jsonschema<5.0.0,>=4.22.0 in /usr/local/lib/python3.11/dist-packages (from litellm==1.69.2->just-agents-core==0.7.3) (4.23.0)\n",
            "Collecting openai<1.76.0,>=1.68.2 (from litellm==1.69.2->just-agents-core==0.7.3)\n",
            "  Downloading openai-1.75.0-py3-none-any.whl.metadata (25 kB)\n",
            "Requirement already satisfied: tiktoken>=0.7.0 in /usr/local/lib/python3.11/dist-packages (from litellm==1.69.2->just-agents-core==0.7.3) (0.9.0)\n",
            "Requirement already satisfied: tokenizers in /usr/local/lib/python3.11/dist-packages (from litellm==1.69.2->just-agents-core==0.7.3) (0.21.1)\n",
            "Requirement already satisfied: anyio>=4.5 in /usr/local/lib/python3.11/dist-packages (from mcp>=1.6.0->just-agents-core==0.7.3) (4.9.0)\n",
            "Collecting httpx-sse>=0.4 (from mcp>=1.6.0->just-agents-core==0.7.3)\n",
            "  Downloading httpx_sse-0.4.0-py3-none-any.whl.metadata (9.0 kB)\n",
            "Collecting pydantic-settings>=2.5.2 (from mcp>=1.6.0->just-agents-core==0.7.3)\n",
            "  Downloading pydantic_settings-2.9.1-py3-none-any.whl.metadata (3.8 kB)\n",
            "Collecting python-multipart>=0.0.9 (from mcp>=1.6.0->just-agents-core==0.7.3)\n",
            "  Downloading python_multipart-0.0.20-py3-none-any.whl.metadata (1.8 kB)\n",
            "Collecting sse-starlette>=1.6.1 (from mcp>=1.6.0->just-agents-core==0.7.3)\n",
            "  Downloading sse_starlette-2.3.5-py3-none-any.whl.metadata (7.8 kB)\n",
            "Collecting starlette>=0.27 (from mcp>=1.6.0->just-agents-core==0.7.3)\n",
            "  Downloading starlette-0.46.2-py3-none-any.whl.metadata (6.2 kB)\n",
            "Collecting uvicorn>=0.23.1 (from mcp>=1.6.0->just-agents-core==0.7.3)\n",
            "  Downloading uvicorn-0.34.2-py3-none-any.whl.metadata (6.5 kB)\n",
            "Requirement already satisfied: annotated-types>=0.6.0 in /usr/local/lib/python3.11/dist-packages (from pydantic<3.0.0,>=2.0.0->just-agents-core==0.7.3) (0.7.0)\n",
            "Requirement already satisfied: pydantic-core==2.33.2 in /usr/local/lib/python3.11/dist-packages (from pydantic<3.0.0,>=2.0.0->just-agents-core==0.7.3) (2.33.2)\n",
            "Requirement already satisfied: typing-extensions>=4.12.2 in /usr/local/lib/python3.11/dist-packages (from pydantic<3.0.0,>=2.0.0->just-agents-core==0.7.3) (4.13.2)\n",
            "Requirement already satisfied: typing-inspection>=0.4.0 in /usr/local/lib/python3.11/dist-packages (from pydantic<3.0.0,>=2.0.0->just-agents-core==0.7.3) (0.4.0)\n",
            "Requirement already satisfied: markdown-it-py>=2.2.0 in /usr/local/lib/python3.11/dist-packages (from rich>=14.0.0->just-agents-core==0.7.3) (3.0.0)\n",
            "Requirement already satisfied: pygments<3.0.0,>=2.13.0 in /usr/local/lib/python3.11/dist-packages (from rich>=14.0.0->just-agents-core==0.7.3) (2.19.1)\n",
            "Requirement already satisfied: idna>=2.8 in /usr/local/lib/python3.11/dist-packages (from anyio>=4.5->mcp>=1.6.0->just-agents-core==0.7.3) (3.10)\n",
            "Requirement already satisfied: sniffio>=1.1 in /usr/local/lib/python3.11/dist-packages (from anyio>=4.5->mcp>=1.6.0->just-agents-core==0.7.3) (1.3.1)\n",
            "Requirement already satisfied: certifi in /usr/local/lib/python3.11/dist-packages (from httpx>=0.23.0->litellm==1.69.2->just-agents-core==0.7.3) (2025.4.26)\n",
            "Requirement already satisfied: httpcore==1.* in /usr/local/lib/python3.11/dist-packages (from httpx>=0.23.0->litellm==1.69.2->just-agents-core==0.7.3) (1.0.9)\n",
            "Requirement already satisfied: h11>=0.16 in /usr/local/lib/python3.11/dist-packages (from httpcore==1.*->httpx>=0.23.0->litellm==1.69.2->just-agents-core==0.7.3) (0.16.0)\n",
            "Requirement already satisfied: zipp>=3.20 in /usr/local/lib/python3.11/dist-packages (from importlib-metadata>=6.8.0->litellm==1.69.2->just-agents-core==0.7.3) (3.21.0)\n",
            "Requirement already satisfied: MarkupSafe>=2.0 in /usr/local/lib/python3.11/dist-packages (from jinja2<4.0.0,>=3.1.2->litellm==1.69.2->just-agents-core==0.7.3) (3.0.2)\n",
            "Requirement already satisfied: attrs>=22.2.0 in /usr/local/lib/python3.11/dist-packages (from jsonschema<5.0.0,>=4.22.0->litellm==1.69.2->just-agents-core==0.7.3) (25.3.0)\n",
            "Requirement already satisfied: jsonschema-specifications>=2023.03.6 in /usr/local/lib/python3.11/dist-packages (from jsonschema<5.0.0,>=4.22.0->litellm==1.69.2->just-agents-core==0.7.3) (2025.4.1)\n",
            "Requirement already satisfied: referencing>=0.28.4 in /usr/local/lib/python3.11/dist-packages (from jsonschema<5.0.0,>=4.22.0->litellm==1.69.2->just-agents-core==0.7.3) (0.36.2)\n",
            "Requirement already satisfied: rpds-py>=0.7.1 in /usr/local/lib/python3.11/dist-packages (from jsonschema<5.0.0,>=4.22.0->litellm==1.69.2->just-agents-core==0.7.3) (0.24.0)\n",
            "Requirement already satisfied: mdurl~=0.1 in /usr/local/lib/python3.11/dist-packages (from markdown-it-py>=2.2.0->rich>=14.0.0->just-agents-core==0.7.3) (0.1.2)\n",
            "Requirement already satisfied: distro<2,>=1.7.0 in /usr/local/lib/python3.11/dist-packages (from openai<1.76.0,>=1.68.2->litellm==1.69.2->just-agents-core==0.7.3) (1.9.0)\n",
            "Requirement already satisfied: jiter<1,>=0.4.0 in /usr/local/lib/python3.11/dist-packages (from openai<1.76.0,>=1.68.2->litellm==1.69.2->just-agents-core==0.7.3) (0.9.0)\n",
            "Requirement already satisfied: tqdm>4 in /usr/local/lib/python3.11/dist-packages (from openai<1.76.0,>=1.68.2->litellm==1.69.2->just-agents-core==0.7.3) (4.67.1)\n",
            "Requirement already satisfied: regex>=2022.1.18 in /usr/local/lib/python3.11/dist-packages (from tiktoken>=0.7.0->litellm==1.69.2->just-agents-core==0.7.3) (2024.11.6)\n",
            "Requirement already satisfied: requests>=2.26.0 in /usr/local/lib/python3.11/dist-packages (from tiktoken>=0.7.0->litellm==1.69.2->just-agents-core==0.7.3) (2.32.3)\n",
            "Requirement already satisfied: aiohappyeyeballs>=2.3.0 in /usr/local/lib/python3.11/dist-packages (from aiohttp->litellm==1.69.2->just-agents-core==0.7.3) (2.6.1)\n",
            "Requirement already satisfied: aiosignal>=1.1.2 in /usr/local/lib/python3.11/dist-packages (from aiohttp->litellm==1.69.2->just-agents-core==0.7.3) (1.3.2)\n",
            "Requirement already satisfied: frozenlist>=1.1.1 in /usr/local/lib/python3.11/dist-packages (from aiohttp->litellm==1.69.2->just-agents-core==0.7.3) (1.6.0)\n",
            "Requirement already satisfied: multidict<7.0,>=4.5 in /usr/local/lib/python3.11/dist-packages (from aiohttp->litellm==1.69.2->just-agents-core==0.7.3) (6.4.3)\n",
            "Requirement already satisfied: propcache>=0.2.0 in /usr/local/lib/python3.11/dist-packages (from aiohttp->litellm==1.69.2->just-agents-core==0.7.3) (0.3.1)\n",
            "Requirement already satisfied: yarl<2.0,>=1.17.0 in /usr/local/lib/python3.11/dist-packages (from aiohttp->litellm==1.69.2->just-agents-core==0.7.3) (1.20.0)\n",
            "Requirement already satisfied: huggingface-hub<1.0,>=0.16.4 in /usr/local/lib/python3.11/dist-packages (from tokenizers->litellm==1.69.2->just-agents-core==0.7.3) (0.31.2)\n",
            "Requirement already satisfied: filelock in /usr/local/lib/python3.11/dist-packages (from huggingface-hub<1.0,>=0.16.4->tokenizers->litellm==1.69.2->just-agents-core==0.7.3) (3.18.0)\n",
            "Requirement already satisfied: fsspec>=2023.5.0 in /usr/local/lib/python3.11/dist-packages (from huggingface-hub<1.0,>=0.16.4->tokenizers->litellm==1.69.2->just-agents-core==0.7.3) (2025.3.2)\n",
            "Requirement already satisfied: packaging>=20.9 in /usr/local/lib/python3.11/dist-packages (from huggingface-hub<1.0,>=0.16.4->tokenizers->litellm==1.69.2->just-agents-core==0.7.3) (24.2)\n",
            "Requirement already satisfied: pyyaml>=5.1 in /usr/local/lib/python3.11/dist-packages (from huggingface-hub<1.0,>=0.16.4->tokenizers->litellm==1.69.2->just-agents-core==0.7.3) (6.0.2)\n",
            "Requirement already satisfied: charset-normalizer<4,>=2 in /usr/local/lib/python3.11/dist-packages (from requests>=2.26.0->tiktoken>=0.7.0->litellm==1.69.2->just-agents-core==0.7.3) (3.4.2)\n",
            "Requirement already satisfied: urllib3<3,>=1.21.1 in /usr/local/lib/python3.11/dist-packages (from requests>=2.26.0->tiktoken>=0.7.0->litellm==1.69.2->just-agents-core==0.7.3) (2.4.0)\n",
            "Downloading just_agents_core-0.7.3-py3-none-any.whl (80 kB)\n",
            "\u001b[2K   \u001b[90m━━━━━━━━━━━━━━━━━━━━━━━━━━━━━━━━━━━━━━━━\u001b[0m \u001b[32m80.1/80.1 kB\u001b[0m \u001b[31m3.5 MB/s\u001b[0m eta \u001b[36m0:00:00\u001b[0m\n",
            "\u001b[?25hDownloading litellm-1.69.2-py3-none-any.whl (7.7 MB)\n",
            "\u001b[2K   \u001b[90m━━━━━━━━━━━━━━━━━━━━━━━━━━━━━━━━━━━━━━━━\u001b[0m \u001b[32m7.7/7.7 MB\u001b[0m \u001b[31m49.5 MB/s\u001b[0m eta \u001b[36m0:00:00\u001b[0m\n",
            "\u001b[?25hDownloading mcp-1.9.0-py3-none-any.whl (125 kB)\n",
            "\u001b[2K   \u001b[90m━━━━━━━━━━━━━━━━━━━━━━━━━━━━━━━━━━━━━━━━\u001b[0m \u001b[32m125.1/125.1 kB\u001b[0m \u001b[31m6.2 MB/s\u001b[0m eta \u001b[36m0:00:00\u001b[0m\n",
            "\u001b[?25hDownloading python_dotenv-1.1.0-py3-none-any.whl (20 kB)\n",
            "Downloading rich-14.0.0-py3-none-any.whl (243 kB)\n",
            "\u001b[2K   \u001b[90m━━━━━━━━━━━━━━━━━━━━━━━━━━━━━━━━━━━━━━━━\u001b[0m \u001b[32m243.2/243.2 kB\u001b[0m \u001b[31m11.3 MB/s\u001b[0m eta \u001b[36m0:00:00\u001b[0m\n",
            "\u001b[?25hDownloading httpx_sse-0.4.0-py3-none-any.whl (7.8 kB)\n",
            "Downloading openai-1.75.0-py3-none-any.whl (646 kB)\n",
            "\u001b[2K   \u001b[90m━━━━━━━━━━━━━━━━━━━━━━━━━━━━━━━━━━━━━━━━\u001b[0m \u001b[32m647.0/647.0 kB\u001b[0m \u001b[31m33.1 MB/s\u001b[0m eta \u001b[36m0:00:00\u001b[0m\n",
            "\u001b[?25hDownloading pydantic_settings-2.9.1-py3-none-any.whl (44 kB)\n",
            "\u001b[2K   \u001b[90m━━━━━━━━━━━━━━━━━━━━━━━━━━━━━━━━━━━━━━━━\u001b[0m \u001b[32m44.4/44.4 kB\u001b[0m \u001b[31m3.2 MB/s\u001b[0m eta \u001b[36m0:00:00\u001b[0m\n",
            "\u001b[?25hDownloading python_multipart-0.0.20-py3-none-any.whl (24 kB)\n",
            "Downloading sse_starlette-2.3.5-py3-none-any.whl (10 kB)\n",
            "Downloading starlette-0.46.2-py3-none-any.whl (72 kB)\n",
            "\u001b[2K   \u001b[90m━━━━━━━━━━━━━━━━━━━━━━━━━━━━━━━━━━━━━━━━\u001b[0m \u001b[32m72.0/72.0 kB\u001b[0m \u001b[31m4.9 MB/s\u001b[0m eta \u001b[36m0:00:00\u001b[0m\n",
            "\u001b[?25hDownloading uvicorn-0.34.2-py3-none-any.whl (62 kB)\n",
            "\u001b[2K   \u001b[90m━━━━━━━━━━━━━━━━━━━━━━━━━━━━━━━━━━━━━━━━\u001b[0m \u001b[32m62.5/62.5 kB\u001b[0m \u001b[31m4.1 MB/s\u001b[0m eta \u001b[36m0:00:00\u001b[0m\n",
            "\u001b[?25hInstalling collected packages: uvicorn, python-multipart, python-dotenv, httpx-sse, starlette, rich, sse-starlette, pydantic-settings, openai, mcp, litellm, just-agents-core\n",
            "  Attempting uninstall: rich\n",
            "    Found existing installation: rich 13.9.4\n",
            "    Uninstalling rich-13.9.4:\n",
            "      Successfully uninstalled rich-13.9.4\n",
            "  Attempting uninstall: openai\n",
            "    Found existing installation: openai 1.78.1\n",
            "    Uninstalling openai-1.78.1:\n",
            "      Successfully uninstalled openai-1.78.1\n",
            "\u001b[31mERROR: pip's dependency resolver does not currently take into account all the packages that are installed. This behaviour is the source of the following dependency conflicts.\n",
            "bigframes 2.4.0 requires rich<14,>=12.4.4, but you have rich 14.0.0 which is incompatible.\u001b[0m\u001b[31m\n",
            "\u001b[0mSuccessfully installed httpx-sse-0.4.0 just-agents-core-0.7.3 litellm-1.69.2 mcp-1.9.0 openai-1.75.0 pydantic-settings-2.9.1 python-dotenv-1.1.0 python-multipart-0.0.20 rich-14.0.0 sse-starlette-2.3.5 starlette-0.46.2 uvicorn-0.34.2\n",
            "Collecting just-agents-tools==0.7.3\n",
            "  Downloading just_agents_tools-0.7.3-py3-none-any.whl.metadata (1.7 kB)\n",
            "Collecting semanticscholar>=0.10.0 (from just-agents-tools==0.7.3)\n",
            "  Downloading semanticscholar-0.10.0-py3-none-any.whl.metadata (3.8 kB)\n",
            "Requirement already satisfied: tenacity in /usr/local/lib/python3.11/dist-packages (from semanticscholar>=0.10.0->just-agents-tools==0.7.3) (9.1.2)\n",
            "Requirement already satisfied: httpx in /usr/local/lib/python3.11/dist-packages (from semanticscholar>=0.10.0->just-agents-tools==0.7.3) (0.28.1)\n",
            "Requirement already satisfied: nest_asyncio in /usr/local/lib/python3.11/dist-packages (from semanticscholar>=0.10.0->just-agents-tools==0.7.3) (1.6.0)\n",
            "Requirement already satisfied: anyio in /usr/local/lib/python3.11/dist-packages (from httpx->semanticscholar>=0.10.0->just-agents-tools==0.7.3) (4.9.0)\n",
            "Requirement already satisfied: certifi in /usr/local/lib/python3.11/dist-packages (from httpx->semanticscholar>=0.10.0->just-agents-tools==0.7.3) (2025.4.26)\n",
            "Requirement already satisfied: httpcore==1.* in /usr/local/lib/python3.11/dist-packages (from httpx->semanticscholar>=0.10.0->just-agents-tools==0.7.3) (1.0.9)\n",
            "Requirement already satisfied: idna in /usr/local/lib/python3.11/dist-packages (from httpx->semanticscholar>=0.10.0->just-agents-tools==0.7.3) (3.10)\n",
            "Requirement already satisfied: h11>=0.16 in /usr/local/lib/python3.11/dist-packages (from httpcore==1.*->httpx->semanticscholar>=0.10.0->just-agents-tools==0.7.3) (0.16.0)\n",
            "Requirement already satisfied: sniffio>=1.1 in /usr/local/lib/python3.11/dist-packages (from anyio->httpx->semanticscholar>=0.10.0->just-agents-tools==0.7.3) (1.3.1)\n",
            "Requirement already satisfied: typing_extensions>=4.5 in /usr/local/lib/python3.11/dist-packages (from anyio->httpx->semanticscholar>=0.10.0->just-agents-tools==0.7.3) (4.13.2)\n",
            "Downloading just_agents_tools-0.7.3-py3-none-any.whl (12 kB)\n",
            "Downloading semanticscholar-0.10.0-py3-none-any.whl (22 kB)\n",
            "Installing collected packages: semanticscholar, just-agents-tools\n",
            "Successfully installed just-agents-tools-0.7.3 semanticscholar-0.10.0\n"
          ]
        }
      ],
      "source": [
        "!pip install just-agents-core==0.7.3\n",
        "!pip install just-agents-tools==0.7.3"
      ]
    },
    {
      "cell_type": "code",
      "execution_count": 9,
      "metadata": {
        "colab": {
          "base_uri": "https://localhost:8080/"
        },
        "collapsed": true,
        "id": "ZWr1xcrh8XE_",
        "outputId": "2b38213f-5c7c-497f-da79-ba639af47eef"
      },
      "outputs": [
        {
          "output_type": "stream",
          "name": "stdout",
          "text": [
            "GROQ API key already set in environment.\n"
          ]
        }
      ],
      "source": [
        "import os\n",
        "import getpass\n",
        "from dotenv import load_dotenv\n",
        "\n",
        "def get_api_keys():\n",
        "  \"\"\"Gets API keys from the user.\"\"\"\n",
        "  load_dotenv(override=True)\n",
        "\n",
        "  # Check if GROQ_API_KEY is already set in environment\n",
        "  groq_api_key = os.environ.get(\"GROQ_API_KEY\")\n",
        "  openai_api_key = os.environ.get(\"OPENAI_API_KEY\")\n",
        "\n",
        "  # Only prompt for key if not already set\n",
        "  if not groq_api_key:\n",
        "    print(\"Please enter your API keys:\")\n",
        "    groq_api_key = getpass.getpass(\"GROQ_API_KEY: \")\n",
        "    # Set environment variable\n",
        "    os.environ[\"GROQ_API_KEY\"] = groq_api_key\n",
        "    print(\"GROQ_API key set successfully.\")\n",
        "  else:\n",
        "    print(\"GROQ API key already set in environment.\")\n",
        "\n",
        "\n",
        "# Call the function to get API keys from the user\n",
        "get_api_keys()"
      ]
    },
    {
      "cell_type": "markdown",
      "metadata": {
        "id": "Mvsbn4V7nkPr"
      },
      "source": [
        "The following code just allows for user to see all comands and text outputed in the interface- it is needed to see all that comes out if the output is large."
      ]
    },
    {
      "cell_type": "code",
      "execution_count": 6,
      "metadata": {
        "id": "LCwo282bEAMb"
      },
      "outputs": [],
      "source": [
        "from IPython.core.interactiveshell import InteractiveShell\n",
        "InteractiveShell.ast_node_interactivity = \"all\"\n"
      ]
    },
    {
      "cell_type": "markdown",
      "metadata": {
        "id": "ZMHmYMDG6kwq"
      },
      "source": [
        "Then we will create a simple agent that will use the db_query function as a tool and will answer questions which involve the database"
      ]
    },
    {
      "cell_type": "markdown",
      "metadata": {
        "id": "5iPvx0eN6v1M"
      },
      "source": [
        "Let's ask the agent some simple questions"
      ]
    },
    {
      "cell_type": "code",
      "execution_count": 10,
      "metadata": {
        "colab": {
          "base_uri": "https://localhost:8080/",
          "height": 807
        },
        "collapsed": true,
        "id": "aiC6qF026yFA",
        "outputId": "a89110d6-ea14-49de-f25c-c0491e7fe09a"
      },
      "outputs": [
        {
          "output_type": "stream",
          "name": "stdout",
          "text": [
            "\n",
            "\u001b[1;31mGive Feedback / Get Help: https://github.com/BerriAI/litellm/issues/new\u001b[0m\n",
            "LiteLLM.Info: If you need to debug this error, use `litellm._turn_on_debug()'.\n",
            "\n",
            "\n",
            "\u001b[1;31mProvider List: https://docs.litellm.ai/docs/providers\u001b[0m\n",
            "\n",
            "\n",
            "\u001b[1;31mGive Feedback / Get Help: https://github.com/BerriAI/litellm/issues/new\u001b[0m\n",
            "LiteLLM.Info: If you need to debug this error, use `litellm._turn_on_debug()'.\n",
            "\n",
            "\n",
            "\u001b[1;31mProvider List: https://docs.litellm.ai/docs/providers\u001b[0m\n",
            "\n"
          ]
        },
        {
          "output_type": "error",
          "ename": "ServiceUnavailableError",
          "evalue": "litellm.ServiceUnavailableError: ServiceUnavailableError: GroqException - {\"error\":{\"message\":\"Service Unavailable\",\"type\":\"internal_server_error\"}}\n",
          "traceback": [
            "\u001b[0;31m---------------------------------------------------------------------------\u001b[0m",
            "\u001b[0;31mHTTPStatusError\u001b[0m                           Traceback (most recent call last)",
            "\u001b[0;32m/usr/local/lib/python3.11/dist-packages/litellm/llms/custom_httpx/llm_http_handler.py\u001b[0m in \u001b[0;36m_make_common_sync_call\u001b[0;34m(self, sync_httpx_client, provider_config, api_base, headers, data, timeout, litellm_params, logging_obj, stream, signed_json_body)\u001b[0m\n\u001b[1;32m    150\u001b[0m             \u001b[0;32mtry\u001b[0m\u001b[0;34m:\u001b[0m\u001b[0;34m\u001b[0m\u001b[0;34m\u001b[0m\u001b[0m\n\u001b[0;32m--> 151\u001b[0;31m                 response = sync_httpx_client.post(\n\u001b[0m\u001b[1;32m    152\u001b[0m                     \u001b[0murl\u001b[0m\u001b[0;34m=\u001b[0m\u001b[0mapi_base\u001b[0m\u001b[0;34m,\u001b[0m\u001b[0;34m\u001b[0m\u001b[0;34m\u001b[0m\u001b[0m\n",
            "\u001b[0;32m/usr/local/lib/python3.11/dist-packages/litellm/llms/custom_httpx/http_handler.py\u001b[0m in \u001b[0;36mpost\u001b[0;34m(self, url, data, json, params, headers, stream, timeout, files, content, logging_obj)\u001b[0m\n\u001b[1;32m    575\u001b[0m             \u001b[0msetattr\u001b[0m\u001b[0;34m(\u001b[0m\u001b[0me\u001b[0m\u001b[0;34m,\u001b[0m \u001b[0;34m\"status_code\"\u001b[0m\u001b[0;34m,\u001b[0m \u001b[0me\u001b[0m\u001b[0;34m.\u001b[0m\u001b[0mresponse\u001b[0m\u001b[0;34m.\u001b[0m\u001b[0mstatus_code\u001b[0m\u001b[0;34m)\u001b[0m\u001b[0;34m\u001b[0m\u001b[0;34m\u001b[0m\u001b[0m\n\u001b[0;32m--> 576\u001b[0;31m             \u001b[0;32mraise\u001b[0m \u001b[0me\u001b[0m\u001b[0;34m\u001b[0m\u001b[0;34m\u001b[0m\u001b[0m\n\u001b[0m\u001b[1;32m    577\u001b[0m         \u001b[0;32mexcept\u001b[0m \u001b[0mException\u001b[0m \u001b[0;32mas\u001b[0m \u001b[0me\u001b[0m\u001b[0;34m:\u001b[0m\u001b[0;34m\u001b[0m\u001b[0;34m\u001b[0m\u001b[0m\n",
            "\u001b[0;32m/usr/local/lib/python3.11/dist-packages/litellm/llms/custom_httpx/http_handler.py\u001b[0m in \u001b[0;36mpost\u001b[0;34m(self, url, data, json, params, headers, stream, timeout, files, content, logging_obj)\u001b[0m\n\u001b[1;32m    557\u001b[0m             \u001b[0mresponse\u001b[0m \u001b[0;34m=\u001b[0m \u001b[0mself\u001b[0m\u001b[0;34m.\u001b[0m\u001b[0mclient\u001b[0m\u001b[0;34m.\u001b[0m\u001b[0msend\u001b[0m\u001b[0;34m(\u001b[0m\u001b[0mreq\u001b[0m\u001b[0;34m,\u001b[0m \u001b[0mstream\u001b[0m\u001b[0;34m=\u001b[0m\u001b[0mstream\u001b[0m\u001b[0;34m)\u001b[0m\u001b[0;34m\u001b[0m\u001b[0;34m\u001b[0m\u001b[0m\n\u001b[0;32m--> 558\u001b[0;31m             \u001b[0mresponse\u001b[0m\u001b[0;34m.\u001b[0m\u001b[0mraise_for_status\u001b[0m\u001b[0;34m(\u001b[0m\u001b[0;34m)\u001b[0m\u001b[0;34m\u001b[0m\u001b[0;34m\u001b[0m\u001b[0m\n\u001b[0m\u001b[1;32m    559\u001b[0m             \u001b[0;32mreturn\u001b[0m \u001b[0mresponse\u001b[0m\u001b[0;34m\u001b[0m\u001b[0;34m\u001b[0m\u001b[0m\n",
            "\u001b[0;32m/usr/local/lib/python3.11/dist-packages/httpx/_models.py\u001b[0m in \u001b[0;36mraise_for_status\u001b[0;34m(self)\u001b[0m\n\u001b[1;32m    828\u001b[0m         \u001b[0mmessage\u001b[0m \u001b[0;34m=\u001b[0m \u001b[0mmessage\u001b[0m\u001b[0;34m.\u001b[0m\u001b[0mformat\u001b[0m\u001b[0;34m(\u001b[0m\u001b[0mself\u001b[0m\u001b[0;34m,\u001b[0m \u001b[0merror_type\u001b[0m\u001b[0;34m=\u001b[0m\u001b[0merror_type\u001b[0m\u001b[0;34m)\u001b[0m\u001b[0;34m\u001b[0m\u001b[0;34m\u001b[0m\u001b[0m\n\u001b[0;32m--> 829\u001b[0;31m         \u001b[0;32mraise\u001b[0m \u001b[0mHTTPStatusError\u001b[0m\u001b[0;34m(\u001b[0m\u001b[0mmessage\u001b[0m\u001b[0;34m,\u001b[0m \u001b[0mrequest\u001b[0m\u001b[0;34m=\u001b[0m\u001b[0mrequest\u001b[0m\u001b[0;34m,\u001b[0m \u001b[0mresponse\u001b[0m\u001b[0;34m=\u001b[0m\u001b[0mself\u001b[0m\u001b[0;34m)\u001b[0m\u001b[0;34m\u001b[0m\u001b[0;34m\u001b[0m\u001b[0m\n\u001b[0m\u001b[1;32m    830\u001b[0m \u001b[0;34m\u001b[0m\u001b[0m\n",
            "\u001b[0;31mHTTPStatusError\u001b[0m: Server error '503 Service Unavailable' for url 'https://api.groq.com/openai/v1/chat/completions'\nFor more information check: https://developer.mozilla.org/en-US/docs/Web/HTTP/Status/503",
            "\nDuring handling of the above exception, another exception occurred:\n",
            "\u001b[0;31mOpenAIError\u001b[0m                               Traceback (most recent call last)",
            "\u001b[0;32m/usr/local/lib/python3.11/dist-packages/litellm/main.py\u001b[0m in \u001b[0;36mcompletion\u001b[0;34m(model, messages, timeout, temperature, top_p, n, stream, stream_options, stop, max_completion_tokens, max_tokens, modalities, prediction, audio, presence_penalty, frequency_penalty, logit_bias, user, reasoning_effort, response_format, seed, tools, tool_choice, logprobs, top_logprobs, parallel_tool_calls, deployment_id, extra_headers, functions, function_call, base_url, api_version, api_key, model_list, thinking, **kwargs)\u001b[0m\n\u001b[1;32m   1690\u001b[0m \u001b[0;34m\u001b[0m\u001b[0m\n\u001b[0;32m-> 1691\u001b[0;31m             response = base_llm_http_handler.completion(\n\u001b[0m\u001b[1;32m   1692\u001b[0m                 \u001b[0mmodel\u001b[0m\u001b[0;34m=\u001b[0m\u001b[0mmodel\u001b[0m\u001b[0;34m,\u001b[0m\u001b[0;34m\u001b[0m\u001b[0;34m\u001b[0m\u001b[0m\n",
            "\u001b[0;32m/usr/local/lib/python3.11/dist-packages/litellm/llms/custom_httpx/llm_http_handler.py\u001b[0m in \u001b[0;36mcompletion\u001b[0;34m(self, model, messages, api_base, custom_llm_provider, model_response, encoding, logging_obj, optional_params, timeout, litellm_params, acompletion, stream, fake_stream, api_key, headers, client, provider_config)\u001b[0m\n\u001b[1;32m    438\u001b[0m \u001b[0;34m\u001b[0m\u001b[0m\n\u001b[0;32m--> 439\u001b[0;31m         response = self._make_common_sync_call(\n\u001b[0m\u001b[1;32m    440\u001b[0m             \u001b[0msync_httpx_client\u001b[0m\u001b[0;34m=\u001b[0m\u001b[0msync_httpx_client\u001b[0m\u001b[0;34m,\u001b[0m\u001b[0;34m\u001b[0m\u001b[0;34m\u001b[0m\u001b[0m\n",
            "\u001b[0;32m/usr/local/lib/python3.11/dist-packages/litellm/llms/custom_httpx/llm_http_handler.py\u001b[0m in \u001b[0;36m_make_common_sync_call\u001b[0;34m(self, sync_httpx_client, provider_config, api_base, headers, data, timeout, litellm_params, logging_obj, stream, signed_json_body)\u001b[0m\n\u001b[1;32m    175\u001b[0m                 \u001b[0;32melse\u001b[0m\u001b[0;34m:\u001b[0m\u001b[0;34m\u001b[0m\u001b[0;34m\u001b[0m\u001b[0m\n\u001b[0;32m--> 176\u001b[0;31m                     \u001b[0;32mraise\u001b[0m \u001b[0mself\u001b[0m\u001b[0;34m.\u001b[0m\u001b[0m_handle_error\u001b[0m\u001b[0;34m(\u001b[0m\u001b[0me\u001b[0m\u001b[0;34m=\u001b[0m\u001b[0me\u001b[0m\u001b[0;34m,\u001b[0m \u001b[0mprovider_config\u001b[0m\u001b[0;34m=\u001b[0m\u001b[0mprovider_config\u001b[0m\u001b[0;34m)\u001b[0m\u001b[0;34m\u001b[0m\u001b[0;34m\u001b[0m\u001b[0m\n\u001b[0m\u001b[1;32m    177\u001b[0m             \u001b[0;32mexcept\u001b[0m \u001b[0mException\u001b[0m \u001b[0;32mas\u001b[0m \u001b[0me\u001b[0m\u001b[0;34m:\u001b[0m\u001b[0;34m\u001b[0m\u001b[0;34m\u001b[0m\u001b[0m\n",
            "\u001b[0;32m/usr/local/lib/python3.11/dist-packages/litellm/llms/custom_httpx/llm_http_handler.py\u001b[0m in \u001b[0;36m_handle_error\u001b[0;34m(self, e, provider_config)\u001b[0m\n\u001b[1;32m   2028\u001b[0m             \u001b[0merror_headers\u001b[0m \u001b[0;34m=\u001b[0m \u001b[0;34m{\u001b[0m\u001b[0;34m}\u001b[0m\u001b[0;34m\u001b[0m\u001b[0;34m\u001b[0m\u001b[0m\n\u001b[0;32m-> 2029\u001b[0;31m         raise provider_config.get_error_class(\n\u001b[0m\u001b[1;32m   2030\u001b[0m             \u001b[0merror_message\u001b[0m\u001b[0;34m=\u001b[0m\u001b[0merror_text\u001b[0m\u001b[0;34m,\u001b[0m\u001b[0;34m\u001b[0m\u001b[0;34m\u001b[0m\u001b[0m\n",
            "\u001b[0;31mOpenAIError\u001b[0m: {\"error\":{\"message\":\"Service Unavailable\",\"type\":\"internal_server_error\"}}\n",
            "\nDuring handling of the above exception, another exception occurred:\n",
            "\u001b[0;31mServiceUnavailableError\u001b[0m                   Traceback (most recent call last)",
            "\u001b[0;32m<ipython-input-10-7880364f37cc>\u001b[0m in \u001b[0;36m<cell line: 0>\u001b[0;34m()\u001b[0m\n\u001b[1;32m     13\u001b[0m \u001b[0;34m\u001b[0m\u001b[0m\n\u001b[1;32m     14\u001b[0m \u001b[0;34m\u001b[0m\u001b[0m\n\u001b[0;32m---> 15\u001b[0;31m \u001b[0mresult\u001b[0m \u001b[0;34m=\u001b[0m \u001b[0msession\u001b[0m\u001b[0;34m.\u001b[0m\u001b[0mquery\u001b[0m\u001b[0;34m(\u001b[0m\u001b[0mprompt\u001b[0m\u001b[0;34m)\u001b[0m\u001b[0;34m\u001b[0m\u001b[0;34m\u001b[0m\u001b[0m\n\u001b[0m\u001b[1;32m     16\u001b[0m \u001b[0;34m\u001b[0m\u001b[0m\n\u001b[1;32m     17\u001b[0m \u001b[0msession\u001b[0m\u001b[0;34m.\u001b[0m\u001b[0mmemory\u001b[0m\u001b[0;34m.\u001b[0m\u001b[0mpretty_print_all_messages\u001b[0m\u001b[0;34m(\u001b[0m\u001b[0;34m)\u001b[0m\u001b[0;34m\u001b[0m\u001b[0;34m\u001b[0m\u001b[0m\n",
            "\u001b[0;32m/usr/local/lib/python3.11/dist-packages/just_agents/base_agent.py\u001b[0m in \u001b[0;36mquery\u001b[0;34m(self, query_input, send_system_prompt, enforce_agent_prompt, continue_conversation, remember_query, response_format, **kwargs)\u001b[0m\n\u001b[1;32m    543\u001b[0m                     \u001b[0moptions_for_this_step\u001b[0m \u001b[0;34m=\u001b[0m \u001b[0mself\u001b[0m\u001b[0;34m.\u001b[0m\u001b[0mbackup_options\u001b[0m\u001b[0;34m\u001b[0m\u001b[0;34m\u001b[0m\u001b[0m\n\u001b[1;32m    544\u001b[0m \u001b[0;34m\u001b[0m\u001b[0m\n\u001b[0;32m--> 545\u001b[0;31m             response = self._execute_completion(\n\u001b[0m\u001b[1;32m    546\u001b[0m                 \u001b[0mmemory\u001b[0m\u001b[0;34m.\u001b[0m\u001b[0mmessages\u001b[0m\u001b[0;34m,\u001b[0m\u001b[0;34m\u001b[0m\u001b[0;34m\u001b[0m\u001b[0m\n\u001b[1;32m    547\u001b[0m                 \u001b[0mstream\u001b[0m\u001b[0;34m=\u001b[0m\u001b[0;32mFalse\u001b[0m\u001b[0;34m,\u001b[0m\u001b[0;34m\u001b[0m\u001b[0;34m\u001b[0m\u001b[0m\n",
            "\u001b[0;32m/usr/local/lib/python3.11/dist-packages/just_agents/base_agent.py\u001b[0m in \u001b[0;36m_execute_completion\u001b[0;34m(self, messages, stream, active_options_for_this_call, **kwargs)\u001b[0m\n\u001b[1;32m    441\u001b[0m \u001b[0;34m\u001b[0m\u001b[0m\n\u001b[1;32m    442\u001b[0m         \u001b[0;32mif\u001b[0m \u001b[0mlast_exception\u001b[0m\u001b[0;34m:\u001b[0m\u001b[0;34m\u001b[0m\u001b[0;34m\u001b[0m\u001b[0m\n\u001b[0;32m--> 443\u001b[0;31m             \u001b[0;32mraise\u001b[0m \u001b[0mlast_exception\u001b[0m\u001b[0;34m\u001b[0m\u001b[0;34m\u001b[0m\u001b[0m\n\u001b[0m\u001b[1;32m    444\u001b[0m         \u001b[0;32melse\u001b[0m\u001b[0;34m:\u001b[0m\u001b[0;34m\u001b[0m\u001b[0;34m\u001b[0m\u001b[0m\n\u001b[1;32m    445\u001b[0m             \u001b[0;32mraise\u001b[0m \u001b[0mRuntimeError\u001b[0m\u001b[0;34m(\u001b[0m\u001b[0;34m\"Completion failed after all attempts, but no specific exception was caught.\"\u001b[0m\u001b[0;34m)\u001b[0m\u001b[0;34m\u001b[0m\u001b[0;34m\u001b[0m\u001b[0m\n",
            "\u001b[0;32m/usr/local/lib/python3.11/dist-packages/just_agents/base_agent.py\u001b[0m in \u001b[0;36m_execute_completion\u001b[0;34m(self, messages, stream, active_options_for_this_call, **kwargs)\u001b[0m\n\u001b[1;32m    409\u001b[0m                 \u001b[0;32mtry\u001b[0m\u001b[0;34m:\u001b[0m\u001b[0;34m\u001b[0m\u001b[0;34m\u001b[0m\u001b[0m\n\u001b[1;32m    410\u001b[0m                     \u001b[0;31m# Only one call site for completion, for both primary and backup options\u001b[0m\u001b[0;34m\u001b[0m\u001b[0;34m\u001b[0m\u001b[0m\n\u001b[0;32m--> 411\u001b[0;31m                     return self._protocol.completion(\n\u001b[0m\u001b[1;32m    412\u001b[0m                         \u001b[0mdrop_params\u001b[0m\u001b[0;34m=\u001b[0m\u001b[0mself\u001b[0m\u001b[0;34m.\u001b[0m\u001b[0mdrop_unsupported_params\u001b[0m\u001b[0;34m,\u001b[0m\u001b[0;34m\u001b[0m\u001b[0;34m\u001b[0m\u001b[0m\n\u001b[1;32m    413\u001b[0m                         \u001b[0mraise_on_completion_status_errors\u001b[0m\u001b[0;34m=\u001b[0m\u001b[0mself\u001b[0m\u001b[0;34m.\u001b[0m\u001b[0mraise_on_completion_status_errors\u001b[0m\u001b[0;34m,\u001b[0m\u001b[0;34m\u001b[0m\u001b[0;34m\u001b[0m\u001b[0m\n",
            "\u001b[0;32m/usr/local/lib/python3.11/dist-packages/just_agents/protocols/litellm_protocol.py\u001b[0m in \u001b[0;36mcompletion\u001b[0;34m(self, *args, **kwargs)\u001b[0m\n\u001b[1;32m    277\u001b[0m             )\n\u001b[1;32m    278\u001b[0m             \u001b[0;32mif\u001b[0m \u001b[0mraise_on_completion_status_errors\u001b[0m\u001b[0;34m:\u001b[0m\u001b[0;34m\u001b[0m\u001b[0;34m\u001b[0m\u001b[0m\n\u001b[0;32m--> 279\u001b[0;31m                 \u001b[0;32mraise\u001b[0m \u001b[0me\u001b[0m\u001b[0;34m\u001b[0m\u001b[0;34m\u001b[0m\u001b[0m\n\u001b[0m\u001b[1;32m    280\u001b[0m             \u001b[0;32mif\u001b[0m \u001b[0mstream\u001b[0m\u001b[0;34m:\u001b[0m\u001b[0;34m\u001b[0m\u001b[0;34m\u001b[0m\u001b[0m\n\u001b[1;32m    281\u001b[0m                 \u001b[0;32mreturn\u001b[0m \u001b[0mself\u001b[0m\u001b[0;34m.\u001b[0m\u001b[0mcreate_streaming_chunks_from_text_wrapper\u001b[0m\u001b[0;34m(\u001b[0m\u001b[0mstr\u001b[0m\u001b[0;34m(\u001b[0m\u001b[0me\u001b[0m\u001b[0;34m)\u001b[0m\u001b[0;34m,\u001b[0m\u001b[0mmodel\u001b[0m\u001b[0;34m,\u001b[0m\u001b[0mformat_as_sse\u001b[0m\u001b[0;34m=\u001b[0m\u001b[0;32mFalse\u001b[0m\u001b[0;34m)\u001b[0m\u001b[0;34m\u001b[0m\u001b[0;34m\u001b[0m\u001b[0m\n",
            "\u001b[0;32m/usr/local/lib/python3.11/dist-packages/just_agents/protocols/litellm_protocol.py\u001b[0m in \u001b[0;36mcompletion\u001b[0;34m(self, *args, **kwargs)\u001b[0m\n\u001b[1;32m    266\u001b[0m         \u001b[0msource\u001b[0m \u001b[0;34m=\u001b[0m \u001b[0;34mf\"{self.log_name}.completion\"\u001b[0m\u001b[0;34m\u001b[0m\u001b[0;34m\u001b[0m\u001b[0m\n\u001b[1;32m    267\u001b[0m         \u001b[0;32mtry\u001b[0m\u001b[0;34m:\u001b[0m\u001b[0;34m\u001b[0m\u001b[0;34m\u001b[0m\u001b[0m\n\u001b[0;32m--> 268\u001b[0;31m             \u001b[0;32mreturn\u001b[0m \u001b[0mcompletion\u001b[0m\u001b[0;34m(\u001b[0m\u001b[0;34m*\u001b[0m\u001b[0margs\u001b[0m\u001b[0;34m,\u001b[0m \u001b[0;34m**\u001b[0m\u001b[0mkwargs\u001b[0m\u001b[0;34m)\u001b[0m\u001b[0;34m\u001b[0m\u001b[0;34m\u001b[0m\u001b[0m\n\u001b[0m\u001b[1;32m    269\u001b[0m         \u001b[0;32mexcept\u001b[0m \u001b[0mAPIStatusError\u001b[0m \u001b[0;32mas\u001b[0m \u001b[0me\u001b[0m\u001b[0;34m:\u001b[0m\u001b[0;34m\u001b[0m\u001b[0;34m\u001b[0m\u001b[0m\n\u001b[1;32m    270\u001b[0m             self._log_bus.error(\n",
            "\u001b[0;32m/usr/local/lib/python3.11/dist-packages/litellm/utils.py\u001b[0m in \u001b[0;36mwrapper\u001b[0;34m(*args, **kwargs)\u001b[0m\n\u001b[1;32m   1277\u001b[0m                     \u001b[0me\u001b[0m\u001b[0;34m,\u001b[0m \u001b[0mtraceback_exception\u001b[0m\u001b[0;34m,\u001b[0m \u001b[0mstart_time\u001b[0m\u001b[0;34m,\u001b[0m \u001b[0mend_time\u001b[0m\u001b[0;34m\u001b[0m\u001b[0;34m\u001b[0m\u001b[0m\n\u001b[1;32m   1278\u001b[0m                 )  # DO NOT MAKE THREADED - router retry fallback relies on this!\n\u001b[0;32m-> 1279\u001b[0;31m             \u001b[0;32mraise\u001b[0m \u001b[0me\u001b[0m\u001b[0;34m\u001b[0m\u001b[0;34m\u001b[0m\u001b[0m\n\u001b[0m\u001b[1;32m   1280\u001b[0m \u001b[0;34m\u001b[0m\u001b[0m\n\u001b[1;32m   1281\u001b[0m     \u001b[0;34m@\u001b[0m\u001b[0mwraps\u001b[0m\u001b[0;34m(\u001b[0m\u001b[0moriginal_function\u001b[0m\u001b[0;34m)\u001b[0m\u001b[0;34m\u001b[0m\u001b[0;34m\u001b[0m\u001b[0m\n",
            "\u001b[0;32m/usr/local/lib/python3.11/dist-packages/litellm/utils.py\u001b[0m in \u001b[0;36mwrapper\u001b[0;34m(*args, **kwargs)\u001b[0m\n\u001b[1;32m   1155\u001b[0m                     \u001b[0mprint_verbose\u001b[0m\u001b[0;34m(\u001b[0m\u001b[0;34mf\"Error while checking max token limit: {str(e)}\"\u001b[0m\u001b[0;34m)\u001b[0m\u001b[0;34m\u001b[0m\u001b[0;34m\u001b[0m\u001b[0m\n\u001b[1;32m   1156\u001b[0m             \u001b[0;31m# MODEL CALL\u001b[0m\u001b[0;34m\u001b[0m\u001b[0;34m\u001b[0m\u001b[0m\n\u001b[0;32m-> 1157\u001b[0;31m             \u001b[0mresult\u001b[0m \u001b[0;34m=\u001b[0m \u001b[0moriginal_function\u001b[0m\u001b[0;34m(\u001b[0m\u001b[0;34m*\u001b[0m\u001b[0margs\u001b[0m\u001b[0;34m,\u001b[0m \u001b[0;34m**\u001b[0m\u001b[0mkwargs\u001b[0m\u001b[0;34m)\u001b[0m\u001b[0;34m\u001b[0m\u001b[0;34m\u001b[0m\u001b[0m\n\u001b[0m\u001b[1;32m   1158\u001b[0m             \u001b[0mend_time\u001b[0m \u001b[0;34m=\u001b[0m \u001b[0mdatetime\u001b[0m\u001b[0;34m.\u001b[0m\u001b[0mdatetime\u001b[0m\u001b[0;34m.\u001b[0m\u001b[0mnow\u001b[0m\u001b[0;34m(\u001b[0m\u001b[0;34m)\u001b[0m\u001b[0;34m\u001b[0m\u001b[0;34m\u001b[0m\u001b[0m\n\u001b[1;32m   1159\u001b[0m             \u001b[0;32mif\u001b[0m \u001b[0;34m\"stream\"\u001b[0m \u001b[0;32min\u001b[0m \u001b[0mkwargs\u001b[0m \u001b[0;32mand\u001b[0m \u001b[0mkwargs\u001b[0m\u001b[0;34m[\u001b[0m\u001b[0;34m\"stream\"\u001b[0m\u001b[0;34m]\u001b[0m \u001b[0;32mis\u001b[0m \u001b[0;32mTrue\u001b[0m\u001b[0;34m:\u001b[0m\u001b[0;34m\u001b[0m\u001b[0;34m\u001b[0m\u001b[0m\n",
            "\u001b[0;32m/usr/local/lib/python3.11/dist-packages/litellm/main.py\u001b[0m in \u001b[0;36mcompletion\u001b[0;34m(model, messages, timeout, temperature, top_p, n, stream, stream_options, stop, max_completion_tokens, max_tokens, modalities, prediction, audio, presence_penalty, frequency_penalty, logit_bias, user, reasoning_effort, response_format, seed, tools, tool_choice, logprobs, top_logprobs, parallel_tool_calls, deployment_id, extra_headers, functions, function_call, base_url, api_version, api_key, model_list, thinking, **kwargs)\u001b[0m\n\u001b[1;32m   3218\u001b[0m     \u001b[0;32mexcept\u001b[0m \u001b[0mException\u001b[0m \u001b[0;32mas\u001b[0m \u001b[0me\u001b[0m\u001b[0;34m:\u001b[0m\u001b[0;34m\u001b[0m\u001b[0;34m\u001b[0m\u001b[0m\n\u001b[1;32m   3219\u001b[0m         \u001b[0;31m## Map to OpenAI Exception\u001b[0m\u001b[0;34m\u001b[0m\u001b[0;34m\u001b[0m\u001b[0m\n\u001b[0;32m-> 3220\u001b[0;31m         raise exception_type(\n\u001b[0m\u001b[1;32m   3221\u001b[0m             \u001b[0mmodel\u001b[0m\u001b[0;34m=\u001b[0m\u001b[0mmodel\u001b[0m\u001b[0;34m,\u001b[0m\u001b[0;34m\u001b[0m\u001b[0;34m\u001b[0m\u001b[0m\n\u001b[1;32m   3222\u001b[0m             \u001b[0mcustom_llm_provider\u001b[0m\u001b[0;34m=\u001b[0m\u001b[0mcustom_llm_provider\u001b[0m\u001b[0;34m,\u001b[0m\u001b[0;34m\u001b[0m\u001b[0;34m\u001b[0m\u001b[0m\n",
            "\u001b[0;32m/usr/local/lib/python3.11/dist-packages/litellm/litellm_core_utils/exception_mapping_utils.py\u001b[0m in \u001b[0;36mexception_type\u001b[0;34m(model, original_exception, custom_llm_provider, completion_kwargs, extra_kwargs)\u001b[0m\n\u001b[1;32m   2230\u001b[0m         \u001b[0;32mif\u001b[0m \u001b[0mexception_mapping_worked\u001b[0m\u001b[0;34m:\u001b[0m\u001b[0;34m\u001b[0m\u001b[0;34m\u001b[0m\u001b[0m\n\u001b[1;32m   2231\u001b[0m             \u001b[0msetattr\u001b[0m\u001b[0;34m(\u001b[0m\u001b[0me\u001b[0m\u001b[0;34m,\u001b[0m \u001b[0;34m\"litellm_response_headers\"\u001b[0m\u001b[0;34m,\u001b[0m \u001b[0mlitellm_response_headers\u001b[0m\u001b[0;34m)\u001b[0m\u001b[0;34m\u001b[0m\u001b[0;34m\u001b[0m\u001b[0m\n\u001b[0;32m-> 2232\u001b[0;31m             \u001b[0;32mraise\u001b[0m \u001b[0me\u001b[0m\u001b[0;34m\u001b[0m\u001b[0;34m\u001b[0m\u001b[0m\n\u001b[0m\u001b[1;32m   2233\u001b[0m         \u001b[0;32melse\u001b[0m\u001b[0;34m:\u001b[0m\u001b[0;34m\u001b[0m\u001b[0;34m\u001b[0m\u001b[0m\n\u001b[1;32m   2234\u001b[0m             \u001b[0;32mfor\u001b[0m \u001b[0merror_type\u001b[0m \u001b[0;32min\u001b[0m \u001b[0mlitellm\u001b[0m\u001b[0;34m.\u001b[0m\u001b[0mLITELLM_EXCEPTION_TYPES\u001b[0m\u001b[0;34m:\u001b[0m\u001b[0;34m\u001b[0m\u001b[0;34m\u001b[0m\u001b[0m\n",
            "\u001b[0;32m/usr/local/lib/python3.11/dist-packages/litellm/litellm_core_utils/exception_mapping_utils.py\u001b[0m in \u001b[0;36mexception_type\u001b[0;34m(model, original_exception, custom_llm_provider, completion_kwargs, extra_kwargs)\u001b[0m\n\u001b[1;32m    447\u001b[0m                     \u001b[0;32melif\u001b[0m \u001b[0moriginal_exception\u001b[0m\u001b[0;34m.\u001b[0m\u001b[0mstatus_code\u001b[0m \u001b[0;34m==\u001b[0m \u001b[0;36m503\u001b[0m\u001b[0;34m:\u001b[0m\u001b[0;34m\u001b[0m\u001b[0;34m\u001b[0m\u001b[0m\n\u001b[1;32m    448\u001b[0m                         \u001b[0mexception_mapping_worked\u001b[0m \u001b[0;34m=\u001b[0m \u001b[0;32mTrue\u001b[0m\u001b[0;34m\u001b[0m\u001b[0;34m\u001b[0m\u001b[0m\n\u001b[0;32m--> 449\u001b[0;31m                         raise ServiceUnavailableError(\n\u001b[0m\u001b[1;32m    450\u001b[0m                             \u001b[0mmessage\u001b[0m\u001b[0;34m=\u001b[0m\u001b[0;34mf\"ServiceUnavailableError: {exception_provider} - {message}\"\u001b[0m\u001b[0;34m,\u001b[0m\u001b[0;34m\u001b[0m\u001b[0;34m\u001b[0m\u001b[0m\n\u001b[1;32m    451\u001b[0m                             \u001b[0mmodel\u001b[0m\u001b[0;34m=\u001b[0m\u001b[0mmodel\u001b[0m\u001b[0;34m,\u001b[0m\u001b[0;34m\u001b[0m\u001b[0;34m\u001b[0m\u001b[0m\n",
            "\u001b[0;31mServiceUnavailableError\u001b[0m: litellm.ServiceUnavailableError: ServiceUnavailableError: GroqException - {\"error\":{\"message\":\"Service Unavailable\",\"type\":\"internal_server_error\"}}\n"
          ]
        }
      ],
      "source": [
        "from just_agents import llm_options\n",
        "from just_agents.base_agent import BaseAgent\n",
        "\n",
        "\n",
        "\n",
        "\n",
        "prompt = \"What processes are improved in GHR knockout mice?\"\n",
        "\n",
        "session: BaseAgent = BaseAgent(\n",
        "    llm_options=llm_options.LLAMA4_SCOUT,\n",
        "    tools=[db_query]\n",
        ")\n",
        "\n",
        "\n",
        "result = session.query(prompt)\n",
        "\n",
        "session.memory.pretty_print_all_messages()"
      ]
    },
    {
      "cell_type": "markdown",
      "metadata": {
        "id": "PVcJsmb-61gQ"
      },
      "source": [
        "It got this question right, but what if we want to know \"Interventions on which genes extended mice lifespan most of all?\""
      ]
    },
    {
      "cell_type": "code",
      "execution_count": null,
      "metadata": {
        "colab": {
          "base_uri": "https://localhost:8080/"
        },
        "collapsed": true,
        "id": "M3fDkAfu650w",
        "outputId": "9d5bc5b0-6e22-46a6-b0a4-44ad37317a73"
      },
      "outputs": [
        {
          "data": {
            "text/html": [
              "<pre style=\"white-space:pre;overflow-x:auto;line-height:normal;font-family:Menlo,'DejaVu Sans Mono',consolas,'Courier New',monospace\"><span style=\"color: #ffff00; text-decoration-color: #ffff00\">╭───────────────────────────────────────────────────</span><span style=\"color: #808000; text-decoration-color: #808000; font-weight: bold\"> [System] </span><span style=\"color: #ffff00; text-decoration-color: #ffff00\">────────────────────────────────────────────────────╮</span>\n",
              "<span style=\"color: #ffff00; text-decoration-color: #ffff00\">│</span> You are a helpful AI assistant                                                                                  <span style=\"color: #ffff00; text-decoration-color: #ffff00\">│</span>\n",
              "<span style=\"color: #ffff00; text-decoration-color: #ffff00\">╰─────────────────────────────────────────────────────────────────────────────────────────────────────────────────╯</span>\n",
              "</pre>\n"
            ],
            "text/plain": [
              "\u001b[93m╭─\u001b[0m\u001b[93m──────────────────────────────────────────────────\u001b[0m\u001b[1;33m [System] \u001b[0m\u001b[93m───────────────────────────────────────────────────\u001b[0m\u001b[93m─╮\u001b[0m\n",
              "\u001b[93m│\u001b[0m You are a helpful AI assistant                                                                                  \u001b[93m│\u001b[0m\n",
              "\u001b[93m╰─────────────────────────────────────────────────────────────────────────────────────────────────────────────────╯\u001b[0m\n"
            ]
          },
          "metadata": {},
          "output_type": "display_data"
        },
        {
          "data": {
            "text/html": [
              "<pre style=\"white-space:pre;overflow-x:auto;line-height:normal;font-family:Menlo,'DejaVu Sans Mono',consolas,'Courier New',monospace\"><span style=\"color: #00ff00; text-decoration-color: #00ff00\">╭────────────────────────────────────────────────────</span><span style=\"color: #008000; text-decoration-color: #008000; font-weight: bold\"> [User] </span><span style=\"color: #00ff00; text-decoration-color: #00ff00\">─────────────────────────────────────────────────────╮</span>\n",
              "<span style=\"color: #00ff00; text-decoration-color: #00ff00\">│</span> Interventions on which genes extended mice lifespan most of all?                                                <span style=\"color: #00ff00; text-decoration-color: #00ff00\">│</span>\n",
              "<span style=\"color: #00ff00; text-decoration-color: #00ff00\">╰─────────────────────────────────────────────────────────────────────────────────────────────────────────────────╯</span>\n",
              "</pre>\n"
            ],
            "text/plain": [
              "\u001b[92m╭─\u001b[0m\u001b[92m───────────────────────────────────────────────────\u001b[0m\u001b[1;32m [User] \u001b[0m\u001b[92m────────────────────────────────────────────────────\u001b[0m\u001b[92m─╮\u001b[0m\n",
              "\u001b[92m│\u001b[0m Interventions on which genes extended mice lifespan most of all?                                                \u001b[92m│\u001b[0m\n",
              "\u001b[92m╰─────────────────────────────────────────────────────────────────────────────────────────────────────────────────╯\u001b[0m\n"
            ]
          },
          "metadata": {},
          "output_type": "display_data"
        },
        {
          "data": {
            "text/html": [
              "<pre style=\"white-space:pre;overflow-x:auto;line-height:normal;font-family:Menlo,'DejaVu Sans Mono',consolas,'Courier New',monospace\"><span style=\"color: #000080; text-decoration-color: #000080\">╭──────────────────────────────────────────────────</span><span style=\"color: #000080; text-decoration-color: #000080; font-weight: bold\"> [Assistant] </span><span style=\"color: #000080; text-decoration-color: #000080\">──────────────────────────────────────────────────╮</span>\n",
              "<span style=\"color: #000080; text-decoration-color: #000080\">│</span> Tool Call to <span style=\"color: #800080; text-decoration-color: #800080; font-weight: bold\">db_query</span>:                                                                                          <span style=\"color: #000080; text-decoration-color: #000080\">│</span>\n",
              "<span style=\"color: #000080; text-decoration-color: #000080\">│</span> {\"sql\":\"SELECT gene_symbol, max_lifespan_increase FROM genes ORDER BY max_lifespan_increase DESC LIMIT 5;\"}     <span style=\"color: #000080; text-decoration-color: #000080\">│</span>\n",
              "<span style=\"color: #000080; text-decoration-color: #000080\">╰─────────────────────────────────────────────────────────────────────────────────────────────────────────────────╯</span>\n",
              "</pre>\n"
            ],
            "text/plain": [
              "\u001b[34m╭─\u001b[0m\u001b[34m─────────────────────────────────────────────────\u001b[0m\u001b[1;34m [Assistant] \u001b[0m\u001b[34m─────────────────────────────────────────────────\u001b[0m\u001b[34m─╮\u001b[0m\n",
              "\u001b[34m│\u001b[0m Tool Call to \u001b[1;35mdb_query\u001b[0m:                                                                                          \u001b[34m│\u001b[0m\n",
              "\u001b[34m│\u001b[0m {\"sql\":\"SELECT gene_symbol, max_lifespan_increase FROM genes ORDER BY max_lifespan_increase DESC LIMIT 5;\"}     \u001b[34m│\u001b[0m\n",
              "\u001b[34m╰─────────────────────────────────────────────────────────────────────────────────────────────────────────────────╯\u001b[0m\n"
            ]
          },
          "metadata": {},
          "output_type": "display_data"
        },
        {
          "data": {
            "text/html": [
              "<pre style=\"white-space:pre;overflow-x:auto;line-height:normal;font-family:Menlo,'DejaVu Sans Mono',consolas,'Courier New',monospace\"><span style=\"color: #ff00ff; text-decoration-color: #ff00ff\">╭────────────────────────────────────────────────────</span><span style=\"color: #800080; text-decoration-color: #800080; font-weight: bold\"> [Tool] </span><span style=\"color: #ff00ff; text-decoration-color: #ff00ff\">─────────────────────────────────────────────────────╮</span>\n",
              "<span style=\"color: #ff00ff; text-decoration-color: #ff00ff\">│</span> Response from <span style=\"color: #800080; text-decoration-color: #800080; font-weight: bold\">db_query</span>:                                                                                         <span style=\"color: #ff00ff; text-decoration-color: #ff00ff\">│</span>\n",
              "<span style=\"color: #ff00ff; text-decoration-color: #ff00ff\">│</span> no such table: genes                                                                                            <span style=\"color: #ff00ff; text-decoration-color: #ff00ff\">│</span>\n",
              "<span style=\"color: #ff00ff; text-decoration-color: #ff00ff\">╰─────────────────────────────────────────────────────────────────────────────────────────────────────────────────╯</span>\n",
              "</pre>\n"
            ],
            "text/plain": [
              "\u001b[95m╭─\u001b[0m\u001b[95m───────────────────────────────────────────────────\u001b[0m\u001b[1;35m [Tool] \u001b[0m\u001b[95m────────────────────────────────────────────────────\u001b[0m\u001b[95m─╮\u001b[0m\n",
              "\u001b[95m│\u001b[0m Response from \u001b[1;35mdb_query\u001b[0m:                                                                                         \u001b[95m│\u001b[0m\n",
              "\u001b[95m│\u001b[0m no such table: genes                                                                                            \u001b[95m│\u001b[0m\n",
              "\u001b[95m╰─────────────────────────────────────────────────────────────────────────────────────────────────────────────────╯\u001b[0m\n"
            ]
          },
          "metadata": {},
          "output_type": "display_data"
        },
        {
          "data": {
            "text/html": [
              "<pre style=\"white-space:pre;overflow-x:auto;line-height:normal;font-family:Menlo,'DejaVu Sans Mono',consolas,'Courier New',monospace\"><span style=\"color: #000080; text-decoration-color: #000080\">╭──────────────────────────────────────────────────</span><span style=\"color: #000080; text-decoration-color: #000080; font-weight: bold\"> [Assistant] </span><span style=\"color: #000080; text-decoration-color: #000080\">──────────────────────────────────────────────────╮</span>\n",
              "<span style=\"color: #000080; text-decoration-color: #000080\">│</span> Tool Call to <span style=\"color: #800080; text-decoration-color: #800080; font-weight: bold\">db_query</span>:                                                                                          <span style=\"color: #000080; text-decoration-color: #000080\">│</span>\n",
              "<span style=\"color: #000080; text-decoration-color: #000080\">│</span> {\"sql\":\"SELECT gene_symbol, max_lifespan_increase FROM open_genes ORDER BY max_lifespan_increase DESC LIMIT     <span style=\"color: #000080; text-decoration-color: #000080\">│</span>\n",
              "<span style=\"color: #000080; text-decoration-color: #000080\">│</span> 5;\"}                                                                                                            <span style=\"color: #000080; text-decoration-color: #000080\">│</span>\n",
              "<span style=\"color: #000080; text-decoration-color: #000080\">╰─────────────────────────────────────────────────────────────────────────────────────────────────────────────────╯</span>\n",
              "</pre>\n"
            ],
            "text/plain": [
              "\u001b[34m╭─\u001b[0m\u001b[34m─────────────────────────────────────────────────\u001b[0m\u001b[1;34m [Assistant] \u001b[0m\u001b[34m─────────────────────────────────────────────────\u001b[0m\u001b[34m─╮\u001b[0m\n",
              "\u001b[34m│\u001b[0m Tool Call to \u001b[1;35mdb_query\u001b[0m:                                                                                          \u001b[34m│\u001b[0m\n",
              "\u001b[34m│\u001b[0m {\"sql\":\"SELECT gene_symbol, max_lifespan_increase FROM open_genes ORDER BY max_lifespan_increase DESC LIMIT     \u001b[34m│\u001b[0m\n",
              "\u001b[34m│\u001b[0m 5;\"}                                                                                                            \u001b[34m│\u001b[0m\n",
              "\u001b[34m╰─────────────────────────────────────────────────────────────────────────────────────────────────────────────────╯\u001b[0m\n"
            ]
          },
          "metadata": {},
          "output_type": "display_data"
        },
        {
          "data": {
            "text/html": [
              "<pre style=\"white-space:pre;overflow-x:auto;line-height:normal;font-family:Menlo,'DejaVu Sans Mono',consolas,'Courier New',monospace\"><span style=\"color: #ff00ff; text-decoration-color: #ff00ff\">╭────────────────────────────────────────────────────</span><span style=\"color: #800080; text-decoration-color: #800080; font-weight: bold\"> [Tool] </span><span style=\"color: #ff00ff; text-decoration-color: #ff00ff\">─────────────────────────────────────────────────────╮</span>\n",
              "<span style=\"color: #ff00ff; text-decoration-color: #ff00ff\">│</span> Response from <span style=\"color: #800080; text-decoration-color: #800080; font-weight: bold\">db_query</span>:                                                                                         <span style=\"color: #ff00ff; text-decoration-color: #ff00ff\">│</span>\n",
              "<span style=\"color: #ff00ff; text-decoration-color: #ff00ff\">│</span> no such table: open_genes                                                                                       <span style=\"color: #ff00ff; text-decoration-color: #ff00ff\">│</span>\n",
              "<span style=\"color: #ff00ff; text-decoration-color: #ff00ff\">╰─────────────────────────────────────────────────────────────────────────────────────────────────────────────────╯</span>\n",
              "</pre>\n"
            ],
            "text/plain": [
              "\u001b[95m╭─\u001b[0m\u001b[95m───────────────────────────────────────────────────\u001b[0m\u001b[1;35m [Tool] \u001b[0m\u001b[95m────────────────────────────────────────────────────\u001b[0m\u001b[95m─╮\u001b[0m\n",
              "\u001b[95m│\u001b[0m Response from \u001b[1;35mdb_query\u001b[0m:                                                                                         \u001b[95m│\u001b[0m\n",
              "\u001b[95m│\u001b[0m no such table: open_genes                                                                                       \u001b[95m│\u001b[0m\n",
              "\u001b[95m╰─────────────────────────────────────────────────────────────────────────────────────────────────────────────────╯\u001b[0m\n"
            ]
          },
          "metadata": {},
          "output_type": "display_data"
        },
        {
          "data": {
            "text/html": [
              "<pre style=\"white-space:pre;overflow-x:auto;line-height:normal;font-family:Menlo,'DejaVu Sans Mono',consolas,'Courier New',monospace\"><span style=\"color: #0000ff; text-decoration-color: #0000ff\">╭──────────────────────────────────────────────────</span><span style=\"color: #000080; text-decoration-color: #000080; font-weight: bold\"> [Assistant] </span><span style=\"color: #0000ff; text-decoration-color: #0000ff\">──────────────────────────────────────────────────╮</span>\n",
              "<span style=\"color: #0000ff; text-decoration-color: #0000ff\">│</span> It appears there is a persistent issue with accessing the gene database. Unfortunately, I cannot retrieve the   <span style=\"color: #0000ff; text-decoration-color: #0000ff\">│</span>\n",
              "<span style=\"color: #0000ff; text-decoration-color: #0000ff\">│</span> information about gene interventions that extended mice lifespan the most at this moment. If you have any other <span style=\"color: #0000ff; text-decoration-color: #0000ff\">│</span>\n",
              "<span style=\"color: #0000ff; text-decoration-color: #0000ff\">│</span> questions or need assistance with something else, feel free to ask!                                             <span style=\"color: #0000ff; text-decoration-color: #0000ff\">│</span>\n",
              "<span style=\"color: #0000ff; text-decoration-color: #0000ff\">╰─────────────────────────────────────────────────────────────────────────────────────────────────────────────────╯</span>\n",
              "</pre>\n"
            ],
            "text/plain": [
              "\u001b[94m╭─\u001b[0m\u001b[94m─────────────────────────────────────────────────\u001b[0m\u001b[1;34m [Assistant] \u001b[0m\u001b[94m─────────────────────────────────────────────────\u001b[0m\u001b[94m─╮\u001b[0m\n",
              "\u001b[94m│\u001b[0m It appears there is a persistent issue with accessing the gene database. Unfortunately, I cannot retrieve the   \u001b[94m│\u001b[0m\n",
              "\u001b[94m│\u001b[0m information about gene interventions that extended mice lifespan the most at this moment. If you have any other \u001b[94m│\u001b[0m\n",
              "\u001b[94m│\u001b[0m questions or need assistance with something else, feel free to ask!                                             \u001b[94m│\u001b[0m\n",
              "\u001b[94m╰─────────────────────────────────────────────────────────────────────────────────────────────────────────────────╯\u001b[0m\n"
            ]
          },
          "metadata": {},
          "output_type": "display_data"
        }
      ],
      "source": [
        "from just_agents.base_agent import BaseAgent\n",
        "from just_agents import llm_options\n",
        "\n",
        "\n",
        "prompt = \"Interventions on which genes extended mice lifespan most of all?\"\n",
        "\n",
        "agent: BaseAgent = BaseAgent(\n",
        "    llm_options=llm_options.LLAMA4_SCOUT,\n",
        "    tools=[db_query]\n",
        ")\n",
        "\n",
        "\n",
        "result = agent.query(prompt)\n",
        "agent.memory.pretty_print_all_messages()"
      ]
    },
    {
      "cell_type": "markdown",
      "metadata": {
        "id": "8v7IpNnU6-KR"
      },
      "source": [
        "As you see the SQL returned zero results although we know that the data exist by browsing https://open-genes.com/ and/or sqlite file. Let's modify the system prompt to get it right\n",
        "\n",
        "In this case it was the simple change from model OPENAI-GPT4oMINI to OPENAI-GPT4o.\n",
        "\n",
        "But how to make it better? simply call the LLMSession with a prompt."
      ]
    },
    {
      "cell_type": "code",
      "execution_count": null,
      "metadata": {
        "colab": {
          "base_uri": "https://localhost:8080/"
        },
        "id": "P5YcWoig7H6j",
        "outputId": "52996f93-2d8a-475e-8400-02be186f76d0"
      },
      "outputs": [
        {
          "name": "stdout",
          "output_type": "stream",
          "text": [
            "RESULT+++++++++++++++++++++++++++++++++++++++++++++++\n",
            "The interventions on genes that extended the lifespan of mice the most are as follows:\n",
            "\n",
            "1. **PROP1**: Improved insulin sensitivity and INS/IGFR pathway, resulting in a 60% lifespan extension.\n",
            "2. **PROP1**: No specific improvement noted, resulting in a 46% lifespan extension.\n",
            "3. **PIK3CA**: No specific improvement noted, resulting in a 45% lifespan extension.\n",
            "4. **PROP1**: Improved glucose metabolism and INS/IGFR pathway, resulting in a 44.7% lifespan extension.\n",
            "5. **PROP1**: No specific improvement noted, resulting in a 44% lifespan extension.\n",
            "\n",
            "The gene **PROP1** appears multiple times with significant lifespan extensions under different conditions.\n"
          ]
        },
        {
          "data": {
            "text/html": [
              "<pre style=\"white-space:pre;overflow-x:auto;line-height:normal;font-family:Menlo,'DejaVu Sans Mono',consolas,'Courier New',monospace\"><span style=\"color: #ffff00; text-decoration-color: #ffff00\">╭───────────────────────────────────────────────────</span><span style=\"color: #808000; text-decoration-color: #808000; font-weight: bold\"> [System] </span><span style=\"color: #ffff00; text-decoration-color: #ffff00\">────────────────────────────────────────────────────╮</span>\n",
              "<span style=\"color: #ffff00; text-decoration-color: #ffff00\">│</span> open_genes.txt                                                                                                  <span style=\"color: #ffff00; text-decoration-color: #ffff00\">│</span>\n",
              "<span style=\"color: #ffff00; text-decoration-color: #ffff00\">╰─────────────────────────────────────────────────────────────────────────────────────────────────────────────────╯</span>\n",
              "</pre>\n"
            ],
            "text/plain": [
              "\u001b[93m╭─\u001b[0m\u001b[93m──────────────────────────────────────────────────\u001b[0m\u001b[1;33m [System] \u001b[0m\u001b[93m───────────────────────────────────────────────────\u001b[0m\u001b[93m─╮\u001b[0m\n",
              "\u001b[93m│\u001b[0m open_genes.txt                                                                                                  \u001b[93m│\u001b[0m\n",
              "\u001b[93m╰─────────────────────────────────────────────────────────────────────────────────────────────────────────────────╯\u001b[0m\n"
            ]
          },
          "metadata": {},
          "output_type": "display_data"
        },
        {
          "data": {
            "text/html": [
              "<pre style=\"white-space:pre;overflow-x:auto;line-height:normal;font-family:Menlo,'DejaVu Sans Mono',consolas,'Courier New',monospace\"><span style=\"color: #00ff00; text-decoration-color: #00ff00\">╭────────────────────────────────────────────────────</span><span style=\"color: #008000; text-decoration-color: #008000; font-weight: bold\"> [User] </span><span style=\"color: #00ff00; text-decoration-color: #00ff00\">─────────────────────────────────────────────────────╮</span>\n",
              "<span style=\"color: #00ff00; text-decoration-color: #00ff00\">│</span> Interventions on which genes extended mice lifespan most of all? Search all the relevant tables in the          <span style=\"color: #00ff00; text-decoration-color: #00ff00\">│</span>\n",
              "<span style=\"color: #00ff00; text-decoration-color: #00ff00\">│</span> open-genes sqlite and only for mouse                                                                            <span style=\"color: #00ff00; text-decoration-color: #00ff00\">│</span>\n",
              "<span style=\"color: #00ff00; text-decoration-color: #00ff00\">╰─────────────────────────────────────────────────────────────────────────────────────────────────────────────────╯</span>\n",
              "</pre>\n"
            ],
            "text/plain": [
              "\u001b[92m╭─\u001b[0m\u001b[92m───────────────────────────────────────────────────\u001b[0m\u001b[1;32m [User] \u001b[0m\u001b[92m────────────────────────────────────────────────────\u001b[0m\u001b[92m─╮\u001b[0m\n",
              "\u001b[92m│\u001b[0m Interventions on which genes extended mice lifespan most of all? Search all the relevant tables in the          \u001b[92m│\u001b[0m\n",
              "\u001b[92m│\u001b[0m open-genes sqlite and only for mouse                                                                            \u001b[92m│\u001b[0m\n",
              "\u001b[92m╰─────────────────────────────────────────────────────────────────────────────────────────────────────────────────╯\u001b[0m\n"
            ]
          },
          "metadata": {},
          "output_type": "display_data"
        },
        {
          "data": {
            "text/html": [
              "<pre style=\"white-space:pre;overflow-x:auto;line-height:normal;font-family:Menlo,'DejaVu Sans Mono',consolas,'Courier New',monospace\"><span style=\"color: #000080; text-decoration-color: #000080\">╭──────────────────────────────────────────────────</span><span style=\"color: #000080; text-decoration-color: #000080; font-weight: bold\"> [Assistant] </span><span style=\"color: #000080; text-decoration-color: #000080\">──────────────────────────────────────────────────╮</span>\n",
              "<span style=\"color: #000080; text-decoration-color: #000080\">│</span> Tool Call to <span style=\"color: #800080; text-decoration-color: #800080; font-weight: bold\">db_query</span>:                                                                                          <span style=\"color: #000080; text-decoration-color: #000080\">│</span>\n",
              "<span style=\"color: #000080; text-decoration-color: #000080\">│</span> {\"sql\":\"SELECT gene_symbol, intervention, lifespan_extension FROM lifespan_interventions WHERE species =        <span style=\"color: #000080; text-decoration-color: #000080\">│</span>\n",
              "<span style=\"color: #000080; text-decoration-color: #000080\">│</span> 'mouse' ORDER BY lifespan_extension DESC LIMIT 5;\"}                                                             <span style=\"color: #000080; text-decoration-color: #000080\">│</span>\n",
              "<span style=\"color: #000080; text-decoration-color: #000080\">╰─────────────────────────────────────────────────────────────────────────────────────────────────────────────────╯</span>\n",
              "</pre>\n"
            ],
            "text/plain": [
              "\u001b[34m╭─\u001b[0m\u001b[34m─────────────────────────────────────────────────\u001b[0m\u001b[1;34m [Assistant] \u001b[0m\u001b[34m─────────────────────────────────────────────────\u001b[0m\u001b[34m─╮\u001b[0m\n",
              "\u001b[34m│\u001b[0m Tool Call to \u001b[1;35mdb_query\u001b[0m:                                                                                          \u001b[34m│\u001b[0m\n",
              "\u001b[34m│\u001b[0m {\"sql\":\"SELECT gene_symbol, intervention, lifespan_extension FROM lifespan_interventions WHERE species =        \u001b[34m│\u001b[0m\n",
              "\u001b[34m│\u001b[0m 'mouse' ORDER BY lifespan_extension DESC LIMIT 5;\"}                                                             \u001b[34m│\u001b[0m\n",
              "\u001b[34m╰─────────────────────────────────────────────────────────────────────────────────────────────────────────────────╯\u001b[0m\n"
            ]
          },
          "metadata": {},
          "output_type": "display_data"
        },
        {
          "data": {
            "text/html": [
              "<pre style=\"white-space:pre;overflow-x:auto;line-height:normal;font-family:Menlo,'DejaVu Sans Mono',consolas,'Courier New',monospace\"><span style=\"color: #ff00ff; text-decoration-color: #ff00ff\">╭────────────────────────────────────────────────────</span><span style=\"color: #800080; text-decoration-color: #800080; font-weight: bold\"> [Tool] </span><span style=\"color: #ff00ff; text-decoration-color: #ff00ff\">─────────────────────────────────────────────────────╮</span>\n",
              "<span style=\"color: #ff00ff; text-decoration-color: #ff00ff\">│</span> Response from <span style=\"color: #800080; text-decoration-color: #800080; font-weight: bold\">db_query</span>:                                                                                         <span style=\"color: #ff00ff; text-decoration-color: #ff00ff\">│</span>\n",
              "<span style=\"color: #ff00ff; text-decoration-color: #ff00ff\">│</span> no such table: lifespan_interventions                                                                           <span style=\"color: #ff00ff; text-decoration-color: #ff00ff\">│</span>\n",
              "<span style=\"color: #ff00ff; text-decoration-color: #ff00ff\">╰─────────────────────────────────────────────────────────────────────────────────────────────────────────────────╯</span>\n",
              "</pre>\n"
            ],
            "text/plain": [
              "\u001b[95m╭─\u001b[0m\u001b[95m───────────────────────────────────────────────────\u001b[0m\u001b[1;35m [Tool] \u001b[0m\u001b[95m────────────────────────────────────────────────────\u001b[0m\u001b[95m─╮\u001b[0m\n",
              "\u001b[95m│\u001b[0m Response from \u001b[1;35mdb_query\u001b[0m:                                                                                         \u001b[95m│\u001b[0m\n",
              "\u001b[95m│\u001b[0m no such table: lifespan_interventions                                                                           \u001b[95m│\u001b[0m\n",
              "\u001b[95m╰─────────────────────────────────────────────────────────────────────────────────────────────────────────────────╯\u001b[0m\n"
            ]
          },
          "metadata": {},
          "output_type": "display_data"
        },
        {
          "data": {
            "text/html": [
              "<pre style=\"white-space:pre;overflow-x:auto;line-height:normal;font-family:Menlo,'DejaVu Sans Mono',consolas,'Courier New',monospace\"><span style=\"color: #000080; text-decoration-color: #000080\">╭──────────────────────────────────────────────────</span><span style=\"color: #000080; text-decoration-color: #000080; font-weight: bold\"> [Assistant] </span><span style=\"color: #000080; text-decoration-color: #000080\">──────────────────────────────────────────────────╮</span>\n",
              "<span style=\"color: #000080; text-decoration-color: #000080\">│</span> Tool Call to <span style=\"color: #800080; text-decoration-color: #800080; font-weight: bold\">db_query</span>:                                                                                          <span style=\"color: #000080; text-decoration-color: #000080\">│</span>\n",
              "<span style=\"color: #000080; text-decoration-color: #000080\">│</span> {\"sql\":\"SELECT name FROM sqlite_master WHERE type='table';\"}                                                    <span style=\"color: #000080; text-decoration-color: #000080\">│</span>\n",
              "<span style=\"color: #000080; text-decoration-color: #000080\">╰─────────────────────────────────────────────────────────────────────────────────────────────────────────────────╯</span>\n",
              "</pre>\n"
            ],
            "text/plain": [
              "\u001b[34m╭─\u001b[0m\u001b[34m─────────────────────────────────────────────────\u001b[0m\u001b[1;34m [Assistant] \u001b[0m\u001b[34m─────────────────────────────────────────────────\u001b[0m\u001b[34m─╮\u001b[0m\n",
              "\u001b[34m│\u001b[0m Tool Call to \u001b[1;35mdb_query\u001b[0m:                                                                                          \u001b[34m│\u001b[0m\n",
              "\u001b[34m│\u001b[0m {\"sql\":\"SELECT name FROM sqlite_master WHERE type='table';\"}                                                    \u001b[34m│\u001b[0m\n",
              "\u001b[34m╰─────────────────────────────────────────────────────────────────────────────────────────────────────────────────╯\u001b[0m\n"
            ]
          },
          "metadata": {},
          "output_type": "display_data"
        },
        {
          "data": {
            "text/html": [
              "<pre style=\"white-space:pre;overflow-x:auto;line-height:normal;font-family:Menlo,'DejaVu Sans Mono',consolas,'Courier New',monospace\"><span style=\"color: #ff00ff; text-decoration-color: #ff00ff\">╭────────────────────────────────────────────────────</span><span style=\"color: #800080; text-decoration-color: #800080; font-weight: bold\"> [Tool] </span><span style=\"color: #ff00ff; text-decoration-color: #ff00ff\">─────────────────────────────────────────────────────╮</span>\n",
              "<span style=\"color: #ff00ff; text-decoration-color: #ff00ff\">│</span> Response from <span style=\"color: #800080; text-decoration-color: #800080; font-weight: bold\">db_query</span>:                                                                                         <span style=\"color: #ff00ff; text-decoration-color: #ff00ff\">│</span>\n",
              "<span style=\"color: #ff00ff; text-decoration-color: #ff00ff\">│</span> name                                                                                                            <span style=\"color: #ff00ff; text-decoration-color: #ff00ff\">│</span>\n",
              "<span style=\"color: #ff00ff; text-decoration-color: #ff00ff\">│</span> lifespan_change                                                                                                 <span style=\"color: #ff00ff; text-decoration-color: #ff00ff\">│</span>\n",
              "<span style=\"color: #ff00ff; text-decoration-color: #ff00ff\">│</span> gene_criteria                                                                                                   <span style=\"color: #ff00ff; text-decoration-color: #ff00ff\">│</span>\n",
              "<span style=\"color: #ff00ff; text-decoration-color: #ff00ff\">│</span> gene_hallmarks                                                                                                  <span style=\"color: #ff00ff; text-decoration-color: #ff00ff\">│</span>\n",
              "<span style=\"color: #ff00ff; text-decoration-color: #ff00ff\">│</span> longevity_associations                                                                                          <span style=\"color: #ff00ff; text-decoration-color: #ff00ff\">│</span>\n",
              "<span style=\"color: #ff00ff; text-decoration-color: #ff00ff\">│</span>                                                                                                                 <span style=\"color: #ff00ff; text-decoration-color: #ff00ff\">│</span>\n",
              "<span style=\"color: #ff00ff; text-decoration-color: #ff00ff\">╰─────────────────────────────────────────────────────────────────────────────────────────────────────────────────╯</span>\n",
              "</pre>\n"
            ],
            "text/plain": [
              "\u001b[95m╭─\u001b[0m\u001b[95m───────────────────────────────────────────────────\u001b[0m\u001b[1;35m [Tool] \u001b[0m\u001b[95m────────────────────────────────────────────────────\u001b[0m\u001b[95m─╮\u001b[0m\n",
              "\u001b[95m│\u001b[0m Response from \u001b[1;35mdb_query\u001b[0m:                                                                                         \u001b[95m│\u001b[0m\n",
              "\u001b[95m│\u001b[0m name                                                                                                            \u001b[95m│\u001b[0m\n",
              "\u001b[95m│\u001b[0m lifespan_change                                                                                                 \u001b[95m│\u001b[0m\n",
              "\u001b[95m│\u001b[0m gene_criteria                                                                                                   \u001b[95m│\u001b[0m\n",
              "\u001b[95m│\u001b[0m gene_hallmarks                                                                                                  \u001b[95m│\u001b[0m\n",
              "\u001b[95m│\u001b[0m longevity_associations                                                                                          \u001b[95m│\u001b[0m\n",
              "\u001b[95m│\u001b[0m                                                                                                                 \u001b[95m│\u001b[0m\n",
              "\u001b[95m╰─────────────────────────────────────────────────────────────────────────────────────────────────────────────────╯\u001b[0m\n"
            ]
          },
          "metadata": {},
          "output_type": "display_data"
        },
        {
          "data": {
            "text/html": [
              "<pre style=\"white-space:pre;overflow-x:auto;line-height:normal;font-family:Menlo,'DejaVu Sans Mono',consolas,'Courier New',monospace\"><span style=\"color: #000080; text-decoration-color: #000080\">╭──────────────────────────────────────────────────</span><span style=\"color: #000080; text-decoration-color: #000080; font-weight: bold\"> [Assistant] </span><span style=\"color: #000080; text-decoration-color: #000080\">──────────────────────────────────────────────────╮</span>\n",
              "<span style=\"color: #000080; text-decoration-color: #000080\">│</span> Tool Call to <span style=\"color: #800080; text-decoration-color: #800080; font-weight: bold\">db_query</span>:                                                                                          <span style=\"color: #000080; text-decoration-color: #000080\">│</span>\n",
              "<span style=\"color: #000080; text-decoration-color: #000080\">│</span> {\"sql\": \"PRAGMA table_info(lifespan_change);\"}                                                                  <span style=\"color: #000080; text-decoration-color: #000080\">│</span>\n",
              "<span style=\"color: #000080; text-decoration-color: #000080\">╰─────────────────────────────────────────────────────────────────────────────────────────────────────────────────╯</span>\n",
              "</pre>\n"
            ],
            "text/plain": [
              "\u001b[34m╭─\u001b[0m\u001b[34m─────────────────────────────────────────────────\u001b[0m\u001b[1;34m [Assistant] \u001b[0m\u001b[34m─────────────────────────────────────────────────\u001b[0m\u001b[34m─╮\u001b[0m\n",
              "\u001b[34m│\u001b[0m Tool Call to \u001b[1;35mdb_query\u001b[0m:                                                                                          \u001b[34m│\u001b[0m\n",
              "\u001b[34m│\u001b[0m {\"sql\": \"PRAGMA table_info(lifespan_change);\"}                                                                  \u001b[34m│\u001b[0m\n",
              "\u001b[34m╰─────────────────────────────────────────────────────────────────────────────────────────────────────────────────╯\u001b[0m\n"
            ]
          },
          "metadata": {},
          "output_type": "display_data"
        },
        {
          "data": {
            "text/html": [
              "<pre style=\"white-space:pre;overflow-x:auto;line-height:normal;font-family:Menlo,'DejaVu Sans Mono',consolas,'Courier New',monospace\"><span style=\"color: #ff00ff; text-decoration-color: #ff00ff\">╭────────────────────────────────────────────────────</span><span style=\"color: #800080; text-decoration-color: #800080; font-weight: bold\"> [Tool] </span><span style=\"color: #ff00ff; text-decoration-color: #ff00ff\">─────────────────────────────────────────────────────╮</span>\n",
              "<span style=\"color: #ff00ff; text-decoration-color: #ff00ff\">│</span> Response from <span style=\"color: #800080; text-decoration-color: #800080; font-weight: bold\">db_query</span>:                                                                                         <span style=\"color: #ff00ff; text-decoration-color: #ff00ff\">│</span>\n",
              "<span style=\"color: #ff00ff; text-decoration-color: #ff00ff\">│</span> cid; name; type; notnull; dflt_value; pk                                                                        <span style=\"color: #ff00ff; text-decoration-color: #ff00ff\">│</span>\n",
              "<span style=\"color: #ff00ff; text-decoration-color: #ff00ff\">│</span> 0; HGNC; TEXT; 0; None; 0                                                                                       <span style=\"color: #ff00ff; text-decoration-color: #ff00ff\">│</span>\n",
              "<span style=\"color: #ff00ff; text-decoration-color: #ff00ff\">│</span> 1; model_organism; TEXT; 0; None; 0                                                                             <span style=\"color: #ff00ff; text-decoration-color: #ff00ff\">│</span>\n",
              "<span style=\"color: #ff00ff; text-decoration-color: #ff00ff\">│</span> 2; sex; TEXT; 0; None; 0                                                                                        <span style=\"color: #ff00ff; text-decoration-color: #ff00ff\">│</span>\n",
              "<span style=\"color: #ff00ff; text-decoration-color: #ff00ff\">│</span> 3; line; TEXT; 0; None; 0                                                                                       <span style=\"color: #ff00ff; text-decoration-color: #ff00ff\">│</span>\n",
              "<span style=\"color: #ff00ff; text-decoration-color: #ff00ff\">│</span> 4; effect_on_lifespan; TEXT; 0; None; 0                                                                         <span style=\"color: #ff00ff; text-decoration-color: #ff00ff\">│</span>\n",
              "<span style=\"color: #ff00ff; text-decoration-color: #ff00ff\">│</span> 5; control_cohort_size; REAL; 0; None; 0                                                                        <span style=\"color: #ff00ff; text-decoration-color: #ff00ff\">│</span>\n",
              "<span style=\"color: #ff00ff; text-decoration-color: #ff00ff\">│</span> 6; experiment_cohort_size; REAL; 0; None; 0                                                                     <span style=\"color: #ff00ff; text-decoration-color: #ff00ff\">│</span>\n",
              "<span style=\"color: #ff00ff; text-decoration-color: #ff00ff\">│</span> 7; quantity_of_animals_in_cage_or_container; REAL; 0; None; 0                                                   <span style=\"color: #ff00ff; text-decoration-color: #ff00ff\">│</span>\n",
              "<span style=\"color: #ff00ff; text-decoration-color: #ff00ff\">│</span> 8; containment_t_celsius_from; REAL; 0; None; 0                                                                 <span style=\"color: #ff00ff; text-decoration-color: #ff00ff\">│</span>\n",
              "<span style=\"color: #ff00ff; text-decoration-color: #ff00ff\">│</span> 9; containment_t_celsius_to; TEXT; 0; None; 0                                                                   <span style=\"color: #ff00ff; text-decoration-color: #ff00ff\">│</span>\n",
              "<span style=\"color: #ff00ff; text-decoration-color: #ff00ff\">│</span> 10; diet; TEXT; 0; None; 0                                                                                      <span style=\"color: #ff00ff; text-decoration-color: #ff00ff\">│</span>\n",
              "<span style=\"color: #ff00ff; text-decoration-color: #ff00ff\">│</span> 11; target_gene_expression_change; REAL; 0; None; 0                                                             <span style=\"color: #ff00ff; text-decoration-color: #ff00ff\">│</span>\n",
              "<span style=\"color: #ff00ff; text-decoration-color: #ff00ff\">│</span> 12; control_lifespan_min; REAL; 0; None; 0                                                                      <span style=\"color: #ff00ff; text-decoration-color: #ff00ff\">│</span>\n",
              "<span style=\"color: #ff00ff; text-decoration-color: #ff00ff\">│</span> 13; control_lifespan_mean; REAL; 0; None; 0                                                                     <span style=\"color: #ff00ff; text-decoration-color: #ff00ff\">│</span>\n",
              "<span style=\"color: #ff00ff; text-decoration-color: #ff00ff\">│</span> 14; control_lifespan_median; REAL; 0; None; 0                                                                   <span style=\"color: #ff00ff; text-decoration-color: #ff00ff\">│</span>\n",
              "<span style=\"color: #ff00ff; text-decoration-color: #ff00ff\">│</span> 15; control_lifespan_max; REAL; 0; None; 0                                                                      <span style=\"color: #ff00ff; text-decoration-color: #ff00ff\">│</span>\n",
              "<span style=\"color: #ff00ff; text-decoration-color: #ff00ff\">│</span> 16; experiment_lifespan_min; REAL; 0; None; 0                                                                   <span style=\"color: #ff00ff; text-decoration-color: #ff00ff\">│</span>\n",
              "<span style=\"color: #ff00ff; text-decoration-color: #ff00ff\">│</span> 17; experiment_lifespan_mean; REAL; 0; None; 0                                                                  <span style=\"color: #ff00ff; text-decoration-color: #ff00ff\">│</span>\n",
              "<span style=\"color: #ff00ff; text-decoration-color: #ff00ff\">│</span> 18; experiment_lifespan_median; REAL; 0; None; 0                                                                <span style=\"color: #ff00ff; text-decoration-color: #ff00ff\">│</span>\n",
              "<span style=\"color: #ff00ff; text-decoration-color: #ff00ff\">│</span> 19; experiment_lifespan_max; REAL; 0; None; 0                                                                   <span style=\"color: #ff00ff; text-decoration-color: #ff00ff\">│</span>\n",
              "<span style=\"color: #ff00ff; text-decoration-color: #ff00ff\">│</span> 20; lifespan_time_unit; TEXT; 0; None; 0                                                                        <span style=\"color: #ff00ff; text-decoration-color: #ff00ff\">│</span>\n",
              "<span style=\"color: #ff00ff; text-decoration-color: #ff00ff\">│</span> 21; lifespan_percent_change_min; REAL; 0; None; 0                                                               <span style=\"color: #ff00ff; text-decoration-color: #ff00ff\">│</span>\n",
              "<span style=\"color: #ff00ff; text-decoration-color: #ff00ff\">│</span> 22; significance_min; INTEGER; 0; None; 0                                                                       <span style=\"color: #ff00ff; text-decoration-color: #ff00ff\">│</span>\n",
              "<span style=\"color: #ff00ff; text-decoration-color: #ff00ff\">│</span> 23; lifespan_percent_change_mean; REAL; 0; None; 0                                                              <span style=\"color: #ff00ff; text-decoration-color: #ff00ff\">│</span>\n",
              "<span style=\"color: #ff00ff; text-decoration-color: #ff00ff\">│</span> 24; significance_mean; INTEGER; 0; None; 0                                                                      <span style=\"color: #ff00ff; text-decoration-color: #ff00ff\">│</span>\n",
              "<span style=\"color: #ff00ff; text-decoration-color: #ff00ff\">│</span> 25; lifespan_percent_change_median; REAL; 0; None; 0                                                            <span style=\"color: #ff00ff; text-decoration-color: #ff00ff\">│</span>\n",
              "<span style=\"color: #ff00ff; text-decoration-color: #ff00ff\">│</span> 26; significance_median; INTEGER; 0; None; 0                                                                    <span style=\"color: #ff00ff; text-decoration-color: #ff00ff\">│</span>\n",
              "<span style=\"color: #ff00ff; text-decoration-color: #ff00ff\">│</span> 27; lifespan_percent_change_max; REAL; 0; None; 0                                                               <span style=\"color: #ff00ff; text-decoration-color: #ff00ff\">│</span>\n",
              "<span style=\"color: #ff00ff; text-decoration-color: #ff00ff\">│</span> 28; significance_max; INTEGER; 0; None; 0                                                                       <span style=\"color: #ff00ff; text-decoration-color: #ff00ff\">│</span>\n",
              "<span style=\"color: #ff00ff; text-decoration-color: #ff00ff\">│</span> 29; intervention_deteriorates; TEXT; 0; None; 0                                                                 <span style=\"color: #ff00ff; text-decoration-color: #ff00ff\">│</span>\n",
              "<span style=\"color: #ff00ff; text-decoration-color: #ff00ff\">│</span> 30; intervention_improves; TEXT; 0; None; 0                                                                     <span style=\"color: #ff00ff; text-decoration-color: #ff00ff\">│</span>\n",
              "<span style=\"color: #ff00ff; text-decoration-color: #ff00ff\">│</span> 31; main_effect_on_lifespan; TEXT; 0; None; 0                                                                   <span style=\"color: #ff00ff; text-decoration-color: #ff00ff\">│</span>\n",
              "<span style=\"color: #ff00ff; text-decoration-color: #ff00ff\">│</span> 32; intervention_way; TEXT; 0; None; 0                                                                          <span style=\"color: #ff00ff; text-decoration-color: #ff00ff\">│</span>\n",
              "<span style=\"color: #ff00ff; text-decoration-color: #ff00ff\">│</span> 33; intervention_method; TEXT; 0; None; 0                                                                       <span style=\"color: #ff00ff; text-decoration-color: #ff00ff\">│</span>\n",
              "<span style=\"color: #ff00ff; text-decoration-color: #ff00ff\">│</span> 34; genotype; TEXT; 0; None; 0                                                                                  <span style=\"color: #ff00ff; text-decoration-color: #ff00ff\">│</span>\n",
              "<span style=\"color: #ff00ff; text-decoration-color: #ff00ff\">│</span> 35; tissue; TEXT; 0; None; 0                                                                                    <span style=\"color: #ff00ff; text-decoration-color: #ff00ff\">│</span>\n",
              "<span style=\"color: #ff00ff; text-decoration-color: #ff00ff\">│</span> 36; tissue_specific_promoter; TEXT; 0; None; 0                                                                  <span style=\"color: #ff00ff; text-decoration-color: #ff00ff\">│</span>\n",
              "<span style=\"color: #ff00ff; text-decoration-color: #ff00ff\">│</span> 37; induction_by_drug_withdrawal; INTEGER; 0; None; 0                                                           <span style=\"color: #ff00ff; text-decoration-color: #ff00ff\">│</span>\n",
              "<span style=\"color: #ff00ff; text-decoration-color: #ff00ff\">│</span> 38; drug; TEXT; 0; None; 0                                                                                      <span style=\"color: #ff00ff; text-decoration-color: #ff00ff\">│</span>\n",
              "<span style=\"color: #ff00ff; text-decoration-color: #ff00ff\">│</span> 39; treatment_start; TEXT; 0; None; 0                                                                           <span style=\"color: #ff00ff; text-decoration-color: #ff00ff\">│</span>\n",
              "<span style=\"color: #ff00ff; text-decoration-color: #ff00ff\">│</span> 40; treatment_end; TEXT; 0; None; 0                                                                             <span style=\"color: #ff00ff; text-decoration-color: #ff00ff\">│</span>\n",
              "<span style=\"color: #ff00ff; text-decoration-color: #ff00ff\">│</span> 41; doi; TEXT; 0; None; 0                                                                                       <span style=\"color: #ff00ff; text-decoration-color: #ff00ff\">│</span>\n",
              "<span style=\"color: #ff00ff; text-decoration-color: #ff00ff\">│</span> 42; pmid; REAL; 0; None; 0                                                                                      <span style=\"color: #ff00ff; text-decoration-color: #ff00ff\">│</span>\n",
              "<span style=\"color: #ff00ff; text-decoration-color: #ff00ff\">│</span>                                                                                                                 <span style=\"color: #ff00ff; text-decoration-color: #ff00ff\">│</span>\n",
              "<span style=\"color: #ff00ff; text-decoration-color: #ff00ff\">╰─────────────────────────────────────────────────────────────────────────────────────────────────────────────────╯</span>\n",
              "</pre>\n"
            ],
            "text/plain": [
              "\u001b[95m╭─\u001b[0m\u001b[95m───────────────────────────────────────────────────\u001b[0m\u001b[1;35m [Tool] \u001b[0m\u001b[95m────────────────────────────────────────────────────\u001b[0m\u001b[95m─╮\u001b[0m\n",
              "\u001b[95m│\u001b[0m Response from \u001b[1;35mdb_query\u001b[0m:                                                                                         \u001b[95m│\u001b[0m\n",
              "\u001b[95m│\u001b[0m cid; name; type; notnull; dflt_value; pk                                                                        \u001b[95m│\u001b[0m\n",
              "\u001b[95m│\u001b[0m 0; HGNC; TEXT; 0; None; 0                                                                                       \u001b[95m│\u001b[0m\n",
              "\u001b[95m│\u001b[0m 1; model_organism; TEXT; 0; None; 0                                                                             \u001b[95m│\u001b[0m\n",
              "\u001b[95m│\u001b[0m 2; sex; TEXT; 0; None; 0                                                                                        \u001b[95m│\u001b[0m\n",
              "\u001b[95m│\u001b[0m 3; line; TEXT; 0; None; 0                                                                                       \u001b[95m│\u001b[0m\n",
              "\u001b[95m│\u001b[0m 4; effect_on_lifespan; TEXT; 0; None; 0                                                                         \u001b[95m│\u001b[0m\n",
              "\u001b[95m│\u001b[0m 5; control_cohort_size; REAL; 0; None; 0                                                                        \u001b[95m│\u001b[0m\n",
              "\u001b[95m│\u001b[0m 6; experiment_cohort_size; REAL; 0; None; 0                                                                     \u001b[95m│\u001b[0m\n",
              "\u001b[95m│\u001b[0m 7; quantity_of_animals_in_cage_or_container; REAL; 0; None; 0                                                   \u001b[95m│\u001b[0m\n",
              "\u001b[95m│\u001b[0m 8; containment_t_celsius_from; REAL; 0; None; 0                                                                 \u001b[95m│\u001b[0m\n",
              "\u001b[95m│\u001b[0m 9; containment_t_celsius_to; TEXT; 0; None; 0                                                                   \u001b[95m│\u001b[0m\n",
              "\u001b[95m│\u001b[0m 10; diet; TEXT; 0; None; 0                                                                                      \u001b[95m│\u001b[0m\n",
              "\u001b[95m│\u001b[0m 11; target_gene_expression_change; REAL; 0; None; 0                                                             \u001b[95m│\u001b[0m\n",
              "\u001b[95m│\u001b[0m 12; control_lifespan_min; REAL; 0; None; 0                                                                      \u001b[95m│\u001b[0m\n",
              "\u001b[95m│\u001b[0m 13; control_lifespan_mean; REAL; 0; None; 0                                                                     \u001b[95m│\u001b[0m\n",
              "\u001b[95m│\u001b[0m 14; control_lifespan_median; REAL; 0; None; 0                                                                   \u001b[95m│\u001b[0m\n",
              "\u001b[95m│\u001b[0m 15; control_lifespan_max; REAL; 0; None; 0                                                                      \u001b[95m│\u001b[0m\n",
              "\u001b[95m│\u001b[0m 16; experiment_lifespan_min; REAL; 0; None; 0                                                                   \u001b[95m│\u001b[0m\n",
              "\u001b[95m│\u001b[0m 17; experiment_lifespan_mean; REAL; 0; None; 0                                                                  \u001b[95m│\u001b[0m\n",
              "\u001b[95m│\u001b[0m 18; experiment_lifespan_median; REAL; 0; None; 0                                                                \u001b[95m│\u001b[0m\n",
              "\u001b[95m│\u001b[0m 19; experiment_lifespan_max; REAL; 0; None; 0                                                                   \u001b[95m│\u001b[0m\n",
              "\u001b[95m│\u001b[0m 20; lifespan_time_unit; TEXT; 0; None; 0                                                                        \u001b[95m│\u001b[0m\n",
              "\u001b[95m│\u001b[0m 21; lifespan_percent_change_min; REAL; 0; None; 0                                                               \u001b[95m│\u001b[0m\n",
              "\u001b[95m│\u001b[0m 22; significance_min; INTEGER; 0; None; 0                                                                       \u001b[95m│\u001b[0m\n",
              "\u001b[95m│\u001b[0m 23; lifespan_percent_change_mean; REAL; 0; None; 0                                                              \u001b[95m│\u001b[0m\n",
              "\u001b[95m│\u001b[0m 24; significance_mean; INTEGER; 0; None; 0                                                                      \u001b[95m│\u001b[0m\n",
              "\u001b[95m│\u001b[0m 25; lifespan_percent_change_median; REAL; 0; None; 0                                                            \u001b[95m│\u001b[0m\n",
              "\u001b[95m│\u001b[0m 26; significance_median; INTEGER; 0; None; 0                                                                    \u001b[95m│\u001b[0m\n",
              "\u001b[95m│\u001b[0m 27; lifespan_percent_change_max; REAL; 0; None; 0                                                               \u001b[95m│\u001b[0m\n",
              "\u001b[95m│\u001b[0m 28; significance_max; INTEGER; 0; None; 0                                                                       \u001b[95m│\u001b[0m\n",
              "\u001b[95m│\u001b[0m 29; intervention_deteriorates; TEXT; 0; None; 0                                                                 \u001b[95m│\u001b[0m\n",
              "\u001b[95m│\u001b[0m 30; intervention_improves; TEXT; 0; None; 0                                                                     \u001b[95m│\u001b[0m\n",
              "\u001b[95m│\u001b[0m 31; main_effect_on_lifespan; TEXT; 0; None; 0                                                                   \u001b[95m│\u001b[0m\n",
              "\u001b[95m│\u001b[0m 32; intervention_way; TEXT; 0; None; 0                                                                          \u001b[95m│\u001b[0m\n",
              "\u001b[95m│\u001b[0m 33; intervention_method; TEXT; 0; None; 0                                                                       \u001b[95m│\u001b[0m\n",
              "\u001b[95m│\u001b[0m 34; genotype; TEXT; 0; None; 0                                                                                  \u001b[95m│\u001b[0m\n",
              "\u001b[95m│\u001b[0m 35; tissue; TEXT; 0; None; 0                                                                                    \u001b[95m│\u001b[0m\n",
              "\u001b[95m│\u001b[0m 36; tissue_specific_promoter; TEXT; 0; None; 0                                                                  \u001b[95m│\u001b[0m\n",
              "\u001b[95m│\u001b[0m 37; induction_by_drug_withdrawal; INTEGER; 0; None; 0                                                           \u001b[95m│\u001b[0m\n",
              "\u001b[95m│\u001b[0m 38; drug; TEXT; 0; None; 0                                                                                      \u001b[95m│\u001b[0m\n",
              "\u001b[95m│\u001b[0m 39; treatment_start; TEXT; 0; None; 0                                                                           \u001b[95m│\u001b[0m\n",
              "\u001b[95m│\u001b[0m 40; treatment_end; TEXT; 0; None; 0                                                                             \u001b[95m│\u001b[0m\n",
              "\u001b[95m│\u001b[0m 41; doi; TEXT; 0; None; 0                                                                                       \u001b[95m│\u001b[0m\n",
              "\u001b[95m│\u001b[0m 42; pmid; REAL; 0; None; 0                                                                                      \u001b[95m│\u001b[0m\n",
              "\u001b[95m│\u001b[0m                                                                                                                 \u001b[95m│\u001b[0m\n",
              "\u001b[95m╰─────────────────────────────────────────────────────────────────────────────────────────────────────────────────╯\u001b[0m\n"
            ]
          },
          "metadata": {},
          "output_type": "display_data"
        },
        {
          "data": {
            "text/html": [
              "<pre style=\"white-space:pre;overflow-x:auto;line-height:normal;font-family:Menlo,'DejaVu Sans Mono',consolas,'Courier New',monospace\"><span style=\"color: #ff00ff; text-decoration-color: #ff00ff\">╭────────────────────────────────────────────────────</span><span style=\"color: #800080; text-decoration-color: #800080; font-weight: bold\"> [Tool] </span><span style=\"color: #ff00ff; text-decoration-color: #ff00ff\">─────────────────────────────────────────────────────╮</span>\n",
              "<span style=\"color: #ff00ff; text-decoration-color: #ff00ff\">│</span> Response from <span style=\"color: #800080; text-decoration-color: #800080; font-weight: bold\">db_query</span>:                                                                                         <span style=\"color: #ff00ff; text-decoration-color: #ff00ff\">│</span>\n",
              "<span style=\"color: #ff00ff; text-decoration-color: #ff00ff\">│</span> cid; name; type; notnull; dflt_value; pk                                                                        <span style=\"color: #ff00ff; text-decoration-color: #ff00ff\">│</span>\n",
              "<span style=\"color: #ff00ff; text-decoration-color: #ff00ff\">│</span> 0; HGNC; TEXT; 0; None; 0                                                                                       <span style=\"color: #ff00ff; text-decoration-color: #ff00ff\">│</span>\n",
              "<span style=\"color: #ff00ff; text-decoration-color: #ff00ff\">│</span> 1; criteria; TEXT; 0; None; 0                                                                                   <span style=\"color: #ff00ff; text-decoration-color: #ff00ff\">│</span>\n",
              "<span style=\"color: #ff00ff; text-decoration-color: #ff00ff\">│</span>                                                                                                                 <span style=\"color: #ff00ff; text-decoration-color: #ff00ff\">│</span>\n",
              "<span style=\"color: #ff00ff; text-decoration-color: #ff00ff\">╰─────────────────────────────────────────────────────────────────────────────────────────────────────────────────╯</span>\n",
              "</pre>\n"
            ],
            "text/plain": [
              "\u001b[95m╭─\u001b[0m\u001b[95m───────────────────────────────────────────────────\u001b[0m\u001b[1;35m [Tool] \u001b[0m\u001b[95m────────────────────────────────────────────────────\u001b[0m\u001b[95m─╮\u001b[0m\n",
              "\u001b[95m│\u001b[0m Response from \u001b[1;35mdb_query\u001b[0m:                                                                                         \u001b[95m│\u001b[0m\n",
              "\u001b[95m│\u001b[0m cid; name; type; notnull; dflt_value; pk                                                                        \u001b[95m│\u001b[0m\n",
              "\u001b[95m│\u001b[0m 0; HGNC; TEXT; 0; None; 0                                                                                       \u001b[95m│\u001b[0m\n",
              "\u001b[95m│\u001b[0m 1; criteria; TEXT; 0; None; 0                                                                                   \u001b[95m│\u001b[0m\n",
              "\u001b[95m│\u001b[0m                                                                                                                 \u001b[95m│\u001b[0m\n",
              "\u001b[95m╰─────────────────────────────────────────────────────────────────────────────────────────────────────────────────╯\u001b[0m\n"
            ]
          },
          "metadata": {},
          "output_type": "display_data"
        },
        {
          "data": {
            "text/html": [
              "<pre style=\"white-space:pre;overflow-x:auto;line-height:normal;font-family:Menlo,'DejaVu Sans Mono',consolas,'Courier New',monospace\"><span style=\"color: #ff00ff; text-decoration-color: #ff00ff\">╭────────────────────────────────────────────────────</span><span style=\"color: #800080; text-decoration-color: #800080; font-weight: bold\"> [Tool] </span><span style=\"color: #ff00ff; text-decoration-color: #ff00ff\">─────────────────────────────────────────────────────╮</span>\n",
              "<span style=\"color: #ff00ff; text-decoration-color: #ff00ff\">│</span> Response from <span style=\"color: #800080; text-decoration-color: #800080; font-weight: bold\">db_query</span>:                                                                                         <span style=\"color: #ff00ff; text-decoration-color: #ff00ff\">│</span>\n",
              "<span style=\"color: #ff00ff; text-decoration-color: #ff00ff\">│</span> cid; name; type; notnull; dflt_value; pk                                                                        <span style=\"color: #ff00ff; text-decoration-color: #ff00ff\">│</span>\n",
              "<span style=\"color: #ff00ff; text-decoration-color: #ff00ff\">│</span> 0; HGNC; TEXT; 0; None; 0                                                                                       <span style=\"color: #ff00ff; text-decoration-color: #ff00ff\">│</span>\n",
              "<span style=\"color: #ff00ff; text-decoration-color: #ff00ff\">│</span> 1; hallmarks of aging; TEXT; 0; None; 0                                                                         <span style=\"color: #ff00ff; text-decoration-color: #ff00ff\">│</span>\n",
              "<span style=\"color: #ff00ff; text-decoration-color: #ff00ff\">│</span>                                                                                                                 <span style=\"color: #ff00ff; text-decoration-color: #ff00ff\">│</span>\n",
              "<span style=\"color: #ff00ff; text-decoration-color: #ff00ff\">╰─────────────────────────────────────────────────────────────────────────────────────────────────────────────────╯</span>\n",
              "</pre>\n"
            ],
            "text/plain": [
              "\u001b[95m╭─\u001b[0m\u001b[95m───────────────────────────────────────────────────\u001b[0m\u001b[1;35m [Tool] \u001b[0m\u001b[95m────────────────────────────────────────────────────\u001b[0m\u001b[95m─╮\u001b[0m\n",
              "\u001b[95m│\u001b[0m Response from \u001b[1;35mdb_query\u001b[0m:                                                                                         \u001b[95m│\u001b[0m\n",
              "\u001b[95m│\u001b[0m cid; name; type; notnull; dflt_value; pk                                                                        \u001b[95m│\u001b[0m\n",
              "\u001b[95m│\u001b[0m 0; HGNC; TEXT; 0; None; 0                                                                                       \u001b[95m│\u001b[0m\n",
              "\u001b[95m│\u001b[0m 1; hallmarks of aging; TEXT; 0; None; 0                                                                         \u001b[95m│\u001b[0m\n",
              "\u001b[95m│\u001b[0m                                                                                                                 \u001b[95m│\u001b[0m\n",
              "\u001b[95m╰─────────────────────────────────────────────────────────────────────────────────────────────────────────────────╯\u001b[0m\n"
            ]
          },
          "metadata": {},
          "output_type": "display_data"
        },
        {
          "data": {
            "text/html": [
              "<pre style=\"white-space:pre;overflow-x:auto;line-height:normal;font-family:Menlo,'DejaVu Sans Mono',consolas,'Courier New',monospace\"><span style=\"color: #ff00ff; text-decoration-color: #ff00ff\">╭────────────────────────────────────────────────────</span><span style=\"color: #800080; text-decoration-color: #800080; font-weight: bold\"> [Tool] </span><span style=\"color: #ff00ff; text-decoration-color: #ff00ff\">─────────────────────────────────────────────────────╮</span>\n",
              "<span style=\"color: #ff00ff; text-decoration-color: #ff00ff\">│</span> Response from <span style=\"color: #800080; text-decoration-color: #800080; font-weight: bold\">db_query</span>:                                                                                         <span style=\"color: #ff00ff; text-decoration-color: #ff00ff\">│</span>\n",
              "<span style=\"color: #ff00ff; text-decoration-color: #ff00ff\">│</span> cid; name; type; notnull; dflt_value; pk                                                                        <span style=\"color: #ff00ff; text-decoration-color: #ff00ff\">│</span>\n",
              "<span style=\"color: #ff00ff; text-decoration-color: #ff00ff\">│</span> 0; HGNC; TEXT; 0; None; 0                                                                                       <span style=\"color: #ff00ff; text-decoration-color: #ff00ff\">│</span>\n",
              "<span style=\"color: #ff00ff; text-decoration-color: #ff00ff\">│</span> 1; polymorphism type; TEXT; 0; None; 0                                                                          <span style=\"color: #ff00ff; text-decoration-color: #ff00ff\">│</span>\n",
              "<span style=\"color: #ff00ff; text-decoration-color: #ff00ff\">│</span> 2; polymorphism id; TEXT; 0; None; 0                                                                            <span style=\"color: #ff00ff; text-decoration-color: #ff00ff\">│</span>\n",
              "<span style=\"color: #ff00ff; text-decoration-color: #ff00ff\">│</span> 3; nucleotide substitution; TEXT; 0; None; 0                                                                    <span style=\"color: #ff00ff; text-decoration-color: #ff00ff\">│</span>\n",
              "<span style=\"color: #ff00ff; text-decoration-color: #ff00ff\">│</span> 4; amino acid substitution; TEXT; 0; None; 0                                                                    <span style=\"color: #ff00ff; text-decoration-color: #ff00ff\">│</span>\n",
              "<span style=\"color: #ff00ff; text-decoration-color: #ff00ff\">│</span> 5; polymorphism — other; TEXT; 0; None; 0                                                                       <span style=\"color: #ff00ff; text-decoration-color: #ff00ff\">│</span>\n",
              "<span style=\"color: #ff00ff; text-decoration-color: #ff00ff\">│</span> 6; ethnicity; TEXT; 0; None; 0                                                                                  <span style=\"color: #ff00ff; text-decoration-color: #ff00ff\">│</span>\n",
              "<span style=\"color: #ff00ff; text-decoration-color: #ff00ff\">│</span> 7; study type; TEXT; 0; None; 0                                                                                 <span style=\"color: #ff00ff; text-decoration-color: #ff00ff\">│</span>\n",
              "<span style=\"color: #ff00ff; text-decoration-color: #ff00ff\">│</span> 8; sex; TEXT; 0; None; 0                                                                                        <span style=\"color: #ff00ff; text-decoration-color: #ff00ff\">│</span>\n",
              "<span style=\"color: #ff00ff; text-decoration-color: #ff00ff\">│</span> 9; doi; TEXT; 0; None; 0                                                                                        <span style=\"color: #ff00ff; text-decoration-color: #ff00ff\">│</span>\n",
              "<span style=\"color: #ff00ff; text-decoration-color: #ff00ff\">│</span> 10; pmid; TEXT; 0; None; 0                                                                                      <span style=\"color: #ff00ff; text-decoration-color: #ff00ff\">│</span>\n",
              "<span style=\"color: #ff00ff; text-decoration-color: #ff00ff\">│</span>                                                                                                                 <span style=\"color: #ff00ff; text-decoration-color: #ff00ff\">│</span>\n",
              "<span style=\"color: #ff00ff; text-decoration-color: #ff00ff\">╰─────────────────────────────────────────────────────────────────────────────────────────────────────────────────╯</span>\n",
              "</pre>\n"
            ],
            "text/plain": [
              "\u001b[95m╭─\u001b[0m\u001b[95m───────────────────────────────────────────────────\u001b[0m\u001b[1;35m [Tool] \u001b[0m\u001b[95m────────────────────────────────────────────────────\u001b[0m\u001b[95m─╮\u001b[0m\n",
              "\u001b[95m│\u001b[0m Response from \u001b[1;35mdb_query\u001b[0m:                                                                                         \u001b[95m│\u001b[0m\n",
              "\u001b[95m│\u001b[0m cid; name; type; notnull; dflt_value; pk                                                                        \u001b[95m│\u001b[0m\n",
              "\u001b[95m│\u001b[0m 0; HGNC; TEXT; 0; None; 0                                                                                       \u001b[95m│\u001b[0m\n",
              "\u001b[95m│\u001b[0m 1; polymorphism type; TEXT; 0; None; 0                                                                          \u001b[95m│\u001b[0m\n",
              "\u001b[95m│\u001b[0m 2; polymorphism id; TEXT; 0; None; 0                                                                            \u001b[95m│\u001b[0m\n",
              "\u001b[95m│\u001b[0m 3; nucleotide substitution; TEXT; 0; None; 0                                                                    \u001b[95m│\u001b[0m\n",
              "\u001b[95m│\u001b[0m 4; amino acid substitution; TEXT; 0; None; 0                                                                    \u001b[95m│\u001b[0m\n",
              "\u001b[95m│\u001b[0m 5; polymorphism — other; TEXT; 0; None; 0                                                                       \u001b[95m│\u001b[0m\n",
              "\u001b[95m│\u001b[0m 6; ethnicity; TEXT; 0; None; 0                                                                                  \u001b[95m│\u001b[0m\n",
              "\u001b[95m│\u001b[0m 7; study type; TEXT; 0; None; 0                                                                                 \u001b[95m│\u001b[0m\n",
              "\u001b[95m│\u001b[0m 8; sex; TEXT; 0; None; 0                                                                                        \u001b[95m│\u001b[0m\n",
              "\u001b[95m│\u001b[0m 9; doi; TEXT; 0; None; 0                                                                                        \u001b[95m│\u001b[0m\n",
              "\u001b[95m│\u001b[0m 10; pmid; TEXT; 0; None; 0                                                                                      \u001b[95m│\u001b[0m\n",
              "\u001b[95m│\u001b[0m                                                                                                                 \u001b[95m│\u001b[0m\n",
              "\u001b[95m╰─────────────────────────────────────────────────────────────────────────────────────────────────────────────────╯\u001b[0m\n"
            ]
          },
          "metadata": {},
          "output_type": "display_data"
        },
        {
          "data": {
            "text/html": [
              "<pre style=\"white-space:pre;overflow-x:auto;line-height:normal;font-family:Menlo,'DejaVu Sans Mono',consolas,'Courier New',monospace\"><span style=\"color: #000080; text-decoration-color: #000080\">╭──────────────────────────────────────────────────</span><span style=\"color: #000080; text-decoration-color: #000080; font-weight: bold\"> [Assistant] </span><span style=\"color: #000080; text-decoration-color: #000080\">──────────────────────────────────────────────────╮</span>\n",
              "<span style=\"color: #000080; text-decoration-color: #000080\">│</span> Tool Call to <span style=\"color: #800080; text-decoration-color: #800080; font-weight: bold\">db_query</span>:                                                                                          <span style=\"color: #000080; text-decoration-color: #000080\">│</span>\n",
              "<span style=\"color: #000080; text-decoration-color: #000080\">│</span> {\"sql\":\"SELECT HGNC, intervention_improves, lifespan_percent_change_max FROM lifespan_change WHERE              <span style=\"color: #000080; text-decoration-color: #000080\">│</span>\n",
              "<span style=\"color: #000080; text-decoration-color: #000080\">│</span> model_organism = 'mouse' ORDER BY lifespan_percent_change_max DESC LIMIT 5;\"}                                   <span style=\"color: #000080; text-decoration-color: #000080\">│</span>\n",
              "<span style=\"color: #000080; text-decoration-color: #000080\">╰─────────────────────────────────────────────────────────────────────────────────────────────────────────────────╯</span>\n",
              "</pre>\n"
            ],
            "text/plain": [
              "\u001b[34m╭─\u001b[0m\u001b[34m─────────────────────────────────────────────────\u001b[0m\u001b[1;34m [Assistant] \u001b[0m\u001b[34m─────────────────────────────────────────────────\u001b[0m\u001b[34m─╮\u001b[0m\n",
              "\u001b[34m│\u001b[0m Tool Call to \u001b[1;35mdb_query\u001b[0m:                                                                                          \u001b[34m│\u001b[0m\n",
              "\u001b[34m│\u001b[0m {\"sql\":\"SELECT HGNC, intervention_improves, lifespan_percent_change_max FROM lifespan_change WHERE              \u001b[34m│\u001b[0m\n",
              "\u001b[34m│\u001b[0m model_organism = 'mouse' ORDER BY lifespan_percent_change_max DESC LIMIT 5;\"}                                   \u001b[34m│\u001b[0m\n",
              "\u001b[34m╰─────────────────────────────────────────────────────────────────────────────────────────────────────────────────╯\u001b[0m\n"
            ]
          },
          "metadata": {},
          "output_type": "display_data"
        },
        {
          "data": {
            "text/html": [
              "<pre style=\"white-space:pre;overflow-x:auto;line-height:normal;font-family:Menlo,'DejaVu Sans Mono',consolas,'Courier New',monospace\"><span style=\"color: #ff00ff; text-decoration-color: #ff00ff\">╭────────────────────────────────────────────────────</span><span style=\"color: #800080; text-decoration-color: #800080; font-weight: bold\"> [Tool] </span><span style=\"color: #ff00ff; text-decoration-color: #ff00ff\">─────────────────────────────────────────────────────╮</span>\n",
              "<span style=\"color: #ff00ff; text-decoration-color: #ff00ff\">│</span> Response from <span style=\"color: #800080; text-decoration-color: #800080; font-weight: bold\">db_query</span>:                                                                                         <span style=\"color: #ff00ff; text-decoration-color: #ff00ff\">│</span>\n",
              "<span style=\"color: #ff00ff; text-decoration-color: #ff00ff\">│</span> HGNC; intervention_improves; lifespan_percent_change_max                                                        <span style=\"color: #ff00ff; text-decoration-color: #ff00ff\">│</span>\n",
              "<span style=\"color: #ff00ff; text-decoration-color: #ff00ff\">│</span> PROP1; insulin sensitivity,INS/IGFR pathway; 60.0                                                               <span style=\"color: #ff00ff; text-decoration-color: #ff00ff\">│</span>\n",
              "<span style=\"color: #ff00ff; text-decoration-color: #ff00ff\">│</span> PROP1; None; 46.0                                                                                               <span style=\"color: #ff00ff; text-decoration-color: #ff00ff\">│</span>\n",
              "<span style=\"color: #ff00ff; text-decoration-color: #ff00ff\">│</span> PIK3CA; None; 45.0                                                                                              <span style=\"color: #ff00ff; text-decoration-color: #ff00ff\">│</span>\n",
              "<span style=\"color: #ff00ff; text-decoration-color: #ff00ff\">│</span> PROP1; glucose metabolism,INS/IGFR pathway; 44.7                                                                <span style=\"color: #ff00ff; text-decoration-color: #ff00ff\">│</span>\n",
              "<span style=\"color: #ff00ff; text-decoration-color: #ff00ff\">│</span> PROP1; None; 44.0                                                                                               <span style=\"color: #ff00ff; text-decoration-color: #ff00ff\">│</span>\n",
              "<span style=\"color: #ff00ff; text-decoration-color: #ff00ff\">│</span>                                                                                                                 <span style=\"color: #ff00ff; text-decoration-color: #ff00ff\">│</span>\n",
              "<span style=\"color: #ff00ff; text-decoration-color: #ff00ff\">╰─────────────────────────────────────────────────────────────────────────────────────────────────────────────────╯</span>\n",
              "</pre>\n"
            ],
            "text/plain": [
              "\u001b[95m╭─\u001b[0m\u001b[95m───────────────────────────────────────────────────\u001b[0m\u001b[1;35m [Tool] \u001b[0m\u001b[95m────────────────────────────────────────────────────\u001b[0m\u001b[95m─╮\u001b[0m\n",
              "\u001b[95m│\u001b[0m Response from \u001b[1;35mdb_query\u001b[0m:                                                                                         \u001b[95m│\u001b[0m\n",
              "\u001b[95m│\u001b[0m HGNC; intervention_improves; lifespan_percent_change_max                                                        \u001b[95m│\u001b[0m\n",
              "\u001b[95m│\u001b[0m PROP1; insulin sensitivity,INS/IGFR pathway; 60.0                                                               \u001b[95m│\u001b[0m\n",
              "\u001b[95m│\u001b[0m PROP1; None; 46.0                                                                                               \u001b[95m│\u001b[0m\n",
              "\u001b[95m│\u001b[0m PIK3CA; None; 45.0                                                                                              \u001b[95m│\u001b[0m\n",
              "\u001b[95m│\u001b[0m PROP1; glucose metabolism,INS/IGFR pathway; 44.7                                                                \u001b[95m│\u001b[0m\n",
              "\u001b[95m│\u001b[0m PROP1; None; 44.0                                                                                               \u001b[95m│\u001b[0m\n",
              "\u001b[95m│\u001b[0m                                                                                                                 \u001b[95m│\u001b[0m\n",
              "\u001b[95m╰─────────────────────────────────────────────────────────────────────────────────────────────────────────────────╯\u001b[0m\n"
            ]
          },
          "metadata": {},
          "output_type": "display_data"
        },
        {
          "data": {
            "text/html": [
              "<pre style=\"white-space:pre;overflow-x:auto;line-height:normal;font-family:Menlo,'DejaVu Sans Mono',consolas,'Courier New',monospace\"><span style=\"color: #0000ff; text-decoration-color: #0000ff\">╭──────────────────────────────────────────────────</span><span style=\"color: #000080; text-decoration-color: #000080; font-weight: bold\"> [Assistant] </span><span style=\"color: #0000ff; text-decoration-color: #0000ff\">──────────────────────────────────────────────────╮</span>\n",
              "<span style=\"color: #0000ff; text-decoration-color: #0000ff\">│</span> The interventions on genes that extended the lifespan of mice the most are as follows:                          <span style=\"color: #0000ff; text-decoration-color: #0000ff\">│</span>\n",
              "<span style=\"color: #0000ff; text-decoration-color: #0000ff\">│</span>                                                                                                                 <span style=\"color: #0000ff; text-decoration-color: #0000ff\">│</span>\n",
              "<span style=\"color: #0000ff; text-decoration-color: #0000ff\">│</span> 1. **PROP1**: Improved insulin sensitivity and INS/IGFR pathway, resulting in a 60% lifespan extension.         <span style=\"color: #0000ff; text-decoration-color: #0000ff\">│</span>\n",
              "<span style=\"color: #0000ff; text-decoration-color: #0000ff\">│</span> 2. **PROP1**: No specific improvement noted, resulting in a 46% lifespan extension.                             <span style=\"color: #0000ff; text-decoration-color: #0000ff\">│</span>\n",
              "<span style=\"color: #0000ff; text-decoration-color: #0000ff\">│</span> 3. **PIK3CA**: No specific improvement noted, resulting in a 45% lifespan extension.                            <span style=\"color: #0000ff; text-decoration-color: #0000ff\">│</span>\n",
              "<span style=\"color: #0000ff; text-decoration-color: #0000ff\">│</span> 4. **PROP1**: Improved glucose metabolism and INS/IGFR pathway, resulting in a 44.7% lifespan extension.        <span style=\"color: #0000ff; text-decoration-color: #0000ff\">│</span>\n",
              "<span style=\"color: #0000ff; text-decoration-color: #0000ff\">│</span> 5. **PROP1**: No specific improvement noted, resulting in a 44% lifespan extension.                             <span style=\"color: #0000ff; text-decoration-color: #0000ff\">│</span>\n",
              "<span style=\"color: #0000ff; text-decoration-color: #0000ff\">│</span>                                                                                                                 <span style=\"color: #0000ff; text-decoration-color: #0000ff\">│</span>\n",
              "<span style=\"color: #0000ff; text-decoration-color: #0000ff\">│</span> The gene **PROP1** appears multiple times with significant lifespan extensions under different conditions.      <span style=\"color: #0000ff; text-decoration-color: #0000ff\">│</span>\n",
              "<span style=\"color: #0000ff; text-decoration-color: #0000ff\">╰─────────────────────────────────────────────────────────────────────────────────────────────────────────────────╯</span>\n",
              "</pre>\n"
            ],
            "text/plain": [
              "\u001b[94m╭─\u001b[0m\u001b[94m─────────────────────────────────────────────────\u001b[0m\u001b[1;34m [Assistant] \u001b[0m\u001b[94m─────────────────────────────────────────────────\u001b[0m\u001b[94m─╮\u001b[0m\n",
              "\u001b[94m│\u001b[0m The interventions on genes that extended the lifespan of mice the most are as follows:                          \u001b[94m│\u001b[0m\n",
              "\u001b[94m│\u001b[0m                                                                                                                 \u001b[94m│\u001b[0m\n",
              "\u001b[94m│\u001b[0m 1. **PROP1**: Improved insulin sensitivity and INS/IGFR pathway, resulting in a 60% lifespan extension.         \u001b[94m│\u001b[0m\n",
              "\u001b[94m│\u001b[0m 2. **PROP1**: No specific improvement noted, resulting in a 46% lifespan extension.                             \u001b[94m│\u001b[0m\n",
              "\u001b[94m│\u001b[0m 3. **PIK3CA**: No specific improvement noted, resulting in a 45% lifespan extension.                            \u001b[94m│\u001b[0m\n",
              "\u001b[94m│\u001b[0m 4. **PROP1**: Improved glucose metabolism and INS/IGFR pathway, resulting in a 44.7% lifespan extension.        \u001b[94m│\u001b[0m\n",
              "\u001b[94m│\u001b[0m 5. **PROP1**: No specific improvement noted, resulting in a 44% lifespan extension.                             \u001b[94m│\u001b[0m\n",
              "\u001b[94m│\u001b[0m                                                                                                                 \u001b[94m│\u001b[0m\n",
              "\u001b[94m│\u001b[0m The gene **PROP1** appears multiple times with significant lifespan extensions under different conditions.      \u001b[94m│\u001b[0m\n",
              "\u001b[94m╰─────────────────────────────────────────────────────────────────────────────────────────────────────────────────╯\u001b[0m\n"
            ]
          },
          "metadata": {},
          "output_type": "display_data"
        }
      ],
      "source": [
        "from just_agents.base_agent import BaseAgent\n",
        "from just_agents import llm_options\n",
        "\n",
        "prompt = \"Interventions on which genes extended mice lifespan most of all? Search all the relevant tables in the open-genes sqlite and only for mouse\"\n",
        "\n",
        "agent: BaseAgent = BaseAgent(\n",
        "    llm_options=llm_options.GEMINI_2_5_FLASH,\n",
        "    system_prompt='open_genes.txt',\n",
        "    tools=[db_query]\n",
        ")\n",
        "\n",
        "\n",
        "result = agent.query(prompt)\n",
        "agent.memory.pretty_print_all_messages()"
      ]
    },
    {
      "cell_type": "markdown",
      "metadata": {
        "id": "UdHp2OAk7MTg"
      },
      "source": [
        "Now to check it let's call the same code but with model OPENAIgpt4omini"
      ]
    },
    {
      "cell_type": "code",
      "execution_count": null,
      "metadata": {
        "colab": {
          "base_uri": "https://localhost:8080/"
        },
        "id": "bdd1wW3_7OYw",
        "outputId": "dda48f04-4e14-49ed-ce6b-9c7c2460cd00"
      },
      "outputs": [
        {
          "name": "stdout",
          "output_type": "stream",
          "text": [
            "{'content': 'Interventions on which genes extended mice lifespan most of all? '\n",
            "            'Search all the relevant tables in the open-genes sqlite and only '\n",
            "            'for mouse',\n",
            " 'role': 'user'}\n",
            "{'role': 'assistant',\n",
            " 'tool_calls': [{'function': {'arguments': '{\"sql\": \"SELECT HGNC, '\n",
            "                                           'effect_on_lifespan, '\n",
            "                                           'control_lifespan_mean, '\n",
            "                                           'experiment_lifespan_mean, '\n",
            "                                           'lifespan_percent_change_mean FROM '\n",
            "                                           'lifespan_change WHERE '\n",
            "                                           \"model_organism = 'mouse' AND \"\n",
            "                                           'effect_on_lifespan LIKE '\n",
            "                                           \"'%increases lifespan%' ORDER BY \"\n",
            "                                           'lifespan_percent_change_mean DESC '\n",
            "                                           'LIMIT 10;\"}',\n",
            "                              'name': 'db_query'},\n",
            "                 'id': 'call_cfgC57TBJ6QiQI83tni7Vwwo',\n",
            "                 'type': 'function'},\n",
            "                {'function': {'arguments': '{\"sql\": \"SELECT gene_name, '\n",
            "                                           'intervention_type, '\n",
            "                                           'lifespan_extension FROM '\n",
            "                                           'longevity_associations WHERE '\n",
            "                                           'species = \\'mouse\\';\"}',\n",
            "                              'name': 'db_query'},\n",
            "                 'id': 'call_YafB9vMvzOtS298KhWBostUp',\n",
            "                 'type': 'function'}]}\n",
            "{'content': 'HGNC; effect_on_lifespan; control_lifespan_mean; '\n",
            "            'experiment_lifespan_mean; lifespan_percent_change_mean\\n'\n",
            "            'GHR; increases lifespan; 700.7; 1179.0; 68.2\\n'\n",
            "            'PROP1; increases lifespan; 718.0; 1206.0; 68.0\\n'\n",
            "            'GHR; increases lifespan; 629.0; 975.0; 55.0\\n'\n",
            "            'VEGFA; increases lifespan; 628.37; 953.27; 51.7\\n'\n",
            "            'PROP1; increases lifespan; 723.0; 1076.0; 49.0\\n'\n",
            "            'POU1F1; increases lifespan; 571.0; 844.0; 48.0\\n'\n",
            "            'POU1F1; increases lifespan; 28.6; 39.4; 42.0\\n'\n",
            "            'POU1F1; increases lifespan; 811.0; 1148.0; 42.0\\n'\n",
            "            'VEGFA; increases lifespan; 671.0; 952.0; 41.9\\n'\n",
            "            'UCP1; increases lifespan; 523.0; 736.0; 40.7\\n',\n",
            " 'name': 'db_query',\n",
            " 'role': 'tool',\n",
            " 'tool_call_id': 'call_cfgC57TBJ6QiQI83tni7Vwwo'}\n",
            "{'content': 'no such column: gene_name',\n",
            " 'name': 'db_query',\n",
            " 'role': 'tool',\n",
            " 'tool_call_id': 'call_YafB9vMvzOtS298KhWBostUp'}\n",
            "{'content': 'Based on the data retrieved from the `lifespan_change` table, '\n",
            "            'here are the genes associated with interventions that extended '\n",
            "            'the lifespan of mice:\\n'\n",
            "            '\\n'\n",
            "            '### Genes and Their Lifespan Extension Effects\\n'\n",
            "            '\\n'\n",
            "            '1. **GHR**\\n'\n",
            "            '   - **Effect on Lifespan**: Increases lifespan\\n'\n",
            "            '   - **Control Lifespan Mean**: 700.7 days\\n'\n",
            "            '   - **Experiment Lifespan Mean**: 1179.0 days\\n'\n",
            "            '   - **Lifespan Percent Change Mean**: 68.2%\\n'\n",
            "            '\\n'\n",
            "            '2. **PROP1**\\n'\n",
            "            '   - **Effect on Lifespan**: Increases lifespan\\n'\n",
            "            '   - **Control Lifespan Mean**: 718.0 days\\n'\n",
            "            '   - **Experiment Lifespan Mean**: 1206.0 days\\n'\n",
            "            '   - **Lifespan Percent Change Mean**: 68.0%\\n'\n",
            "            '\\n'\n",
            "            '3. **GHR** (another entry)\\n'\n",
            "            '   - **Effect on Lifespan**: Increases lifespan\\n'\n",
            "            '   - **Control Lifespan Mean**: 629.0 days\\n'\n",
            "            '   - **Experiment Lifespan Mean**: 975.0 days\\n'\n",
            "            '   - **Lifespan Percent Change Mean**: 55.0%\\n'\n",
            "            '\\n'\n",
            "            '4. **VEGFA**\\n'\n",
            "            '   - **Effect on Lifespan**: Increases lifespan\\n'\n",
            "            '   - **Control Lifespan Mean**: 628.37 days\\n'\n",
            "            '   - **Experiment Lifespan Mean**: 953.27 days\\n'\n",
            "            '   - **Lifespan Percent Change Mean**: 51.7%\\n'\n",
            "            '\\n'\n",
            "            '5. **PROP1** (another entry)\\n'\n",
            "            '   - **Effect on Lifespan**: Increases lifespan\\n'\n",
            "            '   - **Control Lifespan Mean**: 723.0 days\\n'\n",
            "            '   - **Experiment Lifespan Mean**: 1076.0 days\\n'\n",
            "            '   - **Lifespan Percent Change Mean**: 49.0%\\n'\n",
            "            '\\n'\n",
            "            '6. **POU1F1**\\n'\n",
            "            '   - **Effect on Lifespan**: Increases lifespan\\n'\n",
            "            '   - **Control Lifespan Mean**: 571.0 days\\n'\n",
            "            '   - **Experiment Lifespan Mean**: 844.0 days\\n'\n",
            "            '   - **Lifespan Percent Change Mean**: 48.0%\\n'\n",
            "            '\\n'\n",
            "            '7. **POU1F1** (another entry)\\n'\n",
            "            '   - **Effect on Lifespan**: Increases lifespan\\n'\n",
            "            '   - **Control Lifespan Mean**: 28.6 days\\n'\n",
            "            '   - **Experiment Lifespan Mean**: 39.4 days\\n'\n",
            "            '   - **Lifespan Percent Change Mean**: 42.0%\\n'\n",
            "            '\\n'\n",
            "            '8. **POU1F1** (another entry)\\n'\n",
            "            '   - **Effect on Lifespan**: Increases lifespan\\n'\n",
            "            '   - **Control Lifespan Mean**: 811.0 days\\n'\n",
            "            '   - **Experiment Lifespan Mean**: 1148.0 days\\n'\n",
            "            '   - **Lifespan Percent Change Mean**: 42.0%\\n'\n",
            "            '\\n'\n",
            "            '9. **VEGFA** (another entry)\\n'\n",
            "            '   - **Effect on Lifespan**: Increases lifespan\\n'\n",
            "            '   - **Control Lifespan Mean**: 671.0 days\\n'\n",
            "            '   - **Experiment Lifespan Mean**: 952.0 days\\n'\n",
            "            '   - **Lifespan Percent Change Mean**: 41.9%\\n'\n",
            "            '\\n'\n",
            "            '10. **UCP1**\\n'\n",
            "            '    - **Effect on Lifespan**: Increases lifespan\\n'\n",
            "            '    - **Control Lifespan Mean**: 523.0 days\\n'\n",
            "            '    - **Experiment Lifespan Mean**: 736.0 days\\n'\n",
            "            '    - **Lifespan Percent Change Mean**: 40.7%\\n'\n",
            "            '\\n'\n",
            "            '### Summary\\n'\n",
            "            'The genes **GHR** and **PROP1** show the most significant '\n",
            "            'lifespan extensions in mice, with percent changes of 68.2% and '\n",
            "            '68.0%, respectively. Other notable genes include **VEGFA** and '\n",
            "            '**POU1F1**, which also contribute to lifespan increases.\\n'\n",
            "            '\\n'\n",
            "            'If you need further details or specific analyses, feel free to '\n",
            "            'ask!',\n",
            " 'role': 'assistant'}\n",
            "RESULT+++++++++++++++++++++++++++++++++++++++++++++++\n",
            "Based on the data retrieved from the `lifespan_change` table, here are the genes associated with interventions that extended the lifespan of mice:\n",
            "\n",
            "### Genes and Their Lifespan Extension Effects\n",
            "\n",
            "1. **GHR**\n",
            "   - **Effect on Lifespan**: Increases lifespan\n",
            "   - **Control Lifespan Mean**: 700.7 days\n",
            "   - **Experiment Lifespan Mean**: 1179.0 days\n",
            "   - **Lifespan Percent Change Mean**: 68.2%\n",
            "\n",
            "2. **PROP1**\n",
            "   - **Effect on Lifespan**: Increases lifespan\n",
            "   - **Control Lifespan Mean**: 718.0 days\n",
            "   - **Experiment Lifespan Mean**: 1206.0 days\n",
            "   - **Lifespan Percent Change Mean**: 68.0%\n",
            "\n",
            "3. **GHR** (another entry)\n",
            "   - **Effect on Lifespan**: Increases lifespan\n",
            "   - **Control Lifespan Mean**: 629.0 days\n",
            "   - **Experiment Lifespan Mean**: 975.0 days\n",
            "   - **Lifespan Percent Change Mean**: 55.0%\n",
            "\n",
            "4. **VEGFA**\n",
            "   - **Effect on Lifespan**: Increases lifespan\n",
            "   - **Control Lifespan Mean**: 628.37 days\n",
            "   - **Experiment Lifespan Mean**: 953.27 days\n",
            "   - **Lifespan Percent Change Mean**: 51.7%\n",
            "\n",
            "5. **PROP1** (another entry)\n",
            "   - **Effect on Lifespan**: Increases lifespan\n",
            "   - **Control Lifespan Mean**: 723.0 days\n",
            "   - **Experiment Lifespan Mean**: 1076.0 days\n",
            "   - **Lifespan Percent Change Mean**: 49.0%\n",
            "\n",
            "6. **POU1F1**\n",
            "   - **Effect on Lifespan**: Increases lifespan\n",
            "   - **Control Lifespan Mean**: 571.0 days\n",
            "   - **Experiment Lifespan Mean**: 844.0 days\n",
            "   - **Lifespan Percent Change Mean**: 48.0%\n",
            "\n",
            "7. **POU1F1** (another entry)\n",
            "   - **Effect on Lifespan**: Increases lifespan\n",
            "   - **Control Lifespan Mean**: 28.6 days\n",
            "   - **Experiment Lifespan Mean**: 39.4 days\n",
            "   - **Lifespan Percent Change Mean**: 42.0%\n",
            "\n",
            "8. **POU1F1** (another entry)\n",
            "   - **Effect on Lifespan**: Increases lifespan\n",
            "   - **Control Lifespan Mean**: 811.0 days\n",
            "   - **Experiment Lifespan Mean**: 1148.0 days\n",
            "   - **Lifespan Percent Change Mean**: 42.0%\n",
            "\n",
            "9. **VEGFA** (another entry)\n",
            "   - **Effect on Lifespan**: Increases lifespan\n",
            "   - **Control Lifespan Mean**: 671.0 days\n",
            "   - **Experiment Lifespan Mean**: 952.0 days\n",
            "   - **Lifespan Percent Change Mean**: 41.9%\n",
            "\n",
            "10. **UCP1**\n",
            "    - **Effect on Lifespan**: Increases lifespan\n",
            "    - **Control Lifespan Mean**: 523.0 days\n",
            "    - **Experiment Lifespan Mean**: 736.0 days\n",
            "    - **Lifespan Percent Change Mean**: 40.7%\n",
            "\n",
            "### Summary\n",
            "The genes **GHR** and **PROP1** show the most significant lifespan extensions in mice, with percent changes of 68.2% and 68.0%, respectively. Other notable genes include **VEGFA** and **POU1F1**, which also contribute to lifespan increases.\n",
            "\n",
            "If you need further details or specific analyses, feel free to ask!\n"
          ]
        }
      ],
      "source": [
        "from just_agents.base_agent import BaseAgent\n",
        "from just_agents import llm_options\n",
        "\n",
        "prompt = \"Interventions on which genes extended mice lifespan most of all? Search all the relevant tables in the open-genes sqlite and only for mouse\"\n",
        "\n",
        "\n",
        "session: BaseAgent = BaseAgent(\n",
        "    llm_options=llm_options.LLAMA4_SCOUT,\n",
        "    system_prompt='open_genes.txt',\n",
        "    tools=[db_query]\n",
        ")\n",
        "\n",
        "result = agent.query(prompt)\n",
        "agent.memory.pretty_print_all_messages()\n"
      ]
    },
    {
      "cell_type": "markdown",
      "metadata": {
        "id": "zMzimFHt7Qgl"
      },
      "source": [
        "This shows that even with careful arragement prompts can still fail. It is important to check the results and stability of results before anything else.\n",
        "\n",
        "Here are some more questions to be tested\n",
        "\n",
        "1. What genes need to be downregulated in worms to extend their lifespan?\n",
        "2. What processes are improved in GHR knockout mice?\n",
        "3. Which genetic intervention led to the greatest increase in lifespan in flies?\n",
        "4. To what extent did the lifespan increase in mice overexpressing VEGFA?\n",
        "5. Are there any liver-specific interventions that increase lifespan in mice?\n",
        "6. Which gene-longevity association is confirmed by the greatest number of studies?\n",
        "7. What polymorphisms in FOXO3 are associated with human longevity?\n",
        "8. In which ethnic groups was the association of the APOE gene with longevity shown?\n",
        "9. Is the INS gene polymorphism associated with longevity?\n",
        "10. What genes are associated with transcriptional alterations?\n",
        "11. Which hallmarks are associated with the KL gene?\n",
        "12. What genes change their expression with aging in humans?\n",
        "13. How many genes are associated with longevity in humans?\n",
        "14. What types of studies have been conducted on the IGF1R gene?\n",
        "15. What evidence of the link between PTEN and aging do you know?\n",
        "16. What genes are associated with both longevity and altered expression in aged humans?\n",
        "17. Is the expression of the ACE2 gene altered with aging in humans?\n",
        "18. Interventions on which genes extended mice lifespan most of all?\n",
        "19. Which knockdowns were most lifespan extending on model animals?"
      ]
    },
    {
      "cell_type": "code",
      "execution_count": null,
      "metadata": {
        "id": "1anUtpmM7S_-"
      },
      "outputs": [],
      "source": []
    }
  ],
  "metadata": {
    "colab": {
      "provenance": [],
      "include_colab_link": true
    },
    "kernelspec": {
      "display_name": "Python 3",
      "name": "python3"
    },
    "language_info": {
      "codemirror_mode": {
        "name": "ipython",
        "version": 3
      },
      "file_extension": ".py",
      "mimetype": "text/x-python",
      "name": "python",
      "nbconvert_exporter": "python",
      "pygments_lexer": "ipython3",
      "version": "3.12.3"
    }
  },
  "nbformat": 4,
  "nbformat_minor": 0
}