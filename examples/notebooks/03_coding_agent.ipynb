{
  "cells": [
    {
      "cell_type": "markdown",
      "metadata": {
        "colab_type": "text",
        "id": "view-in-github"
      },
      "source": [
        "<a href=\"https://colab.research.google.com/github/longevity-genie/just-agents/blob/main/examples/notebooks/03_coding_agent.ipynb\" target=\"_parent\"><img src=\"https://colab.research.google.com/assets/colab-badge.svg\" alt=\"Open In Colab\"/></a>"
      ]
    },
    {
      "cell_type": "markdown",
      "metadata": {
        "id": "xMh-QD4m8F7V"
      },
      "source": [
        "# Coding Just-Agents tutorial\n",
        "\n",
        "In this tutorial we will develop an LLM agent that can code with just-agents library."
      ]
    },
    {
      "cell_type": "markdown",
      "metadata": {
        "id": "I-pvhtr9ZW1C"
      },
      "source": [
        "It is the third tutorial in a series of tutorials, other ones are:\n",
        "1. Basic agents tutorial \n",
        "2. Database agent tutorial \n",
        "3. Coding agent tutorial  (THIS ONE) "
      ]
    },
    {
      "cell_type": "markdown",
      "metadata": {
        "id": "1-vnEKue7nD-"
      },
      "source": [
        "Here we will write an agent that can write code and install dependencies. The default just-agents code agent uses safe non-root docker sandboxes to isolate environment from the host. However, such approach will not work with google collab, so we will write a coding agent from scratch"
      ]
    },
    {
      "cell_type": "markdown",
      "metadata": {
        "id": "BT5jfOGxZb7j"
      },
      "source": [
        "Install just-agents library and provide API keys for Groq and OpenAi"
      ]
    },
    {
      "cell_type": "code",
      "execution_count": 1,
      "metadata": {
        "colab": {
          "base_uri": "https://localhost:8080/"
        },
        "collapsed": true,
        "id": "dGi8WOSQZe2s",
        "outputId": "65244cb8-f479-4f77-b37b-07690d1ae5a6"
      },
      "outputs": [
        {
          "name": "stdout",
          "output_type": "stream",
          "text": [
            "Requirement already satisfied: just-agents-core==0.6.1 in /home/antonkulaga/.cache/pypoetry/virtualenvs/just-agents-jj5lCgqj-py3.12/lib/python3.12/site-packages (0.6.1)\n",
            "Requirement already satisfied: Deprecated>=1.2.15 in /home/antonkulaga/.cache/pypoetry/virtualenvs/just-agents-jj5lCgqj-py3.12/lib/python3.12/site-packages (from just-agents-core==0.6.1) (1.2.18)\n",
            "Requirement already satisfied: litellm>=1.61.16 in /home/antonkulaga/.cache/pypoetry/virtualenvs/just-agents-jj5lCgqj-py3.12/lib/python3.12/site-packages (from just-agents-core==0.6.1) (1.61.20)\n",
            "Requirement already satisfied: numpydoc in /home/antonkulaga/.cache/pypoetry/virtualenvs/just-agents-jj5lCgqj-py3.12/lib/python3.12/site-packages (from just-agents-core==0.6.1) (1.8.0)\n",
            "Requirement already satisfied: pydantic<3.0.0,>=2.0.0 in /home/antonkulaga/.cache/pypoetry/virtualenvs/just-agents-jj5lCgqj-py3.12/lib/python3.12/site-packages (from just-agents-core==0.6.1) (2.10.6)\n",
            "Requirement already satisfied: python-dotenv>=1.0.1 in /home/antonkulaga/.cache/pypoetry/virtualenvs/just-agents-jj5lCgqj-py3.12/lib/python3.12/site-packages (from just-agents-core==0.6.1) (1.0.1)\n",
            "Requirement already satisfied: requests in /home/antonkulaga/.cache/pypoetry/virtualenvs/just-agents-jj5lCgqj-py3.12/lib/python3.12/site-packages (from just-agents-core==0.6.1) (2.32.3)\n",
            "Requirement already satisfied: rich>=13.9.4 in /home/antonkulaga/.cache/pypoetry/virtualenvs/just-agents-jj5lCgqj-py3.12/lib/python3.12/site-packages (from just-agents-core==0.6.1) (13.9.4)\n",
            "Requirement already satisfied: wrapt<2,>=1.10 in /home/antonkulaga/.cache/pypoetry/virtualenvs/just-agents-jj5lCgqj-py3.12/lib/python3.12/site-packages (from Deprecated>=1.2.15->just-agents-core==0.6.1) (1.17.2)\n",
            "Requirement already satisfied: aiohttp in /home/antonkulaga/.cache/pypoetry/virtualenvs/just-agents-jj5lCgqj-py3.12/lib/python3.12/site-packages (from litellm>=1.61.16->just-agents-core==0.6.1) (3.11.13)\n",
            "Requirement already satisfied: click in /home/antonkulaga/.cache/pypoetry/virtualenvs/just-agents-jj5lCgqj-py3.12/lib/python3.12/site-packages (from litellm>=1.61.16->just-agents-core==0.6.1) (8.1.8)\n",
            "Requirement already satisfied: httpx>=0.23.0 in /home/antonkulaga/.cache/pypoetry/virtualenvs/just-agents-jj5lCgqj-py3.12/lib/python3.12/site-packages (from litellm>=1.61.16->just-agents-core==0.6.1) (0.28.1)\n",
            "Requirement already satisfied: importlib-metadata>=6.8.0 in /home/antonkulaga/.cache/pypoetry/virtualenvs/just-agents-jj5lCgqj-py3.12/lib/python3.12/site-packages (from litellm>=1.61.16->just-agents-core==0.6.1) (8.6.1)\n",
            "Requirement already satisfied: jinja2<4.0.0,>=3.1.2 in /home/antonkulaga/.cache/pypoetry/virtualenvs/just-agents-jj5lCgqj-py3.12/lib/python3.12/site-packages (from litellm>=1.61.16->just-agents-core==0.6.1) (3.1.5)\n",
            "Requirement already satisfied: jsonschema<5.0.0,>=4.22.0 in /home/antonkulaga/.cache/pypoetry/virtualenvs/just-agents-jj5lCgqj-py3.12/lib/python3.12/site-packages (from litellm>=1.61.16->just-agents-core==0.6.1) (4.23.0)\n",
            "Requirement already satisfied: openai>=1.61.0 in /home/antonkulaga/.cache/pypoetry/virtualenvs/just-agents-jj5lCgqj-py3.12/lib/python3.12/site-packages (from litellm>=1.61.16->just-agents-core==0.6.1) (1.65.1)\n",
            "Requirement already satisfied: tiktoken>=0.7.0 in /home/antonkulaga/.cache/pypoetry/virtualenvs/just-agents-jj5lCgqj-py3.12/lib/python3.12/site-packages (from litellm>=1.61.16->just-agents-core==0.6.1) (0.9.0)\n",
            "Requirement already satisfied: tokenizers in /home/antonkulaga/.cache/pypoetry/virtualenvs/just-agents-jj5lCgqj-py3.12/lib/python3.12/site-packages (from litellm>=1.61.16->just-agents-core==0.6.1) (0.21.0)\n",
            "Requirement already satisfied: annotated-types>=0.6.0 in /home/antonkulaga/.cache/pypoetry/virtualenvs/just-agents-jj5lCgqj-py3.12/lib/python3.12/site-packages (from pydantic<3.0.0,>=2.0.0->just-agents-core==0.6.1) (0.7.0)\n",
            "Requirement already satisfied: pydantic-core==2.27.2 in /home/antonkulaga/.cache/pypoetry/virtualenvs/just-agents-jj5lCgqj-py3.12/lib/python3.12/site-packages (from pydantic<3.0.0,>=2.0.0->just-agents-core==0.6.1) (2.27.2)\n",
            "Requirement already satisfied: typing-extensions>=4.12.2 in /home/antonkulaga/.cache/pypoetry/virtualenvs/just-agents-jj5lCgqj-py3.12/lib/python3.12/site-packages (from pydantic<3.0.0,>=2.0.0->just-agents-core==0.6.1) (4.12.2)\n",
            "Requirement already satisfied: markdown-it-py>=2.2.0 in /home/antonkulaga/.cache/pypoetry/virtualenvs/just-agents-jj5lCgqj-py3.12/lib/python3.12/site-packages (from rich>=13.9.4->just-agents-core==0.6.1) (3.0.0)\n",
            "Requirement already satisfied: pygments<3.0.0,>=2.13.0 in /home/antonkulaga/.cache/pypoetry/virtualenvs/just-agents-jj5lCgqj-py3.12/lib/python3.12/site-packages (from rich>=13.9.4->just-agents-core==0.6.1) (2.19.1)\n",
            "Requirement already satisfied: sphinx>=6 in /home/antonkulaga/.cache/pypoetry/virtualenvs/just-agents-jj5lCgqj-py3.12/lib/python3.12/site-packages (from numpydoc->just-agents-core==0.6.1) (8.1.3)\n",
            "Requirement already satisfied: tabulate>=0.8.10 in /home/antonkulaga/.cache/pypoetry/virtualenvs/just-agents-jj5lCgqj-py3.12/lib/python3.12/site-packages (from numpydoc->just-agents-core==0.6.1) (0.9.0)\n",
            "Requirement already satisfied: charset-normalizer<4,>=2 in /home/antonkulaga/.cache/pypoetry/virtualenvs/just-agents-jj5lCgqj-py3.12/lib/python3.12/site-packages (from requests->just-agents-core==0.6.1) (3.4.1)\n",
            "Requirement already satisfied: idna<4,>=2.5 in /home/antonkulaga/.cache/pypoetry/virtualenvs/just-agents-jj5lCgqj-py3.12/lib/python3.12/site-packages (from requests->just-agents-core==0.6.1) (3.10)\n",
            "Requirement already satisfied: urllib3<3,>=1.21.1 in /home/antonkulaga/.cache/pypoetry/virtualenvs/just-agents-jj5lCgqj-py3.12/lib/python3.12/site-packages (from requests->just-agents-core==0.6.1) (2.3.0)\n",
            "Requirement already satisfied: certifi>=2017.4.17 in /home/antonkulaga/.cache/pypoetry/virtualenvs/just-agents-jj5lCgqj-py3.12/lib/python3.12/site-packages (from requests->just-agents-core==0.6.1) (2025.1.31)\n",
            "Requirement already satisfied: anyio in /home/antonkulaga/.cache/pypoetry/virtualenvs/just-agents-jj5lCgqj-py3.12/lib/python3.12/site-packages (from httpx>=0.23.0->litellm>=1.61.16->just-agents-core==0.6.1) (4.8.0)\n",
            "Requirement already satisfied: httpcore==1.* in /home/antonkulaga/.cache/pypoetry/virtualenvs/just-agents-jj5lCgqj-py3.12/lib/python3.12/site-packages (from httpx>=0.23.0->litellm>=1.61.16->just-agents-core==0.6.1) (1.0.7)\n",
            "Requirement already satisfied: h11<0.15,>=0.13 in /home/antonkulaga/.cache/pypoetry/virtualenvs/just-agents-jj5lCgqj-py3.12/lib/python3.12/site-packages (from httpcore==1.*->httpx>=0.23.0->litellm>=1.61.16->just-agents-core==0.6.1) (0.14.0)\n",
            "Requirement already satisfied: zipp>=3.20 in /home/antonkulaga/.cache/pypoetry/virtualenvs/just-agents-jj5lCgqj-py3.12/lib/python3.12/site-packages (from importlib-metadata>=6.8.0->litellm>=1.61.16->just-agents-core==0.6.1) (3.21.0)\n",
            "Requirement already satisfied: MarkupSafe>=2.0 in /home/antonkulaga/.cache/pypoetry/virtualenvs/just-agents-jj5lCgqj-py3.12/lib/python3.12/site-packages (from jinja2<4.0.0,>=3.1.2->litellm>=1.61.16->just-agents-core==0.6.1) (3.0.2)\n",
            "Requirement already satisfied: attrs>=22.2.0 in /home/antonkulaga/.cache/pypoetry/virtualenvs/just-agents-jj5lCgqj-py3.12/lib/python3.12/site-packages (from jsonschema<5.0.0,>=4.22.0->litellm>=1.61.16->just-agents-core==0.6.1) (25.1.0)\n",
            "Requirement already satisfied: jsonschema-specifications>=2023.03.6 in /home/antonkulaga/.cache/pypoetry/virtualenvs/just-agents-jj5lCgqj-py3.12/lib/python3.12/site-packages (from jsonschema<5.0.0,>=4.22.0->litellm>=1.61.16->just-agents-core==0.6.1) (2024.10.1)\n",
            "Requirement already satisfied: referencing>=0.28.4 in /home/antonkulaga/.cache/pypoetry/virtualenvs/just-agents-jj5lCgqj-py3.12/lib/python3.12/site-packages (from jsonschema<5.0.0,>=4.22.0->litellm>=1.61.16->just-agents-core==0.6.1) (0.36.2)\n",
            "Requirement already satisfied: rpds-py>=0.7.1 in /home/antonkulaga/.cache/pypoetry/virtualenvs/just-agents-jj5lCgqj-py3.12/lib/python3.12/site-packages (from jsonschema<5.0.0,>=4.22.0->litellm>=1.61.16->just-agents-core==0.6.1) (0.23.1)\n",
            "Requirement already satisfied: mdurl~=0.1 in /home/antonkulaga/.cache/pypoetry/virtualenvs/just-agents-jj5lCgqj-py3.12/lib/python3.12/site-packages (from markdown-it-py>=2.2.0->rich>=13.9.4->just-agents-core==0.6.1) (0.1.2)\n",
            "Requirement already satisfied: distro<2,>=1.7.0 in /home/antonkulaga/.cache/pypoetry/virtualenvs/just-agents-jj5lCgqj-py3.12/lib/python3.12/site-packages (from openai>=1.61.0->litellm>=1.61.16->just-agents-core==0.6.1) (1.9.0)\n",
            "Requirement already satisfied: jiter<1,>=0.4.0 in /home/antonkulaga/.cache/pypoetry/virtualenvs/just-agents-jj5lCgqj-py3.12/lib/python3.12/site-packages (from openai>=1.61.0->litellm>=1.61.16->just-agents-core==0.6.1) (0.8.2)\n",
            "Requirement already satisfied: sniffio in /home/antonkulaga/.cache/pypoetry/virtualenvs/just-agents-jj5lCgqj-py3.12/lib/python3.12/site-packages (from openai>=1.61.0->litellm>=1.61.16->just-agents-core==0.6.1) (1.3.1)\n",
            "Requirement already satisfied: tqdm>4 in /home/antonkulaga/.cache/pypoetry/virtualenvs/just-agents-jj5lCgqj-py3.12/lib/python3.12/site-packages (from openai>=1.61.0->litellm>=1.61.16->just-agents-core==0.6.1) (4.67.1)\n",
            "Requirement already satisfied: sphinxcontrib-applehelp>=1.0.7 in /home/antonkulaga/.cache/pypoetry/virtualenvs/just-agents-jj5lCgqj-py3.12/lib/python3.12/site-packages (from sphinx>=6->numpydoc->just-agents-core==0.6.1) (2.0.0)\n",
            "Requirement already satisfied: sphinxcontrib-devhelp>=1.0.6 in /home/antonkulaga/.cache/pypoetry/virtualenvs/just-agents-jj5lCgqj-py3.12/lib/python3.12/site-packages (from sphinx>=6->numpydoc->just-agents-core==0.6.1) (2.0.0)\n",
            "Requirement already satisfied: sphinxcontrib-htmlhelp>=2.0.6 in /home/antonkulaga/.cache/pypoetry/virtualenvs/just-agents-jj5lCgqj-py3.12/lib/python3.12/site-packages (from sphinx>=6->numpydoc->just-agents-core==0.6.1) (2.1.0)\n",
            "Requirement already satisfied: sphinxcontrib-jsmath>=1.0.1 in /home/antonkulaga/.cache/pypoetry/virtualenvs/just-agents-jj5lCgqj-py3.12/lib/python3.12/site-packages (from sphinx>=6->numpydoc->just-agents-core==0.6.1) (1.0.1)\n",
            "Requirement already satisfied: sphinxcontrib-qthelp>=1.0.6 in /home/antonkulaga/.cache/pypoetry/virtualenvs/just-agents-jj5lCgqj-py3.12/lib/python3.12/site-packages (from sphinx>=6->numpydoc->just-agents-core==0.6.1) (2.0.0)\n",
            "Requirement already satisfied: sphinxcontrib-serializinghtml>=1.1.9 in /home/antonkulaga/.cache/pypoetry/virtualenvs/just-agents-jj5lCgqj-py3.12/lib/python3.12/site-packages (from sphinx>=6->numpydoc->just-agents-core==0.6.1) (2.0.0)\n",
            "Requirement already satisfied: docutils<0.22,>=0.20 in /home/antonkulaga/.cache/pypoetry/virtualenvs/just-agents-jj5lCgqj-py3.12/lib/python3.12/site-packages (from sphinx>=6->numpydoc->just-agents-core==0.6.1) (0.21.2)\n",
            "Requirement already satisfied: snowballstemmer>=2.2 in /home/antonkulaga/.cache/pypoetry/virtualenvs/just-agents-jj5lCgqj-py3.12/lib/python3.12/site-packages (from sphinx>=6->numpydoc->just-agents-core==0.6.1) (2.2.0)\n",
            "Requirement already satisfied: babel>=2.13 in /home/antonkulaga/.cache/pypoetry/virtualenvs/just-agents-jj5lCgqj-py3.12/lib/python3.12/site-packages (from sphinx>=6->numpydoc->just-agents-core==0.6.1) (2.17.0)\n",
            "Requirement already satisfied: alabaster>=0.7.14 in /home/antonkulaga/.cache/pypoetry/virtualenvs/just-agents-jj5lCgqj-py3.12/lib/python3.12/site-packages (from sphinx>=6->numpydoc->just-agents-core==0.6.1) (1.0.0)\n",
            "Requirement already satisfied: imagesize>=1.3 in /home/antonkulaga/.cache/pypoetry/virtualenvs/just-agents-jj5lCgqj-py3.12/lib/python3.12/site-packages (from sphinx>=6->numpydoc->just-agents-core==0.6.1) (1.4.1)\n",
            "Requirement already satisfied: packaging>=23.0 in /home/antonkulaga/.cache/pypoetry/virtualenvs/just-agents-jj5lCgqj-py3.12/lib/python3.12/site-packages (from sphinx>=6->numpydoc->just-agents-core==0.6.1) (24.2)\n",
            "Requirement already satisfied: regex>=2022.1.18 in /home/antonkulaga/.cache/pypoetry/virtualenvs/just-agents-jj5lCgqj-py3.12/lib/python3.12/site-packages (from tiktoken>=0.7.0->litellm>=1.61.16->just-agents-core==0.6.1) (2024.11.6)\n",
            "Requirement already satisfied: aiohappyeyeballs>=2.3.0 in /home/antonkulaga/.cache/pypoetry/virtualenvs/just-agents-jj5lCgqj-py3.12/lib/python3.12/site-packages (from aiohttp->litellm>=1.61.16->just-agents-core==0.6.1) (2.4.6)\n",
            "Requirement already satisfied: aiosignal>=1.1.2 in /home/antonkulaga/.cache/pypoetry/virtualenvs/just-agents-jj5lCgqj-py3.12/lib/python3.12/site-packages (from aiohttp->litellm>=1.61.16->just-agents-core==0.6.1) (1.3.2)\n",
            "Requirement already satisfied: frozenlist>=1.1.1 in /home/antonkulaga/.cache/pypoetry/virtualenvs/just-agents-jj5lCgqj-py3.12/lib/python3.12/site-packages (from aiohttp->litellm>=1.61.16->just-agents-core==0.6.1) (1.5.0)\n",
            "Requirement already satisfied: multidict<7.0,>=4.5 in /home/antonkulaga/.cache/pypoetry/virtualenvs/just-agents-jj5lCgqj-py3.12/lib/python3.12/site-packages (from aiohttp->litellm>=1.61.16->just-agents-core==0.6.1) (6.1.0)\n",
            "Requirement already satisfied: propcache>=0.2.0 in /home/antonkulaga/.cache/pypoetry/virtualenvs/just-agents-jj5lCgqj-py3.12/lib/python3.12/site-packages (from aiohttp->litellm>=1.61.16->just-agents-core==0.6.1) (0.3.0)\n",
            "Requirement already satisfied: yarl<2.0,>=1.17.0 in /home/antonkulaga/.cache/pypoetry/virtualenvs/just-agents-jj5lCgqj-py3.12/lib/python3.12/site-packages (from aiohttp->litellm>=1.61.16->just-agents-core==0.6.1) (1.18.3)\n",
            "Requirement already satisfied: huggingface-hub<1.0,>=0.16.4 in /home/antonkulaga/.cache/pypoetry/virtualenvs/just-agents-jj5lCgqj-py3.12/lib/python3.12/site-packages (from tokenizers->litellm>=1.61.16->just-agents-core==0.6.1) (0.29.1)\n",
            "Requirement already satisfied: filelock in /home/antonkulaga/.cache/pypoetry/virtualenvs/just-agents-jj5lCgqj-py3.12/lib/python3.12/site-packages (from huggingface-hub<1.0,>=0.16.4->tokenizers->litellm>=1.61.16->just-agents-core==0.6.1) (3.17.0)\n",
            "Requirement already satisfied: fsspec>=2023.5.0 in /home/antonkulaga/.cache/pypoetry/virtualenvs/just-agents-jj5lCgqj-py3.12/lib/python3.12/site-packages (from huggingface-hub<1.0,>=0.16.4->tokenizers->litellm>=1.61.16->just-agents-core==0.6.1) (2025.2.0)\n",
            "Requirement already satisfied: pyyaml>=5.1 in /home/antonkulaga/.cache/pypoetry/virtualenvs/just-agents-jj5lCgqj-py3.12/lib/python3.12/site-packages (from huggingface-hub<1.0,>=0.16.4->tokenizers->litellm>=1.61.16->just-agents-core==0.6.1) (6.0.2)\n",
            "\n",
            "\u001b[1m[\u001b[0m\u001b[34;49mnotice\u001b[0m\u001b[1;39;49m]\u001b[0m\u001b[39;49m A new release of pip is available: \u001b[0m\u001b[31;49m24.2\u001b[0m\u001b[39;49m -> \u001b[0m\u001b[32;49m25.0.1\u001b[0m\n",
            "\u001b[1m[\u001b[0m\u001b[34;49mnotice\u001b[0m\u001b[1;39;49m]\u001b[0m\u001b[39;49m To update, run: \u001b[0m\u001b[32;49mpip install --upgrade pip\u001b[0m\n",
            "Requirement already satisfied: just-agents-examples==0.6.1 in /home/antonkulaga/.cache/pypoetry/virtualenvs/just-agents-jj5lCgqj-py3.12/lib/python3.12/site-packages (0.6.1)\n",
            "Requirement already satisfied: docker>=7.1.0 in /home/antonkulaga/.cache/pypoetry/virtualenvs/just-agents-jj5lCgqj-py3.12/lib/python3.12/site-packages (from just-agents-examples==0.6.1) (7.1.0)\n",
            "Requirement already satisfied: just-agents-coding in /home/antonkulaga/.cache/pypoetry/virtualenvs/just-agents-jj5lCgqj-py3.12/lib/python3.12/site-packages (from just-agents-examples==0.6.1) (0.5.9.post11+1de4a9d)\n",
            "Requirement already satisfied: just-agents-router in /home/antonkulaga/.cache/pypoetry/virtualenvs/just-agents-jj5lCgqj-py3.12/lib/python3.12/site-packages (from just-agents-examples==0.6.1) (0.5.9.post11+1de4a9d)\n",
            "Requirement already satisfied: just-agents-tools in /home/antonkulaga/.cache/pypoetry/virtualenvs/just-agents-jj5lCgqj-py3.12/lib/python3.12/site-packages (from just-agents-examples==0.6.1) (0.5.9.post11+1de4a9d)\n",
            "Requirement already satisfied: just-agents-web in /home/antonkulaga/.cache/pypoetry/virtualenvs/just-agents-jj5lCgqj-py3.12/lib/python3.12/site-packages (from just-agents-examples==0.6.1) (0.5.9.post11+1de4a9d)\n",
            "Requirement already satisfied: requests>=2.26.0 in /home/antonkulaga/.cache/pypoetry/virtualenvs/just-agents-jj5lCgqj-py3.12/lib/python3.12/site-packages (from docker>=7.1.0->just-agents-examples==0.6.1) (2.32.3)\n",
            "Requirement already satisfied: urllib3>=1.26.0 in /home/antonkulaga/.cache/pypoetry/virtualenvs/just-agents-jj5lCgqj-py3.12/lib/python3.12/site-packages (from docker>=7.1.0->just-agents-examples==0.6.1) (2.3.0)\n",
            "Requirement already satisfied: just-agents-core in /home/antonkulaga/.cache/pypoetry/virtualenvs/just-agents-jj5lCgqj-py3.12/lib/python3.12/site-packages (from just-agents-coding->just-agents-examples==0.6.1) (0.6.1)\n",
            "Requirement already satisfied: llm-sandbox>=0.2.3 in /home/antonkulaga/.cache/pypoetry/virtualenvs/just-agents-jj5lCgqj-py3.12/lib/python3.12/site-packages (from llm-sandbox[podman]>=0.2.3->just-agents-coding->just-agents-examples==0.6.1) (0.2.3)\n",
            "Requirement already satisfied: semanticscholar>=0.10.0 in /home/antonkulaga/.cache/pypoetry/virtualenvs/just-agents-jj5lCgqj-py3.12/lib/python3.12/site-packages (from just-agents-tools->just-agents-examples==0.6.1) (0.10.0)\n",
            "Requirement already satisfied: typer>=0.13.0 in /home/antonkulaga/.cache/pypoetry/virtualenvs/just-agents-jj5lCgqj-py3.12/lib/python3.12/site-packages (from just-agents-tools->just-agents-examples==0.6.1) (0.15.2)\n",
            "Requirement already satisfied: fastapi>=0.115.10 in /home/antonkulaga/.cache/pypoetry/virtualenvs/just-agents-jj5lCgqj-py3.12/lib/python3.12/site-packages (from just-agents-web->just-agents-examples==0.6.1) (0.115.10)\n",
            "Requirement already satisfied: pycomfort>=0.0.18 in /home/antonkulaga/.cache/pypoetry/virtualenvs/just-agents-jj5lCgqj-py3.12/lib/python3.12/site-packages (from just-agents-web->just-agents-examples==0.6.1) (0.0.18)\n",
            "Requirement already satisfied: uvicorn>=0.34.0 in /home/antonkulaga/.cache/pypoetry/virtualenvs/just-agents-jj5lCgqj-py3.12/lib/python3.12/site-packages (from just-agents-web->just-agents-examples==0.6.1) (0.34.0)\n",
            "Requirement already satisfied: starlette<0.47.0,>=0.40.0 in /home/antonkulaga/.cache/pypoetry/virtualenvs/just-agents-jj5lCgqj-py3.12/lib/python3.12/site-packages (from fastapi>=0.115.10->just-agents-web->just-agents-examples==0.6.1) (0.46.0)\n",
            "Requirement already satisfied: pydantic!=1.8,!=1.8.1,!=2.0.0,!=2.0.1,!=2.1.0,<3.0.0,>=1.7.4 in /home/antonkulaga/.cache/pypoetry/virtualenvs/just-agents-jj5lCgqj-py3.12/lib/python3.12/site-packages (from fastapi>=0.115.10->just-agents-web->just-agents-examples==0.6.1) (2.10.6)\n",
            "Requirement already satisfied: typing-extensions>=4.8.0 in /home/antonkulaga/.cache/pypoetry/virtualenvs/just-agents-jj5lCgqj-py3.12/lib/python3.12/site-packages (from fastapi>=0.115.10->just-agents-web->just-agents-examples==0.6.1) (4.12.2)\n",
            "Requirement already satisfied: podman<6.0.0,>=5.2.0 in /home/antonkulaga/.cache/pypoetry/virtualenvs/just-agents-jj5lCgqj-py3.12/lib/python3.12/site-packages (from llm-sandbox[podman]>=0.2.3->just-agents-coding->just-agents-examples==0.6.1) (5.4.0.1)\n",
            "Requirement already satisfied: Deprecated>=1.2.15 in /home/antonkulaga/.cache/pypoetry/virtualenvs/just-agents-jj5lCgqj-py3.12/lib/python3.12/site-packages (from pycomfort>=0.0.18->just-agents-web->just-agents-examples==0.6.1) (1.2.18)\n",
            "Requirement already satisfied: eliot>=1.17.5 in /home/antonkulaga/.cache/pypoetry/virtualenvs/just-agents-jj5lCgqj-py3.12/lib/python3.12/site-packages (from pycomfort>=0.0.18->just-agents-web->just-agents-examples==0.6.1) (1.17.5)\n",
            "Requirement already satisfied: eliot-tree>=24.0.0 in /home/antonkulaga/.cache/pypoetry/virtualenvs/just-agents-jj5lCgqj-py3.12/lib/python3.12/site-packages (from pycomfort>=0.0.18->just-agents-web->just-agents-examples==0.6.1) (24.0.0)\n",
            "Requirement already satisfied: more-itertools>=10.6.0 in /home/antonkulaga/.cache/pypoetry/virtualenvs/just-agents-jj5lCgqj-py3.12/lib/python3.12/site-packages (from pycomfort>=0.0.18->just-agents-web->just-agents-examples==0.6.1) (10.6.0)\n",
            "Requirement already satisfied: pyfunctional<=1.5.0 in /home/antonkulaga/.cache/pypoetry/virtualenvs/just-agents-jj5lCgqj-py3.12/lib/python3.12/site-packages (from pycomfort>=0.0.18->just-agents-web->just-agents-examples==0.6.1) (1.5.0)\n",
            "Requirement already satisfied: python-dotenv in /home/antonkulaga/.cache/pypoetry/virtualenvs/just-agents-jj5lCgqj-py3.12/lib/python3.12/site-packages (from pycomfort>=0.0.18->just-agents-web->just-agents-examples==0.6.1) (1.0.1)\n",
            "Requirement already satisfied: charset-normalizer<4,>=2 in /home/antonkulaga/.cache/pypoetry/virtualenvs/just-agents-jj5lCgqj-py3.12/lib/python3.12/site-packages (from requests>=2.26.0->docker>=7.1.0->just-agents-examples==0.6.1) (3.4.1)\n",
            "Requirement already satisfied: idna<4,>=2.5 in /home/antonkulaga/.cache/pypoetry/virtualenvs/just-agents-jj5lCgqj-py3.12/lib/python3.12/site-packages (from requests>=2.26.0->docker>=7.1.0->just-agents-examples==0.6.1) (3.10)\n",
            "Requirement already satisfied: certifi>=2017.4.17 in /home/antonkulaga/.cache/pypoetry/virtualenvs/just-agents-jj5lCgqj-py3.12/lib/python3.12/site-packages (from requests>=2.26.0->docker>=7.1.0->just-agents-examples==0.6.1) (2025.1.31)\n",
            "Requirement already satisfied: tenacity in /home/antonkulaga/.cache/pypoetry/virtualenvs/just-agents-jj5lCgqj-py3.12/lib/python3.12/site-packages (from semanticscholar>=0.10.0->just-agents-tools->just-agents-examples==0.6.1) (9.0.0)\n",
            "Requirement already satisfied: httpx in /home/antonkulaga/.cache/pypoetry/virtualenvs/just-agents-jj5lCgqj-py3.12/lib/python3.12/site-packages (from semanticscholar>=0.10.0->just-agents-tools->just-agents-examples==0.6.1) (0.28.1)\n",
            "Requirement already satisfied: nest_asyncio in /home/antonkulaga/.cache/pypoetry/virtualenvs/just-agents-jj5lCgqj-py3.12/lib/python3.12/site-packages (from semanticscholar>=0.10.0->just-agents-tools->just-agents-examples==0.6.1) (1.6.0)\n",
            "Requirement already satisfied: click>=8.0.0 in /home/antonkulaga/.cache/pypoetry/virtualenvs/just-agents-jj5lCgqj-py3.12/lib/python3.12/site-packages (from typer>=0.13.0->just-agents-tools->just-agents-examples==0.6.1) (8.1.8)\n",
            "Requirement already satisfied: shellingham>=1.3.0 in /home/antonkulaga/.cache/pypoetry/virtualenvs/just-agents-jj5lCgqj-py3.12/lib/python3.12/site-packages (from typer>=0.13.0->just-agents-tools->just-agents-examples==0.6.1) (1.5.4)\n",
            "Requirement already satisfied: rich>=10.11.0 in /home/antonkulaga/.cache/pypoetry/virtualenvs/just-agents-jj5lCgqj-py3.12/lib/python3.12/site-packages (from typer>=0.13.0->just-agents-tools->just-agents-examples==0.6.1) (13.9.4)\n",
            "Requirement already satisfied: h11>=0.8 in /home/antonkulaga/.cache/pypoetry/virtualenvs/just-agents-jj5lCgqj-py3.12/lib/python3.12/site-packages (from uvicorn>=0.34.0->just-agents-web->just-agents-examples==0.6.1) (0.14.0)\n",
            "Requirement already satisfied: litellm>=1.61.16 in /home/antonkulaga/.cache/pypoetry/virtualenvs/just-agents-jj5lCgqj-py3.12/lib/python3.12/site-packages (from just-agents-core->just-agents-coding->just-agents-examples==0.6.1) (1.61.20)\n",
            "Requirement already satisfied: numpydoc in /home/antonkulaga/.cache/pypoetry/virtualenvs/just-agents-jj5lCgqj-py3.12/lib/python3.12/site-packages (from just-agents-core->just-agents-coding->just-agents-examples==0.6.1) (1.8.0)\n",
            "Requirement already satisfied: wrapt<2,>=1.10 in /home/antonkulaga/.cache/pypoetry/virtualenvs/just-agents-jj5lCgqj-py3.12/lib/python3.12/site-packages (from Deprecated>=1.2.15->pycomfort>=0.0.18->just-agents-web->just-agents-examples==0.6.1) (1.17.2)\n",
            "Requirement already satisfied: zope.interface in /home/antonkulaga/.cache/pypoetry/virtualenvs/just-agents-jj5lCgqj-py3.12/lib/python3.12/site-packages (from eliot>=1.17.5->pycomfort>=0.0.18->just-agents-web->just-agents-examples==0.6.1) (7.2)\n",
            "Requirement already satisfied: pyrsistent>=0.11.8 in /home/antonkulaga/.cache/pypoetry/virtualenvs/just-agents-jj5lCgqj-py3.12/lib/python3.12/site-packages (from eliot>=1.17.5->pycomfort>=0.0.18->just-agents-web->just-agents-examples==0.6.1) (0.20.0)\n",
            "Requirement already satisfied: boltons>=19.0.1 in /home/antonkulaga/.cache/pypoetry/virtualenvs/just-agents-jj5lCgqj-py3.12/lib/python3.12/site-packages (from eliot>=1.17.5->pycomfort>=0.0.18->just-agents-web->just-agents-examples==0.6.1) (25.0.0)\n",
            "Requirement already satisfied: orjson in /home/antonkulaga/.cache/pypoetry/virtualenvs/just-agents-jj5lCgqj-py3.12/lib/python3.12/site-packages (from eliot>=1.17.5->pycomfort>=0.0.18->just-agents-web->just-agents-examples==0.6.1) (3.10.15)\n",
            "Requirement already satisfied: six>=1.13.0 in /home/antonkulaga/.cache/pypoetry/virtualenvs/just-agents-jj5lCgqj-py3.12/lib/python3.12/site-packages (from eliot-tree>=24.0.0->pycomfort>=0.0.18->just-agents-web->just-agents-examples==0.6.1) (1.17.0)\n",
            "Requirement already satisfied: jmespath>=0.7.1 in /home/antonkulaga/.cache/pypoetry/virtualenvs/just-agents-jj5lCgqj-py3.12/lib/python3.12/site-packages (from eliot-tree>=24.0.0->pycomfort>=0.0.18->just-agents-web->just-agents-examples==0.6.1) (1.0.1)\n",
            "Requirement already satisfied: iso8601>=0.1.10 in /home/antonkulaga/.cache/pypoetry/virtualenvs/just-agents-jj5lCgqj-py3.12/lib/python3.12/site-packages (from eliot-tree>=24.0.0->pycomfort>=0.0.18->just-agents-web->just-agents-examples==0.6.1) (2.1.0)\n",
            "Requirement already satisfied: colored>=1.4.2 in /home/antonkulaga/.cache/pypoetry/virtualenvs/just-agents-jj5lCgqj-py3.12/lib/python3.12/site-packages (from eliot-tree>=24.0.0->pycomfort>=0.0.18->just-agents-web->just-agents-examples==0.6.1) (2.3.0)\n",
            "Requirement already satisfied: toolz>=0.8.2 in /home/antonkulaga/.cache/pypoetry/virtualenvs/just-agents-jj5lCgqj-py3.12/lib/python3.12/site-packages (from eliot-tree>=24.0.0->pycomfort>=0.0.18->just-agents-web->just-agents-examples==0.6.1) (1.0.0)\n",
            "Requirement already satisfied: aiohttp in /home/antonkulaga/.cache/pypoetry/virtualenvs/just-agents-jj5lCgqj-py3.12/lib/python3.12/site-packages (from litellm>=1.61.16->just-agents-core->just-agents-coding->just-agents-examples==0.6.1) (3.11.13)\n",
            "Requirement already satisfied: importlib-metadata>=6.8.0 in /home/antonkulaga/.cache/pypoetry/virtualenvs/just-agents-jj5lCgqj-py3.12/lib/python3.12/site-packages (from litellm>=1.61.16->just-agents-core->just-agents-coding->just-agents-examples==0.6.1) (8.6.1)\n",
            "Requirement already satisfied: jinja2<4.0.0,>=3.1.2 in /home/antonkulaga/.cache/pypoetry/virtualenvs/just-agents-jj5lCgqj-py3.12/lib/python3.12/site-packages (from litellm>=1.61.16->just-agents-core->just-agents-coding->just-agents-examples==0.6.1) (3.1.5)\n",
            "Requirement already satisfied: jsonschema<5.0.0,>=4.22.0 in /home/antonkulaga/.cache/pypoetry/virtualenvs/just-agents-jj5lCgqj-py3.12/lib/python3.12/site-packages (from litellm>=1.61.16->just-agents-core->just-agents-coding->just-agents-examples==0.6.1) (4.23.0)\n",
            "Requirement already satisfied: openai>=1.61.0 in /home/antonkulaga/.cache/pypoetry/virtualenvs/just-agents-jj5lCgqj-py3.12/lib/python3.12/site-packages (from litellm>=1.61.16->just-agents-core->just-agents-coding->just-agents-examples==0.6.1) (1.65.1)\n",
            "Requirement already satisfied: tiktoken>=0.7.0 in /home/antonkulaga/.cache/pypoetry/virtualenvs/just-agents-jj5lCgqj-py3.12/lib/python3.12/site-packages (from litellm>=1.61.16->just-agents-core->just-agents-coding->just-agents-examples==0.6.1) (0.9.0)\n",
            "Requirement already satisfied: tokenizers in /home/antonkulaga/.cache/pypoetry/virtualenvs/just-agents-jj5lCgqj-py3.12/lib/python3.12/site-packages (from litellm>=1.61.16->just-agents-core->just-agents-coding->just-agents-examples==0.6.1) (0.21.0)\n",
            "Requirement already satisfied: anyio in /home/antonkulaga/.cache/pypoetry/virtualenvs/just-agents-jj5lCgqj-py3.12/lib/python3.12/site-packages (from httpx->semanticscholar>=0.10.0->just-agents-tools->just-agents-examples==0.6.1) (4.8.0)\n",
            "Requirement already satisfied: httpcore==1.* in /home/antonkulaga/.cache/pypoetry/virtualenvs/just-agents-jj5lCgqj-py3.12/lib/python3.12/site-packages (from httpx->semanticscholar>=0.10.0->just-agents-tools->just-agents-examples==0.6.1) (1.0.7)\n",
            "Requirement already satisfied: annotated-types>=0.6.0 in /home/antonkulaga/.cache/pypoetry/virtualenvs/just-agents-jj5lCgqj-py3.12/lib/python3.12/site-packages (from pydantic!=1.8,!=1.8.1,!=2.0.0,!=2.0.1,!=2.1.0,<3.0.0,>=1.7.4->fastapi>=0.115.10->just-agents-web->just-agents-examples==0.6.1) (0.7.0)\n",
            "Requirement already satisfied: pydantic-core==2.27.2 in /home/antonkulaga/.cache/pypoetry/virtualenvs/just-agents-jj5lCgqj-py3.12/lib/python3.12/site-packages (from pydantic!=1.8,!=1.8.1,!=2.0.0,!=2.0.1,!=2.1.0,<3.0.0,>=1.7.4->fastapi>=0.115.10->just-agents-web->just-agents-examples==0.6.1) (2.27.2)\n",
            "Requirement already satisfied: dill>=0.2.5 in /home/antonkulaga/.cache/pypoetry/virtualenvs/just-agents-jj5lCgqj-py3.12/lib/python3.12/site-packages (from pyfunctional<=1.5.0->pycomfort>=0.0.18->just-agents-web->just-agents-examples==0.6.1) (0.3.9)\n",
            "Requirement already satisfied: tabulate<=1.0.0 in /home/antonkulaga/.cache/pypoetry/virtualenvs/just-agents-jj5lCgqj-py3.12/lib/python3.12/site-packages (from pyfunctional<=1.5.0->pycomfort>=0.0.18->just-agents-web->just-agents-examples==0.6.1) (0.9.0)\n",
            "Requirement already satisfied: markdown-it-py>=2.2.0 in /home/antonkulaga/.cache/pypoetry/virtualenvs/just-agents-jj5lCgqj-py3.12/lib/python3.12/site-packages (from rich>=10.11.0->typer>=0.13.0->just-agents-tools->just-agents-examples==0.6.1) (3.0.0)\n",
            "Requirement already satisfied: pygments<3.0.0,>=2.13.0 in /home/antonkulaga/.cache/pypoetry/virtualenvs/just-agents-jj5lCgqj-py3.12/lib/python3.12/site-packages (from rich>=10.11.0->typer>=0.13.0->just-agents-tools->just-agents-examples==0.6.1) (2.19.1)\n",
            "Requirement already satisfied: sphinx>=6 in /home/antonkulaga/.cache/pypoetry/virtualenvs/just-agents-jj5lCgqj-py3.12/lib/python3.12/site-packages (from numpydoc->just-agents-core->just-agents-coding->just-agents-examples==0.6.1) (8.1.3)\n",
            "Requirement already satisfied: sniffio>=1.1 in /home/antonkulaga/.cache/pypoetry/virtualenvs/just-agents-jj5lCgqj-py3.12/lib/python3.12/site-packages (from anyio->httpx->semanticscholar>=0.10.0->just-agents-tools->just-agents-examples==0.6.1) (1.3.1)\n",
            "Requirement already satisfied: zipp>=3.20 in /home/antonkulaga/.cache/pypoetry/virtualenvs/just-agents-jj5lCgqj-py3.12/lib/python3.12/site-packages (from importlib-metadata>=6.8.0->litellm>=1.61.16->just-agents-core->just-agents-coding->just-agents-examples==0.6.1) (3.21.0)\n",
            "Requirement already satisfied: MarkupSafe>=2.0 in /home/antonkulaga/.cache/pypoetry/virtualenvs/just-agents-jj5lCgqj-py3.12/lib/python3.12/site-packages (from jinja2<4.0.0,>=3.1.2->litellm>=1.61.16->just-agents-core->just-agents-coding->just-agents-examples==0.6.1) (3.0.2)\n",
            "Requirement already satisfied: attrs>=22.2.0 in /home/antonkulaga/.cache/pypoetry/virtualenvs/just-agents-jj5lCgqj-py3.12/lib/python3.12/site-packages (from jsonschema<5.0.0,>=4.22.0->litellm>=1.61.16->just-agents-core->just-agents-coding->just-agents-examples==0.6.1) (25.1.0)\n",
            "Requirement already satisfied: jsonschema-specifications>=2023.03.6 in /home/antonkulaga/.cache/pypoetry/virtualenvs/just-agents-jj5lCgqj-py3.12/lib/python3.12/site-packages (from jsonschema<5.0.0,>=4.22.0->litellm>=1.61.16->just-agents-core->just-agents-coding->just-agents-examples==0.6.1) (2024.10.1)\n",
            "Requirement already satisfied: referencing>=0.28.4 in /home/antonkulaga/.cache/pypoetry/virtualenvs/just-agents-jj5lCgqj-py3.12/lib/python3.12/site-packages (from jsonschema<5.0.0,>=4.22.0->litellm>=1.61.16->just-agents-core->just-agents-coding->just-agents-examples==0.6.1) (0.36.2)\n",
            "Requirement already satisfied: rpds-py>=0.7.1 in /home/antonkulaga/.cache/pypoetry/virtualenvs/just-agents-jj5lCgqj-py3.12/lib/python3.12/site-packages (from jsonschema<5.0.0,>=4.22.0->litellm>=1.61.16->just-agents-core->just-agents-coding->just-agents-examples==0.6.1) (0.23.1)\n",
            "Requirement already satisfied: mdurl~=0.1 in /home/antonkulaga/.cache/pypoetry/virtualenvs/just-agents-jj5lCgqj-py3.12/lib/python3.12/site-packages (from markdown-it-py>=2.2.0->rich>=10.11.0->typer>=0.13.0->just-agents-tools->just-agents-examples==0.6.1) (0.1.2)\n",
            "Requirement already satisfied: distro<2,>=1.7.0 in /home/antonkulaga/.cache/pypoetry/virtualenvs/just-agents-jj5lCgqj-py3.12/lib/python3.12/site-packages (from openai>=1.61.0->litellm>=1.61.16->just-agents-core->just-agents-coding->just-agents-examples==0.6.1) (1.9.0)\n",
            "Requirement already satisfied: jiter<1,>=0.4.0 in /home/antonkulaga/.cache/pypoetry/virtualenvs/just-agents-jj5lCgqj-py3.12/lib/python3.12/site-packages (from openai>=1.61.0->litellm>=1.61.16->just-agents-core->just-agents-coding->just-agents-examples==0.6.1) (0.8.2)\n",
            "Requirement already satisfied: tqdm>4 in /home/antonkulaga/.cache/pypoetry/virtualenvs/just-agents-jj5lCgqj-py3.12/lib/python3.12/site-packages (from openai>=1.61.0->litellm>=1.61.16->just-agents-core->just-agents-coding->just-agents-examples==0.6.1) (4.67.1)\n",
            "Requirement already satisfied: sphinxcontrib-applehelp>=1.0.7 in /home/antonkulaga/.cache/pypoetry/virtualenvs/just-agents-jj5lCgqj-py3.12/lib/python3.12/site-packages (from sphinx>=6->numpydoc->just-agents-core->just-agents-coding->just-agents-examples==0.6.1) (2.0.0)\n",
            "Requirement already satisfied: sphinxcontrib-devhelp>=1.0.6 in /home/antonkulaga/.cache/pypoetry/virtualenvs/just-agents-jj5lCgqj-py3.12/lib/python3.12/site-packages (from sphinx>=6->numpydoc->just-agents-core->just-agents-coding->just-agents-examples==0.6.1) (2.0.0)\n",
            "Requirement already satisfied: sphinxcontrib-htmlhelp>=2.0.6 in /home/antonkulaga/.cache/pypoetry/virtualenvs/just-agents-jj5lCgqj-py3.12/lib/python3.12/site-packages (from sphinx>=6->numpydoc->just-agents-core->just-agents-coding->just-agents-examples==0.6.1) (2.1.0)\n",
            "Requirement already satisfied: sphinxcontrib-jsmath>=1.0.1 in /home/antonkulaga/.cache/pypoetry/virtualenvs/just-agents-jj5lCgqj-py3.12/lib/python3.12/site-packages (from sphinx>=6->numpydoc->just-agents-core->just-agents-coding->just-agents-examples==0.6.1) (1.0.1)\n",
            "Requirement already satisfied: sphinxcontrib-qthelp>=1.0.6 in /home/antonkulaga/.cache/pypoetry/virtualenvs/just-agents-jj5lCgqj-py3.12/lib/python3.12/site-packages (from sphinx>=6->numpydoc->just-agents-core->just-agents-coding->just-agents-examples==0.6.1) (2.0.0)\n",
            "Requirement already satisfied: sphinxcontrib-serializinghtml>=1.1.9 in /home/antonkulaga/.cache/pypoetry/virtualenvs/just-agents-jj5lCgqj-py3.12/lib/python3.12/site-packages (from sphinx>=6->numpydoc->just-agents-core->just-agents-coding->just-agents-examples==0.6.1) (2.0.0)\n",
            "Requirement already satisfied: docutils<0.22,>=0.20 in /home/antonkulaga/.cache/pypoetry/virtualenvs/just-agents-jj5lCgqj-py3.12/lib/python3.12/site-packages (from sphinx>=6->numpydoc->just-agents-core->just-agents-coding->just-agents-examples==0.6.1) (0.21.2)\n",
            "Requirement already satisfied: snowballstemmer>=2.2 in /home/antonkulaga/.cache/pypoetry/virtualenvs/just-agents-jj5lCgqj-py3.12/lib/python3.12/site-packages (from sphinx>=6->numpydoc->just-agents-core->just-agents-coding->just-agents-examples==0.6.1) (2.2.0)\n",
            "Requirement already satisfied: babel>=2.13 in /home/antonkulaga/.cache/pypoetry/virtualenvs/just-agents-jj5lCgqj-py3.12/lib/python3.12/site-packages (from sphinx>=6->numpydoc->just-agents-core->just-agents-coding->just-agents-examples==0.6.1) (2.17.0)\n",
            "Requirement already satisfied: alabaster>=0.7.14 in /home/antonkulaga/.cache/pypoetry/virtualenvs/just-agents-jj5lCgqj-py3.12/lib/python3.12/site-packages (from sphinx>=6->numpydoc->just-agents-core->just-agents-coding->just-agents-examples==0.6.1) (1.0.0)\n",
            "Requirement already satisfied: imagesize>=1.3 in /home/antonkulaga/.cache/pypoetry/virtualenvs/just-agents-jj5lCgqj-py3.12/lib/python3.12/site-packages (from sphinx>=6->numpydoc->just-agents-core->just-agents-coding->just-agents-examples==0.6.1) (1.4.1)\n",
            "Requirement already satisfied: packaging>=23.0 in /home/antonkulaga/.cache/pypoetry/virtualenvs/just-agents-jj5lCgqj-py3.12/lib/python3.12/site-packages (from sphinx>=6->numpydoc->just-agents-core->just-agents-coding->just-agents-examples==0.6.1) (24.2)\n",
            "Requirement already satisfied: regex>=2022.1.18 in /home/antonkulaga/.cache/pypoetry/virtualenvs/just-agents-jj5lCgqj-py3.12/lib/python3.12/site-packages (from tiktoken>=0.7.0->litellm>=1.61.16->just-agents-core->just-agents-coding->just-agents-examples==0.6.1) (2024.11.6)\n",
            "Requirement already satisfied: aiohappyeyeballs>=2.3.0 in /home/antonkulaga/.cache/pypoetry/virtualenvs/just-agents-jj5lCgqj-py3.12/lib/python3.12/site-packages (from aiohttp->litellm>=1.61.16->just-agents-core->just-agents-coding->just-agents-examples==0.6.1) (2.4.6)\n",
            "Requirement already satisfied: aiosignal>=1.1.2 in /home/antonkulaga/.cache/pypoetry/virtualenvs/just-agents-jj5lCgqj-py3.12/lib/python3.12/site-packages (from aiohttp->litellm>=1.61.16->just-agents-core->just-agents-coding->just-agents-examples==0.6.1) (1.3.2)\n",
            "Requirement already satisfied: frozenlist>=1.1.1 in /home/antonkulaga/.cache/pypoetry/virtualenvs/just-agents-jj5lCgqj-py3.12/lib/python3.12/site-packages (from aiohttp->litellm>=1.61.16->just-agents-core->just-agents-coding->just-agents-examples==0.6.1) (1.5.0)\n",
            "Requirement already satisfied: multidict<7.0,>=4.5 in /home/antonkulaga/.cache/pypoetry/virtualenvs/just-agents-jj5lCgqj-py3.12/lib/python3.12/site-packages (from aiohttp->litellm>=1.61.16->just-agents-core->just-agents-coding->just-agents-examples==0.6.1) (6.1.0)\n",
            "Requirement already satisfied: propcache>=0.2.0 in /home/antonkulaga/.cache/pypoetry/virtualenvs/just-agents-jj5lCgqj-py3.12/lib/python3.12/site-packages (from aiohttp->litellm>=1.61.16->just-agents-core->just-agents-coding->just-agents-examples==0.6.1) (0.3.0)\n",
            "Requirement already satisfied: yarl<2.0,>=1.17.0 in /home/antonkulaga/.cache/pypoetry/virtualenvs/just-agents-jj5lCgqj-py3.12/lib/python3.12/site-packages (from aiohttp->litellm>=1.61.16->just-agents-core->just-agents-coding->just-agents-examples==0.6.1) (1.18.3)\n",
            "Requirement already satisfied: huggingface-hub<1.0,>=0.16.4 in /home/antonkulaga/.cache/pypoetry/virtualenvs/just-agents-jj5lCgqj-py3.12/lib/python3.12/site-packages (from tokenizers->litellm>=1.61.16->just-agents-core->just-agents-coding->just-agents-examples==0.6.1) (0.29.1)\n",
            "Requirement already satisfied: setuptools in /home/antonkulaga/.cache/pypoetry/virtualenvs/just-agents-jj5lCgqj-py3.12/lib/python3.12/site-packages (from zope.interface->eliot>=1.17.5->pycomfort>=0.0.18->just-agents-web->just-agents-examples==0.6.1) (75.8.2)\n",
            "Requirement already satisfied: filelock in /home/antonkulaga/.cache/pypoetry/virtualenvs/just-agents-jj5lCgqj-py3.12/lib/python3.12/site-packages (from huggingface-hub<1.0,>=0.16.4->tokenizers->litellm>=1.61.16->just-agents-core->just-agents-coding->just-agents-examples==0.6.1) (3.17.0)\n",
            "Requirement already satisfied: fsspec>=2023.5.0 in /home/antonkulaga/.cache/pypoetry/virtualenvs/just-agents-jj5lCgqj-py3.12/lib/python3.12/site-packages (from huggingface-hub<1.0,>=0.16.4->tokenizers->litellm>=1.61.16->just-agents-core->just-agents-coding->just-agents-examples==0.6.1) (2025.2.0)\n",
            "Requirement already satisfied: pyyaml>=5.1 in /home/antonkulaga/.cache/pypoetry/virtualenvs/just-agents-jj5lCgqj-py3.12/lib/python3.12/site-packages (from huggingface-hub<1.0,>=0.16.4->tokenizers->litellm>=1.61.16->just-agents-core->just-agents-coding->just-agents-examples==0.6.1) (6.0.2)\n",
            "\n",
            "\u001b[1m[\u001b[0m\u001b[34;49mnotice\u001b[0m\u001b[1;39;49m]\u001b[0m\u001b[39;49m A new release of pip is available: \u001b[0m\u001b[31;49m24.2\u001b[0m\u001b[39;49m -> \u001b[0m\u001b[32;49m25.0.1\u001b[0m\n",
            "\u001b[1m[\u001b[0m\u001b[34;49mnotice\u001b[0m\u001b[1;39;49m]\u001b[0m\u001b[39;49m To update, run: \u001b[0m\u001b[32;49mpip install --upgrade pip\u001b[0m\n"
          ]
        }
      ],
      "source": [
        "!pip install just-agents-core==0.6.1\n",
        "!pip install just-agents-examples==0.6.1"
      ]
    },
    {
      "cell_type": "code",
      "execution_count": 2,
      "metadata": {
        "colab": {
          "base_uri": "https://localhost:8080/"
        },
        "collapsed": true,
        "id": "AAeKVTq0Zgo-",
        "outputId": "ead7d318-7369-454b-a203-480d1853224b"
      },
      "outputs": [],
      "source": [
        "import sqlite3\n",
        "\n",
        "def db_query(sql: str):\n",
        "    \"\"\" This function execute query on open-genes sqlite table. It returns query results. \"\"\"\n",
        "    conn = sqlite3.connect(\"open_genes.sqlite\")\n",
        "    cursor = conn.cursor()\n",
        "\n",
        "    cursor.execute(sql)\n",
        "    try:\n",
        "        rows = cursor.fetchall()\n",
        "        if rows is None or len(rows) == 0:\n",
        "            conn.close()\n",
        "            return \"\"\n",
        "        names = [description[0] for description in cursor.description]\n",
        "        text = \"; \".join(names) + \"\\n\"\n",
        "        for row in rows:\n",
        "            row = [str(i) for i in row]\n",
        "            text += \"; \".join(row) + \"\\n\"\n",
        "    finally:\n",
        "        conn.close()\n",
        "\n",
        "    return text"
      ]
    },
    {
      "cell_type": "markdown",
      "metadata": {
        "id": "z_UqGQ-jaGgq"
      },
      "source": [
        "### Run functions to run code\n",
        "\n",
        "Writing custom functions to run code and install dependencies"
      ]
    },
    {
      "cell_type": "code",
      "execution_count": 3,
      "metadata": {
        "id": "Hime-BufbBUu"
      },
      "outputs": [],
      "source": [
        "# Define the function\n",
        "import io\n",
        "import contextlib\n",
        "\n",
        "def run_python_code(code: str):\n",
        "    \"\"\"\n",
        "    code: str # python code to run\n",
        "    \"\"\"\n",
        "    output = io.StringIO()\n",
        "    error = io.StringIO()\n",
        "\n",
        "    try:\n",
        "        with contextlib.redirect_stdout(output), contextlib.redirect_stderr(error):\n",
        "            exec(code)\n",
        "        result = output.getvalue()\n",
        "        if result:\n",
        "            return result.strip()\n",
        "        else:\n",
        "            return \"No output.\"\n",
        "    except Exception as e:\n",
        "        return f\"Error: {str(e)}\""
      ]
    },
    {
      "cell_type": "markdown",
      "metadata": {
        "id": "9tIM7nM0bDST"
      },
      "source": [
        "Let's test that code generation works"
      ]
    },
    {
      "cell_type": "code",
      "execution_count": 4,
      "metadata": {
        "colab": {
          "base_uri": "https://localhost:8080/",
          "height": 36
        },
        "collapsed": true,
        "id": "85UAQb8qbHJI",
        "outputId": "e9affe7c-add8-4517-fba2-4fdeefd678fb"
      },
      "outputs": [
        {
          "data": {
            "text/plain": [
              "'Hello World'"
            ]
          },
          "execution_count": 4,
          "metadata": {},
          "output_type": "execute_result"
        }
      ],
      "source": [
        "run_python_code(\"print('Hello World')\")"
      ]
    },
    {
      "cell_type": "code",
      "execution_count": 7,
      "metadata": {
        "colab": {
          "base_uri": "https://localhost:8080/",
          "height": 244
        },
        "collapsed": true,
        "id": "O8kajbQ4aljb",
        "outputId": "09caca57-2e3b-4544-a3e7-c797d04f6709"
      },
      "outputs": [
        {
          "data": {
            "text/html": [
              "<pre style=\"white-space:pre;overflow-x:auto;line-height:normal;font-family:Menlo,'DejaVu Sans Mono',consolas,'Courier New',monospace\"><span style=\"color: #ffff00; text-decoration-color: #ffff00\">╭───────────────────────────────────────────────────</span><span style=\"color: #808000; text-decoration-color: #808000; font-weight: bold\"> [System] </span><span style=\"color: #ffff00; text-decoration-color: #ffff00\">────────────────────────────────────────────────────╮</span>\n",
              "<span style=\"color: #ffff00; text-decoration-color: #ffff00\">│</span> You are a helpful AI assistant                                                                                  <span style=\"color: #ffff00; text-decoration-color: #ffff00\">│</span>\n",
              "<span style=\"color: #ffff00; text-decoration-color: #ffff00\">╰─────────────────────────────────────────────────────────────────────────────────────────────────────────────────╯</span>\n",
              "</pre>\n"
            ],
            "text/plain": [
              "\u001b[93m╭─\u001b[0m\u001b[93m──────────────────────────────────────────────────\u001b[0m\u001b[1;33m [System] \u001b[0m\u001b[93m───────────────────────────────────────────────────\u001b[0m\u001b[93m─╮\u001b[0m\n",
              "\u001b[93m│\u001b[0m You are a helpful AI assistant                                                                                  \u001b[93m│\u001b[0m\n",
              "\u001b[93m╰─────────────────────────────────────────────────────────────────────────────────────────────────────────────────╯\u001b[0m\n"
            ]
          },
          "metadata": {},
          "output_type": "display_data"
        },
        {
          "data": {
            "text/html": [
              "<pre style=\"white-space:pre;overflow-x:auto;line-height:normal;font-family:Menlo,'DejaVu Sans Mono',consolas,'Courier New',monospace\"><span style=\"color: #00ff00; text-decoration-color: #00ff00\">╭────────────────────────────────────────────────────</span><span style=\"color: #008000; text-decoration-color: #008000; font-weight: bold\"> [User] </span><span style=\"color: #00ff00; text-decoration-color: #00ff00\">─────────────────────────────────────────────────────╮</span>\n",
              "<span style=\"color: #00ff00; text-decoration-color: #00ff00\">│</span> Compute 2 * 10 + (342 +3) / 23.0                                                                                <span style=\"color: #00ff00; text-decoration-color: #00ff00\">│</span>\n",
              "<span style=\"color: #00ff00; text-decoration-color: #00ff00\">╰─────────────────────────────────────────────────────────────────────────────────────────────────────────────────╯</span>\n",
              "</pre>\n"
            ],
            "text/plain": [
              "\u001b[92m╭─\u001b[0m\u001b[92m───────────────────────────────────────────────────\u001b[0m\u001b[1;32m [User] \u001b[0m\u001b[92m────────────────────────────────────────────────────\u001b[0m\u001b[92m─╮\u001b[0m\n",
              "\u001b[92m│\u001b[0m Compute 2 * 10 + (342 +3) / 23.0                                                                                \u001b[92m│\u001b[0m\n",
              "\u001b[92m╰─────────────────────────────────────────────────────────────────────────────────────────────────────────────────╯\u001b[0m\n"
            ]
          },
          "metadata": {},
          "output_type": "display_data"
        },
        {
          "data": {
            "text/html": [
              "<pre style=\"white-space:pre;overflow-x:auto;line-height:normal;font-family:Menlo,'DejaVu Sans Mono',consolas,'Courier New',monospace\"><span style=\"color: #000080; text-decoration-color: #000080\">╭──────────────────────────────────────────────────</span><span style=\"color: #000080; text-decoration-color: #000080; font-weight: bold\"> [Assistant] </span><span style=\"color: #000080; text-decoration-color: #000080\">──────────────────────────────────────────────────╮</span>\n",
              "<span style=\"color: #000080; text-decoration-color: #000080\">│</span> Tool Call to <span style=\"color: #800080; text-decoration-color: #800080; font-weight: bold\">run_python_code</span>:                                                                                   <span style=\"color: #000080; text-decoration-color: #000080\">│</span>\n",
              "<span style=\"color: #000080; text-decoration-color: #000080\">│</span> {\"code\": \"print(2 * 10 + (342 + 3) / 23.0)\"}                                                                    <span style=\"color: #000080; text-decoration-color: #000080\">│</span>\n",
              "<span style=\"color: #000080; text-decoration-color: #000080\">╰─────────────────────────────────────────────────────────────────────────────────────────────────────────────────╯</span>\n",
              "</pre>\n"
            ],
            "text/plain": [
              "\u001b[34m╭─\u001b[0m\u001b[34m─────────────────────────────────────────────────\u001b[0m\u001b[1;34m [Assistant] \u001b[0m\u001b[34m─────────────────────────────────────────────────\u001b[0m\u001b[34m─╮\u001b[0m\n",
              "\u001b[34m│\u001b[0m Tool Call to \u001b[1;35mrun_python_code\u001b[0m:                                                                                   \u001b[34m│\u001b[0m\n",
              "\u001b[34m│\u001b[0m {\"code\": \"print(2 * 10 + (342 + 3) / 23.0)\"}                                                                    \u001b[34m│\u001b[0m\n",
              "\u001b[34m╰─────────────────────────────────────────────────────────────────────────────────────────────────────────────────╯\u001b[0m\n"
            ]
          },
          "metadata": {},
          "output_type": "display_data"
        },
        {
          "data": {
            "text/html": [
              "<pre style=\"white-space:pre;overflow-x:auto;line-height:normal;font-family:Menlo,'DejaVu Sans Mono',consolas,'Courier New',monospace\"><span style=\"color: #ff00ff; text-decoration-color: #ff00ff\">╭────────────────────────────────────────────────────</span><span style=\"color: #800080; text-decoration-color: #800080; font-weight: bold\"> [Tool] </span><span style=\"color: #ff00ff; text-decoration-color: #ff00ff\">─────────────────────────────────────────────────────╮</span>\n",
              "<span style=\"color: #ff00ff; text-decoration-color: #ff00ff\">│</span> Response from <span style=\"color: #800080; text-decoration-color: #800080; font-weight: bold\">run_python_code</span>:                                                                                  <span style=\"color: #ff00ff; text-decoration-color: #ff00ff\">│</span>\n",
              "<span style=\"color: #ff00ff; text-decoration-color: #ff00ff\">│</span> 35.0                                                                                                            <span style=\"color: #ff00ff; text-decoration-color: #ff00ff\">│</span>\n",
              "<span style=\"color: #ff00ff; text-decoration-color: #ff00ff\">╰─────────────────────────────────────────────────────────────────────────────────────────────────────────────────╯</span>\n",
              "</pre>\n"
            ],
            "text/plain": [
              "\u001b[95m╭─\u001b[0m\u001b[95m───────────────────────────────────────────────────\u001b[0m\u001b[1;35m [Tool] \u001b[0m\u001b[95m────────────────────────────────────────────────────\u001b[0m\u001b[95m─╮\u001b[0m\n",
              "\u001b[95m│\u001b[0m Response from \u001b[1;35mrun_python_code\u001b[0m:                                                                                  \u001b[95m│\u001b[0m\n",
              "\u001b[95m│\u001b[0m 35.0                                                                                                            \u001b[95m│\u001b[0m\n",
              "\u001b[95m╰─────────────────────────────────────────────────────────────────────────────────────────────────────────────────╯\u001b[0m\n"
            ]
          },
          "metadata": {},
          "output_type": "display_data"
        },
        {
          "data": {
            "text/html": [
              "<pre style=\"white-space:pre;overflow-x:auto;line-height:normal;font-family:Menlo,'DejaVu Sans Mono',consolas,'Courier New',monospace\"><span style=\"color: #0000ff; text-decoration-color: #0000ff\">╭──────────────────────────────────────────────────</span><span style=\"color: #000080; text-decoration-color: #000080; font-weight: bold\"> [Assistant] </span><span style=\"color: #0000ff; text-decoration-color: #0000ff\">──────────────────────────────────────────────────╮</span>\n",
              "<span style=\"color: #0000ff; text-decoration-color: #0000ff\">│</span> The result of the computation is 35.0.                                                                          <span style=\"color: #0000ff; text-decoration-color: #0000ff\">│</span>\n",
              "<span style=\"color: #0000ff; text-decoration-color: #0000ff\">╰─────────────────────────────────────────────────────────────────────────────────────────────────────────────────╯</span>\n",
              "</pre>\n"
            ],
            "text/plain": [
              "\u001b[94m╭─\u001b[0m\u001b[94m─────────────────────────────────────────────────\u001b[0m\u001b[1;34m [Assistant] \u001b[0m\u001b[94m─────────────────────────────────────────────────\u001b[0m\u001b[94m─╮\u001b[0m\n",
              "\u001b[94m│\u001b[0m The result of the computation is 35.0.                                                                          \u001b[94m│\u001b[0m\n",
              "\u001b[94m╰─────────────────────────────────────────────────────────────────────────────────────────────────────────────────╯\u001b[0m\n"
            ]
          },
          "metadata": {},
          "output_type": "display_data"
        }
      ],
      "source": [
        "from just_agents import llm_options\n",
        "from just_agents.base_agent import BaseAgent\n",
        "import pprint\n",
        "\n",
        "prompt = \"Compute 2 * 10 + (342 +3) / 23.0\"\n",
        "\n",
        "agent: BaseAgent = BaseAgent(\n",
        "    llm_options=llm_options.LLAMA3_3,\n",
        "    tools=[run_python_code]\n",
        ")\n",
        "response = agent.query(prompt)\n",
        "f\"\"\"MODEL RESPONSE = \"{response}\" \"\"\"\n",
        "agent.memory.pretty_print_all_messages()"
      ]
    },
    {
      "cell_type": "markdown",
      "metadata": {
        "id": "hhLqOlBAg4ew"
      },
      "source": [
        "# Dependency hell management"
      ]
    },
    {
      "cell_type": "markdown",
      "metadata": {
        "id": "NOZFuSv4ciSH"
      },
      "source": [
        "But what if it does not have dependencies installed?"
      ]
    },
    {
      "cell_type": "code",
      "execution_count": 8,
      "metadata": {
        "colab": {
          "base_uri": "https://localhost:8080/",
          "height": 296
        },
        "collapsed": true,
        "id": "SatGdw47gy-_",
        "outputId": "3139f69b-ddcd-44bf-e278-087b713eb6d4"
      },
      "outputs": [
        {
          "data": {
            "text/plain": [
              "'I am not able to execute the biopython code as it seems that the biopython library is not installed in the environment. However, I can tell you that the translation of the DNA sequence \"ATGCATAGGTAG\" is done by reading the sequence in codons (sequences of three nucleotides) and using the standard genetic code to determine the corresponding amino acid for each codon.\\n\\nHere is the correct translation:\\n\\nATG -> M (Methionine)\\nCAT -> H (Histidine)\\nAGG -> R (Arginine)\\nTAG -> * (Stop codon)\\n\\nSo, the translation of the DNA sequence \"ATGCATAGGTAG\" is M-H-R*.'"
            ]
          },
          "execution_count": 8,
          "metadata": {},
          "output_type": "execute_result"
        }
      ],
      "source": [
        "agent.query(\"translate ATGCATAGGTAG with biopython\")"
      ]
    },
    {
      "cell_type": "code",
      "execution_count": 9,
      "metadata": {
        "colab": {
          "base_uri": "https://localhost:8080/"
        },
        "collapsed": true,
        "id": "X95ZKLSOcwlx",
        "outputId": "dec22b85-8d99-42bd-e035-f7d27c2b97c5"
      },
      "outputs": [
        {
          "name": "stdout",
          "output_type": "stream",
          "text": [
            "total 2692\n",
            "drwxrwxr-x 2 antonkulaga antonkulaga    4096 Mar  1 20:25 .\n",
            "drwxrwxr-x 5 antonkulaga antonkulaga    4096 Mar  1 17:37 ..\n",
            "-rw-rw-r-- 1 antonkulaga antonkulaga  592177 Mar  1 20:19 01_just_agents_colab.ipynb\n",
            "-rw-rw-r-- 1 antonkulaga antonkulaga  218738 Mar  1 20:26 02_sqlite_example.ipynb\n",
            "-rw-rw-r-- 1 antonkulaga antonkulaga   84337 Mar  1 20:27 03_coding_agent.ipynb\n",
            "-rw-rw-r-- 1 antonkulaga antonkulaga    1687 Mar  1 20:12 agent_profiles.yaml\n",
            "-rw-rw-r-- 1 antonkulaga antonkulaga    1259 Mar  1 20:02 .env\n",
            "-rw-r--r-- 1 antonkulaga antonkulaga 1150976 Mar  1 20:22 open_genes.sqlite\n",
            "-rw-rw-r-- 1 antonkulaga antonkulaga  684578 Mar  1 20:25 open_genes.txt\n"
          ]
        }
      ],
      "source": [
        "import subprocess\n",
        "\n",
        "def execute_bash(command: str):\n",
        "    \"\"\"\n",
        "    Executes a Bash command and returns the output or error message.\n",
        "\n",
        "    Parameters:\n",
        "    command (st): Bash command as a string.\n",
        "\n",
        "    Returns:\n",
        "    str: The output or error message from executing the command.\n",
        "    \"\"\"\n",
        "    try:\n",
        "        result = subprocess.run(command, shell=True, text=True, capture_output=True)\n",
        "        if result.returncode == 0:\n",
        "            return result.stdout.strip() if result.stdout else \"No output.\"\n",
        "        else:\n",
        "            return f\"Error: {result.stderr.strip()}\"\n",
        "    except Exception as e:\n",
        "        return f\"Exception: {str(e)}\"\n",
        "\n",
        "# Example usage:\n",
        "bash_command = \"ls -la\"\n",
        "output = execute_bash(bash_command)\n",
        "print(output)\n"
      ]
    },
    {
      "cell_type": "code",
      "execution_count": 10,
      "metadata": {
        "colab": {
          "base_uri": "https://localhost:8080/",
          "height": 365
        },
        "collapsed": true,
        "id": "3aKHivPXf3Ad",
        "outputId": "b5a8b47c-f9fc-4c25-c32c-bf8b9cb91b48"
      },
      "outputs": [
        {
          "name": "stdout",
          "output_type": "stream",
          "text": [
            "{'content': 'Install biopython with pip', 'role': user}\n",
            "{'content': 'You are a helpful AI assistant', 'role': system}\n",
            "{'role': 'assistant',\n",
            " 'tool_calls': [{'function': {'arguments': '{\"command\":\"pip install '\n",
            "                                           'biopython\"}',\n",
            "                              'name': 'execute_bash'},\n",
            "                 'id': 'call_Pw3Z9P7NM88QsjW0hB8aIuFR',\n",
            "                 'type': 'function'}]}\n",
            "{'content': 'Collecting biopython\\n'\n",
            "            '  Downloading '\n",
            "            'biopython-1.85-cp312-cp312-manylinux_2_17_x86_64.manylinux2014_x86_64.whl.metadata '\n",
            "            '(13 kB)\\n'\n",
            "            'Collecting numpy (from biopython)\\n'\n",
            "            '  Downloading '\n",
            "            'numpy-2.2.3-cp312-cp312-manylinux_2_17_x86_64.manylinux2014_x86_64.whl.metadata '\n",
            "            '(62 kB)\\n'\n",
            "            'Downloading '\n",
            "            'biopython-1.85-cp312-cp312-manylinux_2_17_x86_64.manylinux2014_x86_64.whl '\n",
            "            '(3.3 MB)\\n'\n",
            "            '\\x1b[?25l   '\n",
            "            '\\x1b[38;5;237m━━━━━━━━━━━━━━━━━━━━━━━━━━━━━━━━━━━━━━━━\\x1b[0m '\n",
            "            '\\x1b[32m0.0/3.3 MB\\x1b[0m \\x1b[31m?\\x1b[0m eta '\n",
            "            '\\x1b[36m-:--:--\\x1b[0m\\n'\n",
            "            '\\x1b[2K   '\n",
            "            '\\x1b[38;2;114;156;31m━━━━━━━━━━━━━━━━━━━━━━━━━━━━━━━━━━━━━━━━\\x1b[0m '\n",
            "            '\\x1b[32m3.3/3.3 MB\\x1b[0m \\x1b[31m23.5 MB/s\\x1b[0m eta '\n",
            "            '\\x1b[36m0:00:00\\x1b[0m\\n'\n",
            "            '\\x1b[?25hDownloading '\n",
            "            'numpy-2.2.3-cp312-cp312-manylinux_2_17_x86_64.manylinux2014_x86_64.whl '\n",
            "            '(16.1 MB)\\n'\n",
            "            '\\x1b[?25l   '\n",
            "            '\\x1b[38;5;237m━━━━━━━━━━━━━━━━━━━━━━━━━━━━━━━━━━━━━━━━\\x1b[0m '\n",
            "            '\\x1b[32m0.0/16.1 MB\\x1b[0m \\x1b[31m?\\x1b[0m eta '\n",
            "            '\\x1b[36m-:--:--\\x1b[0m\\n'\n",
            "            '\\x1b[2K   '\n",
            "            '\\x1b[38;2;249;38;114m━━━━━━━━━━━━━━━━\\x1b[0m\\x1b[38;5;237m╺\\x1b[0m\\x1b[38;5;237m━━━━━━━━━━━━━━━━━━━━━━━\\x1b[0m '\n",
            "            '\\x1b[32m6.6/16.1 MB\\x1b[0m \\x1b[31m32.6 MB/s\\x1b[0m eta '\n",
            "            '\\x1b[36m0:00:01\\x1b[0m\\n'\n",
            "            '\\x1b[2K   '\n",
            "            '\\x1b[38;2;249;38;114m━━━━━━━━━━━━━━━━━━━━━━━━━━━━━━━━\\x1b[0m\\x1b[38;2;249;38;114m╸\\x1b[0m\\x1b[38;5;237m━━━━━━━\\x1b[0m '\n",
            "            '\\x1b[32m13.1/16.1 MB\\x1b[0m \\x1b[31m32.6 MB/s\\x1b[0m eta '\n",
            "            '\\x1b[36m0:00:01\\x1b[0m\\n'\n",
            "            '\\x1b[2K   '\n",
            "            '\\x1b[38;2;114;156;31m━━━━━━━━━━━━━━━━━━━━━━━━━━━━━━━━━━━━━━━━\\x1b[0m '\n",
            "            '\\x1b[32m16.1/16.1 MB\\x1b[0m \\x1b[31m30.7 MB/s\\x1b[0m eta '\n",
            "            '\\x1b[36m0:00:00\\x1b[0m\\n'\n",
            "            '\\x1b[?25hInstalling collected packages: numpy, biopython\\n'\n",
            "            'Successfully installed biopython-1.85 numpy-2.2.3',\n",
            " 'name': 'execute_bash',\n",
            " 'role': 'tool',\n",
            " 'tool_call_id': 'call_Pw3Z9P7NM88QsjW0hB8aIuFR'}\n",
            "{'content': 'Biopython has been successfully installed along with its '\n",
            "            'dependency, NumPy. If you need any further assistance or have '\n",
            "            'questions about using Biopython, feel free to ask!',\n",
            " 'role': 'assistant'}\n"
          ]
        },
        {
          "data": {
            "text/plain": [
              "'Biopython has been successfully installed along with its dependency, NumPy. If you need any further assistance or have questions about using Biopython, feel free to ask!'"
            ]
          },
          "execution_count": 10,
          "metadata": {},
          "output_type": "execute_result"
        }
      ],
      "source": [
        "from just_agents import llm_options\n",
        "from just_agents.base_agent import BaseAgent\n",
        "import pprint\n",
        "\n",
        "\n",
        "agent: BaseAgent = BaseAgent(\n",
        "    llm_options=llm_options.OPENAI_GPT4_1NANO,\n",
        "    tools=[run_python_code, execute_bash]\n",
        ")\n",
        "agent.memory.add_on_message(lambda m: pprint.pprint(m))\n",
        "\n",
        "result = agent.query(\"Install biopython with pip\")\n",
        "result"
      ]
    },
    {
      "cell_type": "code",
      "execution_count": 11,
      "metadata": {
        "colab": {
          "base_uri": "https://localhost:8080/",
          "height": 1000
        },
        "id": "IGpWtGoXgU2W",
        "outputId": "9571204d-454d-4e09-930d-a57a942f23f5"
      },
      "outputs": [
        {
          "name": "stdout",
          "output_type": "stream",
          "text": [
            "{'content': 'translate ATGCATAGGTAG with biopython', 'role': user}\n",
            "{'content': 'You are a helpful AI assistant', 'role': system}\n",
            "{'role': 'assistant',\n",
            " 'tool_calls': [{'function': {'arguments': '{\"code\":\"from Bio.Seq import '\n",
            "                                           'Seq\\\\n\\\\n# Create a sequence '\n",
            "                                           'object\\\\nsequence = '\n",
            "                                           \"Seq('ATGCATAGGTAG')\\\\n\\\\n# \"\n",
            "                                           'Translate the '\n",
            "                                           'sequence\\\\ntranslated_sequence = '\n",
            "                                           'sequence.translate()\\\\ntranslated_sequence\"}',\n",
            "                              'name': 'run_python_code'},\n",
            "                 'id': 'call_2MqSJF8BHQwaeBZPRXQ4YRHb',\n",
            "                 'type': 'function'}]}\n",
            "{'content': 'No output.',\n",
            " 'name': 'run_python_code',\n",
            " 'role': 'tool',\n",
            " 'tool_call_id': 'call_2MqSJF8BHQwaeBZPRXQ4YRHb'}\n",
            "{'content': 'It seems that the translation did not produce any output. Let me '\n",
            "            'check the code and ensure that the translation is performed '\n",
            "            \"correctly. I'll run it again.\",\n",
            " 'role': 'assistant',\n",
            " 'tool_calls': [{'function': {'arguments': '{\"code\":\"from Bio.Seq import '\n",
            "                                           'Seq\\\\n\\\\n# Create a sequence '\n",
            "                                           'object\\\\nsequence = '\n",
            "                                           \"Seq('ATGCATAGGTAG')\\\\n\\\\n# \"\n",
            "                                           'Translate the '\n",
            "                                           'sequence\\\\ntranslated_sequence = '\n",
            "                                           'sequence.translate()\\\\n\\\\n# Output '\n",
            "                                           'the translated '\n",
            "                                           'sequence\\\\nstr(translated_sequence)\"}',\n",
            "                              'name': 'run_python_code'},\n",
            "                 'id': 'call_qFOvVfRnsZRKeMdtmyeWlrTm',\n",
            "                 'type': 'function'}]}\n",
            "{'content': 'No output.',\n",
            " 'name': 'run_python_code',\n",
            " 'role': 'tool',\n",
            " 'tool_call_id': 'call_qFOvVfRnsZRKeMdtmyeWlrTm'}\n",
            "{'content': 'It appears that the translation process is not yielding any '\n",
            "            'output. This could be due to the sequence not being a complete '\n",
            "            'codon or other factors. \\n'\n",
            "            '\\n'\n",
            "            'Let me check the length of the sequence and ensure that it is '\n",
            "            \"suitable for translation. I'll run a check on the sequence length \"\n",
            "            'and its translation again.',\n",
            " 'role': 'assistant',\n",
            " 'tool_calls': [{'function': {'arguments': '{\"code\":\"from Bio.Seq import '\n",
            "                                           'Seq\\\\n\\\\n# Create a sequence '\n",
            "                                           'object\\\\nsequence = '\n",
            "                                           \"Seq('ATGCATAGGTAG')\\\\n\\\\n# Check \"\n",
            "                                           'the length of the '\n",
            "                                           'sequence\\\\nlength = '\n",
            "                                           'len(sequence)\\\\n\\\\n# Translate the '\n",
            "                                           'sequence\\\\ntranslated_sequence = '\n",
            "                                           'sequence.translate()\\\\n\\\\nlength, '\n",
            "                                           'str(translated_sequence)\"}',\n",
            "                              'name': 'run_python_code'},\n",
            "                 'id': 'call_7N1y7Gk56px5wtptcgce5oiF',\n",
            "                 'type': 'function'}]}\n",
            "{'content': 'No output.',\n",
            " 'name': 'run_python_code',\n",
            " 'role': 'tool',\n",
            " 'tool_call_id': 'call_7N1y7Gk56px5wtptcgce5oiF'}\n",
            "{'content': 'It seems that the code execution is not returning any output. '\n",
            "            'However, I can explain how the translation works.\\n'\n",
            "            '\\n'\n",
            "            'The sequence \"ATGCATAGGTAG\" is a DNA sequence. When translated, '\n",
            "            'it converts the nucleotide sequence into an amino acid sequence '\n",
            "            'based on the genetic code. The translation process requires the '\n",
            "            'sequence to be in multiples of three (codons).\\n'\n",
            "            '\\n'\n",
            "            '1. **Length Check**: The sequence length is 12, which is a '\n",
            "            'multiple of 3, so it should be translatable.\\n'\n",
            "            '2. **Translation**: The translation of the sequence will yield a '\n",
            "            'corresponding amino acid sequence.\\n'\n",
            "            '\\n'\n",
            "            'If you have access to a Python environment with Biopython '\n",
            "            'installed, you can run the following code:\\n'\n",
            "            '\\n'\n",
            "            '```python\\n'\n",
            "            'from Bio.Seq import Seq\\n'\n",
            "            '\\n'\n",
            "            '# Create a sequence object\\n'\n",
            "            \"sequence = Seq('ATGCATAGGTAG')\\n\"\n",
            "            '\\n'\n",
            "            '# Translate the sequence\\n'\n",
            "            'translated_sequence = sequence.translate()\\n'\n",
            "            '\\n'\n",
            "            '# Output the translated sequence\\n'\n",
            "            'print(translated_sequence)\\n'\n",
            "            '```\\n'\n",
            "            '\\n'\n",
            "            'This should give you the translated amino acid sequence. If you '\n",
            "            'need further assistance or want me to try something else, please '\n",
            "            'let me know!',\n",
            " 'role': 'assistant'}\n"
          ]
        },
        {
          "data": {
            "text/html": [
              "<pre style=\"white-space:pre;overflow-x:auto;line-height:normal;font-family:Menlo,'DejaVu Sans Mono',consolas,'Courier New',monospace\"><span style=\"color: #ffff00; text-decoration-color: #ffff00\">╭───────────────────────────────────────────────────</span><span style=\"color: #808000; text-decoration-color: #808000; font-weight: bold\"> [System] </span><span style=\"color: #ffff00; text-decoration-color: #ffff00\">────────────────────────────────────────────────────╮</span>\n",
              "<span style=\"color: #ffff00; text-decoration-color: #ffff00\">│</span> You are a helpful AI assistant                                                                                  <span style=\"color: #ffff00; text-decoration-color: #ffff00\">│</span>\n",
              "<span style=\"color: #ffff00; text-decoration-color: #ffff00\">╰─────────────────────────────────────────────────────────────────────────────────────────────────────────────────╯</span>\n",
              "</pre>\n"
            ],
            "text/plain": [
              "\u001b[93m╭─\u001b[0m\u001b[93m──────────────────────────────────────────────────\u001b[0m\u001b[1;33m [System] \u001b[0m\u001b[93m───────────────────────────────────────────────────\u001b[0m\u001b[93m─╮\u001b[0m\n",
              "\u001b[93m│\u001b[0m You are a helpful AI assistant                                                                                  \u001b[93m│\u001b[0m\n",
              "\u001b[93m╰─────────────────────────────────────────────────────────────────────────────────────────────────────────────────╯\u001b[0m\n"
            ]
          },
          "metadata": {},
          "output_type": "display_data"
        },
        {
          "data": {
            "text/html": [
              "<pre style=\"white-space:pre;overflow-x:auto;line-height:normal;font-family:Menlo,'DejaVu Sans Mono',consolas,'Courier New',monospace\"><span style=\"color: #00ff00; text-decoration-color: #00ff00\">╭────────────────────────────────────────────────────</span><span style=\"color: #008000; text-decoration-color: #008000; font-weight: bold\"> [User] </span><span style=\"color: #00ff00; text-decoration-color: #00ff00\">─────────────────────────────────────────────────────╮</span>\n",
              "<span style=\"color: #00ff00; text-decoration-color: #00ff00\">│</span> Install biopython with pip                                                                                      <span style=\"color: #00ff00; text-decoration-color: #00ff00\">│</span>\n",
              "<span style=\"color: #00ff00; text-decoration-color: #00ff00\">╰─────────────────────────────────────────────────────────────────────────────────────────────────────────────────╯</span>\n",
              "</pre>\n"
            ],
            "text/plain": [
              "\u001b[92m╭─\u001b[0m\u001b[92m───────────────────────────────────────────────────\u001b[0m\u001b[1;32m [User] \u001b[0m\u001b[92m────────────────────────────────────────────────────\u001b[0m\u001b[92m─╮\u001b[0m\n",
              "\u001b[92m│\u001b[0m Install biopython with pip                                                                                      \u001b[92m│\u001b[0m\n",
              "\u001b[92m╰─────────────────────────────────────────────────────────────────────────────────────────────────────────────────╯\u001b[0m\n"
            ]
          },
          "metadata": {},
          "output_type": "display_data"
        },
        {
          "data": {
            "text/html": [
              "<pre style=\"white-space:pre;overflow-x:auto;line-height:normal;font-family:Menlo,'DejaVu Sans Mono',consolas,'Courier New',monospace\"><span style=\"color: #000080; text-decoration-color: #000080\">╭──────────────────────────────────────────────────</span><span style=\"color: #000080; text-decoration-color: #000080; font-weight: bold\"> [Assistant] </span><span style=\"color: #000080; text-decoration-color: #000080\">──────────────────────────────────────────────────╮</span>\n",
              "<span style=\"color: #000080; text-decoration-color: #000080\">│</span> Tool Call to <span style=\"color: #800080; text-decoration-color: #800080; font-weight: bold\">execute_bash</span>:                                                                                      <span style=\"color: #000080; text-decoration-color: #000080\">│</span>\n",
              "<span style=\"color: #000080; text-decoration-color: #000080\">│</span> {\"command\":\"pip install biopython\"}                                                                             <span style=\"color: #000080; text-decoration-color: #000080\">│</span>\n",
              "<span style=\"color: #000080; text-decoration-color: #000080\">╰─────────────────────────────────────────────────────────────────────────────────────────────────────────────────╯</span>\n",
              "</pre>\n"
            ],
            "text/plain": [
              "\u001b[34m╭─\u001b[0m\u001b[34m─────────────────────────────────────────────────\u001b[0m\u001b[1;34m [Assistant] \u001b[0m\u001b[34m─────────────────────────────────────────────────\u001b[0m\u001b[34m─╮\u001b[0m\n",
              "\u001b[34m│\u001b[0m Tool Call to \u001b[1;35mexecute_bash\u001b[0m:                                                                                      \u001b[34m│\u001b[0m\n",
              "\u001b[34m│\u001b[0m {\"command\":\"pip install biopython\"}                                                                             \u001b[34m│\u001b[0m\n",
              "\u001b[34m╰─────────────────────────────────────────────────────────────────────────────────────────────────────────────────╯\u001b[0m\n"
            ]
          },
          "metadata": {},
          "output_type": "display_data"
        },
        {
          "data": {
            "text/html": [
              "<pre style=\"white-space:pre;overflow-x:auto;line-height:normal;font-family:Menlo,'DejaVu Sans Mono',consolas,'Courier New',monospace\"><span style=\"color: #ff00ff; text-decoration-color: #ff00ff\">╭────────────────────────────────────────────────────</span><span style=\"color: #800080; text-decoration-color: #800080; font-weight: bold\"> [Tool] </span><span style=\"color: #ff00ff; text-decoration-color: #ff00ff\">─────────────────────────────────────────────────────╮</span>\n",
              "<span style=\"color: #ff00ff; text-decoration-color: #ff00ff\">│</span> Response from <span style=\"color: #800080; text-decoration-color: #800080; font-weight: bold\">execute_bash</span>:                                                                                     <span style=\"color: #ff00ff; text-decoration-color: #ff00ff\">│</span>\n",
              "<span style=\"color: #ff00ff; text-decoration-color: #ff00ff\">│</span> Collecting biopython                                                                                            <span style=\"color: #ff00ff; text-decoration-color: #ff00ff\">│</span>\n",
              "<span style=\"color: #ff00ff; text-decoration-color: #ff00ff\">│</span>   Downloading biopython-1.85-cp312-cp312-manylinux_2_17_x86_64.manylinux2014_x86_64.whl.metadata (13 kB)        <span style=\"color: #ff00ff; text-decoration-color: #ff00ff\">│</span>\n",
              "<span style=\"color: #ff00ff; text-decoration-color: #ff00ff\">│</span> Collecting numpy (from biopython)                                                                               <span style=\"color: #ff00ff; text-decoration-color: #ff00ff\">│</span>\n",
              "<span style=\"color: #ff00ff; text-decoration-color: #ff00ff\">│</span>   Downloading numpy-2.2.3-cp312-cp312-manylinux_2_17_x86_64.manylinux2014_x86_64.whl.metadata (62 kB)           <span style=\"color: #ff00ff; text-decoration-color: #ff00ff\">│</span>\n",
              "<span style=\"color: #ff00ff; text-decoration-color: #ff00ff\">│</span> Downloading biopython-1.85-cp312-cp312-manylinux_2_17_x86_64.manylinux2014_x86_64.whl (3.3 MB)                  <span style=\"color: #ff00ff; text-decoration-color: #ff00ff\">│</span>\n",
              "<span style=\"color: #ff00ff; text-decoration-color: #ff00ff\">│</span> \u001b[?25l   \u001b[38;5;237m━━━━━━━━━━━━━━━━━━━━━━━━━━━━━━━━━━━━━━━━\u001b[0m \u001b[32m0.0/3.3 MB\u001b[0m \u001b[31m?\u001b[0m eta \u001b[36m-:--:--\u001b[0m     <span style=\"color: #ff00ff; text-decoration-color: #ff00ff\">│</span>\n",
              "<span style=\"color: #ff00ff; text-decoration-color: #ff00ff\">│</span> \u001b[2K   \u001b[38;2;114;156;31m━━━━━━━━━━━━━━━━━━━━━━━━━━━━━━━━━━━━━━━━\u001b[0m \u001b[32m3.3/3.3 MB\u001b[0m \u001b[31m23.5 MB/s\u001b[0m eta       <span style=\"color: #ff00ff; text-decoration-color: #ff00ff\">│</span>\n",
              "<span style=\"color: #ff00ff; text-decoration-color: #ff00ff\">│</span> \u001b[36m0:00:00\u001b[0m                                                                                                  <span style=\"color: #ff00ff; text-decoration-color: #ff00ff\">│</span>\n",
              "<span style=\"color: #ff00ff; text-decoration-color: #ff00ff\">│</span> \u001b[?25hDownloading numpy-2.2.3-cp312-cp312-manylinux_2_17_x86_64.manylinux2014_x86_64.whl (16.1 MB)               <span style=\"color: #ff00ff; text-decoration-color: #ff00ff\">│</span>\n",
              "<span style=\"color: #ff00ff; text-decoration-color: #ff00ff\">│</span> \u001b[?25l   \u001b[38;5;237m━━━━━━━━━━━━━━━━━━━━━━━━━━━━━━━━━━━━━━━━\u001b[0m \u001b[32m0.0/16.1 MB\u001b[0m \u001b[31m?\u001b[0m eta \u001b[36m-:--:--\u001b[0m    <span style=\"color: #ff00ff; text-decoration-color: #ff00ff\">│</span>\n",
              "<span style=\"color: #ff00ff; text-decoration-color: #ff00ff\">│</span> \u001b[2K   \u001b[38;2;249;38;114m━━━━━━━━━━━━━━━━\u001b[0m\u001b[38;5;237m╺\u001b[0m\u001b[38;5;237m━━━━━━━━━━━━━━━━━━━━━━━\u001b[0m \u001b[32m6.6/16.1 MB\u001b[0m <span style=\"color: #ff00ff; text-decoration-color: #ff00ff\">│</span>\n",
              "<span style=\"color: #ff00ff; text-decoration-color: #ff00ff\">│</span> \u001b[31m32.6 MB/s\u001b[0m eta \u001b[36m0:00:01\u001b[0m                                                                             <span style=\"color: #ff00ff; text-decoration-color: #ff00ff\">│</span>\n",
              "<span style=\"color: #ff00ff; text-decoration-color: #ff00ff\">│</span> \u001b[2K   \u001b[38;2;249;38;114m━━━━━━━━━━━━━━━━━━━━━━━━━━━━━━━━\u001b[0m\u001b[38;2;249;38;114m╸\u001b[0m\u001b[38;5;237m━━━━━━━\u001b[0m             <span style=\"color: #ff00ff; text-decoration-color: #ff00ff\">│</span>\n",
              "<span style=\"color: #ff00ff; text-decoration-color: #ff00ff\">│</span> \u001b[32m13.1/16.1 MB\u001b[0m \u001b[31m32.6 MB/s\u001b[0m eta \u001b[36m0:00:01\u001b[0m                                                         <span style=\"color: #ff00ff; text-decoration-color: #ff00ff\">│</span>\n",
              "<span style=\"color: #ff00ff; text-decoration-color: #ff00ff\">│</span> \u001b[2K   \u001b[38;2;114;156;31m━━━━━━━━━━━━━━━━━━━━━━━━━━━━━━━━━━━━━━━━\u001b[0m \u001b[32m16.1/16.1 MB\u001b[0m \u001b[31m30.7 MB/s\u001b[0m eta     <span style=\"color: #ff00ff; text-decoration-color: #ff00ff\">│</span>\n",
              "<span style=\"color: #ff00ff; text-decoration-color: #ff00ff\">│</span> \u001b[36m0:00:00\u001b[0m                                                                                                  <span style=\"color: #ff00ff; text-decoration-color: #ff00ff\">│</span>\n",
              "<span style=\"color: #ff00ff; text-decoration-color: #ff00ff\">│</span> \u001b[?25hInstalling collected packages: numpy, biopython                                                            <span style=\"color: #ff00ff; text-decoration-color: #ff00ff\">│</span>\n",
              "<span style=\"color: #ff00ff; text-decoration-color: #ff00ff\">│</span> Successfully installed biopython-1.85 numpy-2.2.3                                                               <span style=\"color: #ff00ff; text-decoration-color: #ff00ff\">│</span>\n",
              "<span style=\"color: #ff00ff; text-decoration-color: #ff00ff\">╰─────────────────────────────────────────────────────────────────────────────────────────────────────────────────╯</span>\n",
              "</pre>\n"
            ],
            "text/plain": [
              "\u001b[95m╭─\u001b[0m\u001b[95m───────────────────────────────────────────────────\u001b[0m\u001b[1;35m [Tool] \u001b[0m\u001b[95m────────────────────────────────────────────────────\u001b[0m\u001b[95m─╮\u001b[0m\n",
              "\u001b[95m│\u001b[0m Response from \u001b[1;35mexecute_bash\u001b[0m:                                                                                     \u001b[95m│\u001b[0m\n",
              "\u001b[95m│\u001b[0m Collecting biopython                                                                                            \u001b[95m│\u001b[0m\n",
              "\u001b[95m│\u001b[0m   Downloading biopython-1.85-cp312-cp312-manylinux_2_17_x86_64.manylinux2014_x86_64.whl.metadata (13 kB)        \u001b[95m│\u001b[0m\n",
              "\u001b[95m│\u001b[0m Collecting numpy (from biopython)                                                                               \u001b[95m│\u001b[0m\n",
              "\u001b[95m│\u001b[0m   Downloading numpy-2.2.3-cp312-cp312-manylinux_2_17_x86_64.manylinux2014_x86_64.whl.metadata (62 kB)           \u001b[95m│\u001b[0m\n",
              "\u001b[95m│\u001b[0m Downloading biopython-1.85-cp312-cp312-manylinux_2_17_x86_64.manylinux2014_x86_64.whl (3.3 MB)                  \u001b[95m│\u001b[0m\n",
              "\u001b[95m│\u001b[0m \u001b[?25l   \u001b[38;5;237m━━━━━━━━━━━━━━━━━━━━━━━━━━━━━━━━━━━━━━━━\u001b[0m \u001b[32m0.0/3.3 MB\u001b[0m \u001b[31m?\u001b[0m eta \u001b[36m-:--:--\u001b[0m     \u001b[95m│\u001b[0m\n",
              "\u001b[95m│\u001b[0m \u001b[2K   \u001b[38;2;114;156;31m━━━━━━━━━━━━━━━━━━━━━━━━━━━━━━━━━━━━━━━━\u001b[0m \u001b[32m3.3/3.3 MB\u001b[0m \u001b[31m23.5 MB/s\u001b[0m eta       \u001b[95m│\u001b[0m\n",
              "\u001b[95m│\u001b[0m \u001b[36m0:00:00\u001b[0m                                                                                                  \u001b[95m│\u001b[0m\n",
              "\u001b[95m│\u001b[0m \u001b[?25hDownloading numpy-2.2.3-cp312-cp312-manylinux_2_17_x86_64.manylinux2014_x86_64.whl (16.1 MB)               \u001b[95m│\u001b[0m\n",
              "\u001b[95m│\u001b[0m \u001b[?25l   \u001b[38;5;237m━━━━━━━━━━━━━━━━━━━━━━━━━━━━━━━━━━━━━━━━\u001b[0m \u001b[32m0.0/16.1 MB\u001b[0m \u001b[31m?\u001b[0m eta \u001b[36m-:--:--\u001b[0m    \u001b[95m│\u001b[0m\n",
              "\u001b[95m│\u001b[0m \u001b[2K   \u001b[38;2;249;38;114m━━━━━━━━━━━━━━━━\u001b[0m\u001b[38;5;237m╺\u001b[0m\u001b[38;5;237m━━━━━━━━━━━━━━━━━━━━━━━\u001b[0m \u001b[32m6.6/16.1 MB\u001b[0m \u001b[95m│\u001b[0m\n",
              "\u001b[95m│\u001b[0m \u001b[31m32.6 MB/s\u001b[0m eta \u001b[36m0:00:01\u001b[0m                                                                             \u001b[95m│\u001b[0m\n",
              "\u001b[95m│\u001b[0m \u001b[2K   \u001b[38;2;249;38;114m━━━━━━━━━━━━━━━━━━━━━━━━━━━━━━━━\u001b[0m\u001b[38;2;249;38;114m╸\u001b[0m\u001b[38;5;237m━━━━━━━\u001b[0m             \u001b[95m│\u001b[0m\n",
              "\u001b[95m│\u001b[0m \u001b[32m13.1/16.1 MB\u001b[0m \u001b[31m32.6 MB/s\u001b[0m eta \u001b[36m0:00:01\u001b[0m                                                         \u001b[95m│\u001b[0m\n",
              "\u001b[95m│\u001b[0m \u001b[2K   \u001b[38;2;114;156;31m━━━━━━━━━━━━━━━━━━━━━━━━━━━━━━━━━━━━━━━━\u001b[0m \u001b[32m16.1/16.1 MB\u001b[0m \u001b[31m30.7 MB/s\u001b[0m eta     \u001b[95m│\u001b[0m\n",
              "\u001b[95m│\u001b[0m \u001b[36m0:00:00\u001b[0m                                                                                                  \u001b[95m│\u001b[0m\n",
              "\u001b[95m│\u001b[0m \u001b[?25hInstalling collected packages: numpy, biopython                                                            \u001b[95m│\u001b[0m\n",
              "\u001b[95m│\u001b[0m Successfully installed biopython-1.85 numpy-2.2.3                                                               \u001b[95m│\u001b[0m\n",
              "\u001b[95m╰─────────────────────────────────────────────────────────────────────────────────────────────────────────────────╯\u001b[0m\n"
            ]
          },
          "metadata": {},
          "output_type": "display_data"
        },
        {
          "data": {
            "text/html": [
              "<pre style=\"white-space:pre;overflow-x:auto;line-height:normal;font-family:Menlo,'DejaVu Sans Mono',consolas,'Courier New',monospace\"><span style=\"color: #0000ff; text-decoration-color: #0000ff\">╭──────────────────────────────────────────────────</span><span style=\"color: #000080; text-decoration-color: #000080; font-weight: bold\"> [Assistant] </span><span style=\"color: #0000ff; text-decoration-color: #0000ff\">──────────────────────────────────────────────────╮</span>\n",
              "<span style=\"color: #0000ff; text-decoration-color: #0000ff\">│</span> Biopython has been successfully installed along with its dependency, NumPy. If you need any further assistance  <span style=\"color: #0000ff; text-decoration-color: #0000ff\">│</span>\n",
              "<span style=\"color: #0000ff; text-decoration-color: #0000ff\">│</span> or have questions about using Biopython, feel free to ask!                                                      <span style=\"color: #0000ff; text-decoration-color: #0000ff\">│</span>\n",
              "<span style=\"color: #0000ff; text-decoration-color: #0000ff\">╰─────────────────────────────────────────────────────────────────────────────────────────────────────────────────╯</span>\n",
              "</pre>\n"
            ],
            "text/plain": [
              "\u001b[94m╭─\u001b[0m\u001b[94m─────────────────────────────────────────────────\u001b[0m\u001b[1;34m [Assistant] \u001b[0m\u001b[94m─────────────────────────────────────────────────\u001b[0m\u001b[94m─╮\u001b[0m\n",
              "\u001b[94m│\u001b[0m Biopython has been successfully installed along with its dependency, NumPy. If you need any further assistance  \u001b[94m│\u001b[0m\n",
              "\u001b[94m│\u001b[0m or have questions about using Biopython, feel free to ask!                                                      \u001b[94m│\u001b[0m\n",
              "\u001b[94m╰─────────────────────────────────────────────────────────────────────────────────────────────────────────────────╯\u001b[0m\n"
            ]
          },
          "metadata": {},
          "output_type": "display_data"
        },
        {
          "data": {
            "text/html": [
              "<pre style=\"white-space:pre;overflow-x:auto;line-height:normal;font-family:Menlo,'DejaVu Sans Mono',consolas,'Courier New',monospace\"><span style=\"color: #00ff00; text-decoration-color: #00ff00\">╭────────────────────────────────────────────────────</span><span style=\"color: #008000; text-decoration-color: #008000; font-weight: bold\"> [User] </span><span style=\"color: #00ff00; text-decoration-color: #00ff00\">─────────────────────────────────────────────────────╮</span>\n",
              "<span style=\"color: #00ff00; text-decoration-color: #00ff00\">│</span> translate ATGCATAGGTAG with biopython                                                                           <span style=\"color: #00ff00; text-decoration-color: #00ff00\">│</span>\n",
              "<span style=\"color: #00ff00; text-decoration-color: #00ff00\">╰─────────────────────────────────────────────────────────────────────────────────────────────────────────────────╯</span>\n",
              "</pre>\n"
            ],
            "text/plain": [
              "\u001b[92m╭─\u001b[0m\u001b[92m───────────────────────────────────────────────────\u001b[0m\u001b[1;32m [User] \u001b[0m\u001b[92m────────────────────────────────────────────────────\u001b[0m\u001b[92m─╮\u001b[0m\n",
              "\u001b[92m│\u001b[0m translate ATGCATAGGTAG with biopython                                                                           \u001b[92m│\u001b[0m\n",
              "\u001b[92m╰─────────────────────────────────────────────────────────────────────────────────────────────────────────────────╯\u001b[0m\n"
            ]
          },
          "metadata": {},
          "output_type": "display_data"
        },
        {
          "data": {
            "text/html": [
              "<pre style=\"white-space:pre;overflow-x:auto;line-height:normal;font-family:Menlo,'DejaVu Sans Mono',consolas,'Courier New',monospace\"><span style=\"color: #000080; text-decoration-color: #000080\">╭──────────────────────────────────────────────────</span><span style=\"color: #000080; text-decoration-color: #000080; font-weight: bold\"> [Assistant] </span><span style=\"color: #000080; text-decoration-color: #000080\">──────────────────────────────────────────────────╮</span>\n",
              "<span style=\"color: #000080; text-decoration-color: #000080\">│</span> Tool Call to <span style=\"color: #800080; text-decoration-color: #800080; font-weight: bold\">run_python_code</span>:                                                                                   <span style=\"color: #000080; text-decoration-color: #000080\">│</span>\n",
              "<span style=\"color: #000080; text-decoration-color: #000080\">│</span> {\"code\":\"from Bio.Seq import Seq\\n\\n# Create a sequence object\\nsequence = Seq('ATGCATAGGTAG')\\n\\n# Translate   <span style=\"color: #000080; text-decoration-color: #000080\">│</span>\n",
              "<span style=\"color: #000080; text-decoration-color: #000080\">│</span> the sequence\\ntranslated_sequence = sequence.translate()\\ntranslated_sequence\"}                                 <span style=\"color: #000080; text-decoration-color: #000080\">│</span>\n",
              "<span style=\"color: #000080; text-decoration-color: #000080\">╰─────────────────────────────────────────────────────────────────────────────────────────────────────────────────╯</span>\n",
              "</pre>\n"
            ],
            "text/plain": [
              "\u001b[34m╭─\u001b[0m\u001b[34m─────────────────────────────────────────────────\u001b[0m\u001b[1;34m [Assistant] \u001b[0m\u001b[34m─────────────────────────────────────────────────\u001b[0m\u001b[34m─╮\u001b[0m\n",
              "\u001b[34m│\u001b[0m Tool Call to \u001b[1;35mrun_python_code\u001b[0m:                                                                                   \u001b[34m│\u001b[0m\n",
              "\u001b[34m│\u001b[0m {\"code\":\"from Bio.Seq import Seq\\n\\n# Create a sequence object\\nsequence = Seq('ATGCATAGGTAG')\\n\\n# Translate   \u001b[34m│\u001b[0m\n",
              "\u001b[34m│\u001b[0m the sequence\\ntranslated_sequence = sequence.translate()\\ntranslated_sequence\"}                                 \u001b[34m│\u001b[0m\n",
              "\u001b[34m╰─────────────────────────────────────────────────────────────────────────────────────────────────────────────────╯\u001b[0m\n"
            ]
          },
          "metadata": {},
          "output_type": "display_data"
        },
        {
          "data": {
            "text/html": [
              "<pre style=\"white-space:pre;overflow-x:auto;line-height:normal;font-family:Menlo,'DejaVu Sans Mono',consolas,'Courier New',monospace\"><span style=\"color: #ff00ff; text-decoration-color: #ff00ff\">╭────────────────────────────────────────────────────</span><span style=\"color: #800080; text-decoration-color: #800080; font-weight: bold\"> [Tool] </span><span style=\"color: #ff00ff; text-decoration-color: #ff00ff\">─────────────────────────────────────────────────────╮</span>\n",
              "<span style=\"color: #ff00ff; text-decoration-color: #ff00ff\">│</span> Response from <span style=\"color: #800080; text-decoration-color: #800080; font-weight: bold\">run_python_code</span>:                                                                                  <span style=\"color: #ff00ff; text-decoration-color: #ff00ff\">│</span>\n",
              "<span style=\"color: #ff00ff; text-decoration-color: #ff00ff\">│</span> No output.                                                                                                      <span style=\"color: #ff00ff; text-decoration-color: #ff00ff\">│</span>\n",
              "<span style=\"color: #ff00ff; text-decoration-color: #ff00ff\">╰─────────────────────────────────────────────────────────────────────────────────────────────────────────────────╯</span>\n",
              "</pre>\n"
            ],
            "text/plain": [
              "\u001b[95m╭─\u001b[0m\u001b[95m───────────────────────────────────────────────────\u001b[0m\u001b[1;35m [Tool] \u001b[0m\u001b[95m────────────────────────────────────────────────────\u001b[0m\u001b[95m─╮\u001b[0m\n",
              "\u001b[95m│\u001b[0m Response from \u001b[1;35mrun_python_code\u001b[0m:                                                                                  \u001b[95m│\u001b[0m\n",
              "\u001b[95m│\u001b[0m No output.                                                                                                      \u001b[95m│\u001b[0m\n",
              "\u001b[95m╰─────────────────────────────────────────────────────────────────────────────────────────────────────────────────╯\u001b[0m\n"
            ]
          },
          "metadata": {},
          "output_type": "display_data"
        },
        {
          "data": {
            "text/html": [
              "<pre style=\"white-space:pre;overflow-x:auto;line-height:normal;font-family:Menlo,'DejaVu Sans Mono',consolas,'Courier New',monospace\"><span style=\"color: #000080; text-decoration-color: #000080\">╭──────────────────────────────────────────────────</span><span style=\"color: #000080; text-decoration-color: #000080; font-weight: bold\"> [Assistant] </span><span style=\"color: #000080; text-decoration-color: #000080\">──────────────────────────────────────────────────╮</span>\n",
              "<span style=\"color: #000080; text-decoration-color: #000080\">│</span> Tool Call to <span style=\"color: #800080; text-decoration-color: #800080; font-weight: bold\">run_python_code</span>:                                                                                   <span style=\"color: #000080; text-decoration-color: #000080\">│</span>\n",
              "<span style=\"color: #000080; text-decoration-color: #000080\">│</span> {\"code\":\"from Bio.Seq import Seq\\n\\n# Create a sequence object\\nsequence = Seq('ATGCATAGGTAG')\\n\\n# Translate   <span style=\"color: #000080; text-decoration-color: #000080\">│</span>\n",
              "<span style=\"color: #000080; text-decoration-color: #000080\">│</span> the sequence\\ntranslated_sequence = sequence.translate()\\n\\n# Output the translated                             <span style=\"color: #000080; text-decoration-color: #000080\">│</span>\n",
              "<span style=\"color: #000080; text-decoration-color: #000080\">│</span> sequence\\nstr(translated_sequence)\"}                                                                            <span style=\"color: #000080; text-decoration-color: #000080\">│</span>\n",
              "<span style=\"color: #000080; text-decoration-color: #000080\">╰─────────────────────────────────────────────────────────────────────────────────────────────────────────────────╯</span>\n",
              "</pre>\n"
            ],
            "text/plain": [
              "\u001b[34m╭─\u001b[0m\u001b[34m─────────────────────────────────────────────────\u001b[0m\u001b[1;34m [Assistant] \u001b[0m\u001b[34m─────────────────────────────────────────────────\u001b[0m\u001b[34m─╮\u001b[0m\n",
              "\u001b[34m│\u001b[0m Tool Call to \u001b[1;35mrun_python_code\u001b[0m:                                                                                   \u001b[34m│\u001b[0m\n",
              "\u001b[34m│\u001b[0m {\"code\":\"from Bio.Seq import Seq\\n\\n# Create a sequence object\\nsequence = Seq('ATGCATAGGTAG')\\n\\n# Translate   \u001b[34m│\u001b[0m\n",
              "\u001b[34m│\u001b[0m the sequence\\ntranslated_sequence = sequence.translate()\\n\\n# Output the translated                             \u001b[34m│\u001b[0m\n",
              "\u001b[34m│\u001b[0m sequence\\nstr(translated_sequence)\"}                                                                            \u001b[34m│\u001b[0m\n",
              "\u001b[34m╰─────────────────────────────────────────────────────────────────────────────────────────────────────────────────╯\u001b[0m\n"
            ]
          },
          "metadata": {},
          "output_type": "display_data"
        },
        {
          "data": {
            "text/html": [
              "<pre style=\"white-space:pre;overflow-x:auto;line-height:normal;font-family:Menlo,'DejaVu Sans Mono',consolas,'Courier New',monospace\"><span style=\"color: #ff00ff; text-decoration-color: #ff00ff\">╭────────────────────────────────────────────────────</span><span style=\"color: #800080; text-decoration-color: #800080; font-weight: bold\"> [Tool] </span><span style=\"color: #ff00ff; text-decoration-color: #ff00ff\">─────────────────────────────────────────────────────╮</span>\n",
              "<span style=\"color: #ff00ff; text-decoration-color: #ff00ff\">│</span> Response from <span style=\"color: #800080; text-decoration-color: #800080; font-weight: bold\">run_python_code</span>:                                                                                  <span style=\"color: #ff00ff; text-decoration-color: #ff00ff\">│</span>\n",
              "<span style=\"color: #ff00ff; text-decoration-color: #ff00ff\">│</span> No output.                                                                                                      <span style=\"color: #ff00ff; text-decoration-color: #ff00ff\">│</span>\n",
              "<span style=\"color: #ff00ff; text-decoration-color: #ff00ff\">╰─────────────────────────────────────────────────────────────────────────────────────────────────────────────────╯</span>\n",
              "</pre>\n"
            ],
            "text/plain": [
              "\u001b[95m╭─\u001b[0m\u001b[95m───────────────────────────────────────────────────\u001b[0m\u001b[1;35m [Tool] \u001b[0m\u001b[95m────────────────────────────────────────────────────\u001b[0m\u001b[95m─╮\u001b[0m\n",
              "\u001b[95m│\u001b[0m Response from \u001b[1;35mrun_python_code\u001b[0m:                                                                                  \u001b[95m│\u001b[0m\n",
              "\u001b[95m│\u001b[0m No output.                                                                                                      \u001b[95m│\u001b[0m\n",
              "\u001b[95m╰─────────────────────────────────────────────────────────────────────────────────────────────────────────────────╯\u001b[0m\n"
            ]
          },
          "metadata": {},
          "output_type": "display_data"
        },
        {
          "data": {
            "text/html": [
              "<pre style=\"white-space:pre;overflow-x:auto;line-height:normal;font-family:Menlo,'DejaVu Sans Mono',consolas,'Courier New',monospace\"><span style=\"color: #000080; text-decoration-color: #000080\">╭──────────────────────────────────────────────────</span><span style=\"color: #000080; text-decoration-color: #000080; font-weight: bold\"> [Assistant] </span><span style=\"color: #000080; text-decoration-color: #000080\">──────────────────────────────────────────────────╮</span>\n",
              "<span style=\"color: #000080; text-decoration-color: #000080\">│</span> Tool Call to <span style=\"color: #800080; text-decoration-color: #800080; font-weight: bold\">run_python_code</span>:                                                                                   <span style=\"color: #000080; text-decoration-color: #000080\">│</span>\n",
              "<span style=\"color: #000080; text-decoration-color: #000080\">│</span> {\"code\":\"from Bio.Seq import Seq\\n\\n# Create a sequence object\\nsequence = Seq('ATGCATAGGTAG')\\n\\n# Check the   <span style=\"color: #000080; text-decoration-color: #000080\">│</span>\n",
              "<span style=\"color: #000080; text-decoration-color: #000080\">│</span> length of the sequence\\nlength = len(sequence)\\n\\n# Translate the sequence\\ntranslated_sequence =               <span style=\"color: #000080; text-decoration-color: #000080\">│</span>\n",
              "<span style=\"color: #000080; text-decoration-color: #000080\">│</span> sequence.translate()\\n\\nlength, str(translated_sequence)\"}                                                      <span style=\"color: #000080; text-decoration-color: #000080\">│</span>\n",
              "<span style=\"color: #000080; text-decoration-color: #000080\">╰─────────────────────────────────────────────────────────────────────────────────────────────────────────────────╯</span>\n",
              "</pre>\n"
            ],
            "text/plain": [
              "\u001b[34m╭─\u001b[0m\u001b[34m─────────────────────────────────────────────────\u001b[0m\u001b[1;34m [Assistant] \u001b[0m\u001b[34m─────────────────────────────────────────────────\u001b[0m\u001b[34m─╮\u001b[0m\n",
              "\u001b[34m│\u001b[0m Tool Call to \u001b[1;35mrun_python_code\u001b[0m:                                                                                   \u001b[34m│\u001b[0m\n",
              "\u001b[34m│\u001b[0m {\"code\":\"from Bio.Seq import Seq\\n\\n# Create a sequence object\\nsequence = Seq('ATGCATAGGTAG')\\n\\n# Check the   \u001b[34m│\u001b[0m\n",
              "\u001b[34m│\u001b[0m length of the sequence\\nlength = len(sequence)\\n\\n# Translate the sequence\\ntranslated_sequence =               \u001b[34m│\u001b[0m\n",
              "\u001b[34m│\u001b[0m sequence.translate()\\n\\nlength, str(translated_sequence)\"}                                                      \u001b[34m│\u001b[0m\n",
              "\u001b[34m╰─────────────────────────────────────────────────────────────────────────────────────────────────────────────────╯\u001b[0m\n"
            ]
          },
          "metadata": {},
          "output_type": "display_data"
        },
        {
          "data": {
            "text/html": [
              "<pre style=\"white-space:pre;overflow-x:auto;line-height:normal;font-family:Menlo,'DejaVu Sans Mono',consolas,'Courier New',monospace\"><span style=\"color: #ff00ff; text-decoration-color: #ff00ff\">╭────────────────────────────────────────────────────</span><span style=\"color: #800080; text-decoration-color: #800080; font-weight: bold\"> [Tool] </span><span style=\"color: #ff00ff; text-decoration-color: #ff00ff\">─────────────────────────────────────────────────────╮</span>\n",
              "<span style=\"color: #ff00ff; text-decoration-color: #ff00ff\">│</span> Response from <span style=\"color: #800080; text-decoration-color: #800080; font-weight: bold\">run_python_code</span>:                                                                                  <span style=\"color: #ff00ff; text-decoration-color: #ff00ff\">│</span>\n",
              "<span style=\"color: #ff00ff; text-decoration-color: #ff00ff\">│</span> No output.                                                                                                      <span style=\"color: #ff00ff; text-decoration-color: #ff00ff\">│</span>\n",
              "<span style=\"color: #ff00ff; text-decoration-color: #ff00ff\">╰─────────────────────────────────────────────────────────────────────────────────────────────────────────────────╯</span>\n",
              "</pre>\n"
            ],
            "text/plain": [
              "\u001b[95m╭─\u001b[0m\u001b[95m───────────────────────────────────────────────────\u001b[0m\u001b[1;35m [Tool] \u001b[0m\u001b[95m────────────────────────────────────────────────────\u001b[0m\u001b[95m─╮\u001b[0m\n",
              "\u001b[95m│\u001b[0m Response from \u001b[1;35mrun_python_code\u001b[0m:                                                                                  \u001b[95m│\u001b[0m\n",
              "\u001b[95m│\u001b[0m No output.                                                                                                      \u001b[95m│\u001b[0m\n",
              "\u001b[95m╰─────────────────────────────────────────────────────────────────────────────────────────────────────────────────╯\u001b[0m\n"
            ]
          },
          "metadata": {},
          "output_type": "display_data"
        },
        {
          "data": {
            "text/html": [
              "<pre style=\"white-space:pre;overflow-x:auto;line-height:normal;font-family:Menlo,'DejaVu Sans Mono',consolas,'Courier New',monospace\"><span style=\"color: #0000ff; text-decoration-color: #0000ff\">╭──────────────────────────────────────────────────</span><span style=\"color: #000080; text-decoration-color: #000080; font-weight: bold\"> [Assistant] </span><span style=\"color: #0000ff; text-decoration-color: #0000ff\">──────────────────────────────────────────────────╮</span>\n",
              "<span style=\"color: #0000ff; text-decoration-color: #0000ff\">│</span> It seems that the code execution is not returning any output. However, I can explain how the translation works. <span style=\"color: #0000ff; text-decoration-color: #0000ff\">│</span>\n",
              "<span style=\"color: #0000ff; text-decoration-color: #0000ff\">│</span>                                                                                                                 <span style=\"color: #0000ff; text-decoration-color: #0000ff\">│</span>\n",
              "<span style=\"color: #0000ff; text-decoration-color: #0000ff\">│</span> The sequence \"ATGCATAGGTAG\" is a DNA sequence. When translated, it converts the nucleotide sequence into an     <span style=\"color: #0000ff; text-decoration-color: #0000ff\">│</span>\n",
              "<span style=\"color: #0000ff; text-decoration-color: #0000ff\">│</span> amino acid sequence based on the genetic code. The translation process requires the sequence to be in multiples <span style=\"color: #0000ff; text-decoration-color: #0000ff\">│</span>\n",
              "<span style=\"color: #0000ff; text-decoration-color: #0000ff\">│</span> of three (codons).                                                                                              <span style=\"color: #0000ff; text-decoration-color: #0000ff\">│</span>\n",
              "<span style=\"color: #0000ff; text-decoration-color: #0000ff\">│</span>                                                                                                                 <span style=\"color: #0000ff; text-decoration-color: #0000ff\">│</span>\n",
              "<span style=\"color: #0000ff; text-decoration-color: #0000ff\">│</span> 1. **Length Check**: The sequence length is 12, which is a multiple of 3, so it should be translatable.         <span style=\"color: #0000ff; text-decoration-color: #0000ff\">│</span>\n",
              "<span style=\"color: #0000ff; text-decoration-color: #0000ff\">│</span> 2. **Translation**: The translation of the sequence will yield a corresponding amino acid sequence.             <span style=\"color: #0000ff; text-decoration-color: #0000ff\">│</span>\n",
              "<span style=\"color: #0000ff; text-decoration-color: #0000ff\">│</span>                                                                                                                 <span style=\"color: #0000ff; text-decoration-color: #0000ff\">│</span>\n",
              "<span style=\"color: #0000ff; text-decoration-color: #0000ff\">│</span> If you have access to a Python environment with Biopython installed, you can run the following code:            <span style=\"color: #0000ff; text-decoration-color: #0000ff\">│</span>\n",
              "<span style=\"color: #0000ff; text-decoration-color: #0000ff\">│</span>                                                                                                                 <span style=\"color: #0000ff; text-decoration-color: #0000ff\">│</span>\n",
              "<span style=\"color: #0000ff; text-decoration-color: #0000ff\">│</span> ```python                                                                                                       <span style=\"color: #0000ff; text-decoration-color: #0000ff\">│</span>\n",
              "<span style=\"color: #0000ff; text-decoration-color: #0000ff\">│</span> from Bio.Seq import Seq                                                                                         <span style=\"color: #0000ff; text-decoration-color: #0000ff\">│</span>\n",
              "<span style=\"color: #0000ff; text-decoration-color: #0000ff\">│</span>                                                                                                                 <span style=\"color: #0000ff; text-decoration-color: #0000ff\">│</span>\n",
              "<span style=\"color: #0000ff; text-decoration-color: #0000ff\">│</span> # Create a sequence object                                                                                      <span style=\"color: #0000ff; text-decoration-color: #0000ff\">│</span>\n",
              "<span style=\"color: #0000ff; text-decoration-color: #0000ff\">│</span> sequence = Seq('ATGCATAGGTAG')                                                                                  <span style=\"color: #0000ff; text-decoration-color: #0000ff\">│</span>\n",
              "<span style=\"color: #0000ff; text-decoration-color: #0000ff\">│</span>                                                                                                                 <span style=\"color: #0000ff; text-decoration-color: #0000ff\">│</span>\n",
              "<span style=\"color: #0000ff; text-decoration-color: #0000ff\">│</span> # Translate the sequence                                                                                        <span style=\"color: #0000ff; text-decoration-color: #0000ff\">│</span>\n",
              "<span style=\"color: #0000ff; text-decoration-color: #0000ff\">│</span> translated_sequence = sequence.translate()                                                                      <span style=\"color: #0000ff; text-decoration-color: #0000ff\">│</span>\n",
              "<span style=\"color: #0000ff; text-decoration-color: #0000ff\">│</span>                                                                                                                 <span style=\"color: #0000ff; text-decoration-color: #0000ff\">│</span>\n",
              "<span style=\"color: #0000ff; text-decoration-color: #0000ff\">│</span> # Output the translated sequence                                                                                <span style=\"color: #0000ff; text-decoration-color: #0000ff\">│</span>\n",
              "<span style=\"color: #0000ff; text-decoration-color: #0000ff\">│</span> print(translated_sequence)                                                                                      <span style=\"color: #0000ff; text-decoration-color: #0000ff\">│</span>\n",
              "<span style=\"color: #0000ff; text-decoration-color: #0000ff\">│</span> ```                                                                                                             <span style=\"color: #0000ff; text-decoration-color: #0000ff\">│</span>\n",
              "<span style=\"color: #0000ff; text-decoration-color: #0000ff\">│</span>                                                                                                                 <span style=\"color: #0000ff; text-decoration-color: #0000ff\">│</span>\n",
              "<span style=\"color: #0000ff; text-decoration-color: #0000ff\">│</span> This should give you the translated amino acid sequence. If you need further assistance or want me to try       <span style=\"color: #0000ff; text-decoration-color: #0000ff\">│</span>\n",
              "<span style=\"color: #0000ff; text-decoration-color: #0000ff\">│</span> something else, please let me know!                                                                             <span style=\"color: #0000ff; text-decoration-color: #0000ff\">│</span>\n",
              "<span style=\"color: #0000ff; text-decoration-color: #0000ff\">╰─────────────────────────────────────────────────────────────────────────────────────────────────────────────────╯</span>\n",
              "</pre>\n"
            ],
            "text/plain": [
              "\u001b[94m╭─\u001b[0m\u001b[94m─────────────────────────────────────────────────\u001b[0m\u001b[1;34m [Assistant] \u001b[0m\u001b[94m─────────────────────────────────────────────────\u001b[0m\u001b[94m─╮\u001b[0m\n",
              "\u001b[94m│\u001b[0m It seems that the code execution is not returning any output. However, I can explain how the translation works. \u001b[94m│\u001b[0m\n",
              "\u001b[94m│\u001b[0m                                                                                                                 \u001b[94m│\u001b[0m\n",
              "\u001b[94m│\u001b[0m The sequence \"ATGCATAGGTAG\" is a DNA sequence. When translated, it converts the nucleotide sequence into an     \u001b[94m│\u001b[0m\n",
              "\u001b[94m│\u001b[0m amino acid sequence based on the genetic code. The translation process requires the sequence to be in multiples \u001b[94m│\u001b[0m\n",
              "\u001b[94m│\u001b[0m of three (codons).                                                                                              \u001b[94m│\u001b[0m\n",
              "\u001b[94m│\u001b[0m                                                                                                                 \u001b[94m│\u001b[0m\n",
              "\u001b[94m│\u001b[0m 1. **Length Check**: The sequence length is 12, which is a multiple of 3, so it should be translatable.         \u001b[94m│\u001b[0m\n",
              "\u001b[94m│\u001b[0m 2. **Translation**: The translation of the sequence will yield a corresponding amino acid sequence.             \u001b[94m│\u001b[0m\n",
              "\u001b[94m│\u001b[0m                                                                                                                 \u001b[94m│\u001b[0m\n",
              "\u001b[94m│\u001b[0m If you have access to a Python environment with Biopython installed, you can run the following code:            \u001b[94m│\u001b[0m\n",
              "\u001b[94m│\u001b[0m                                                                                                                 \u001b[94m│\u001b[0m\n",
              "\u001b[94m│\u001b[0m ```python                                                                                                       \u001b[94m│\u001b[0m\n",
              "\u001b[94m│\u001b[0m from Bio.Seq import Seq                                                                                         \u001b[94m│\u001b[0m\n",
              "\u001b[94m│\u001b[0m                                                                                                                 \u001b[94m│\u001b[0m\n",
              "\u001b[94m│\u001b[0m # Create a sequence object                                                                                      \u001b[94m│\u001b[0m\n",
              "\u001b[94m│\u001b[0m sequence = Seq('ATGCATAGGTAG')                                                                                  \u001b[94m│\u001b[0m\n",
              "\u001b[94m│\u001b[0m                                                                                                                 \u001b[94m│\u001b[0m\n",
              "\u001b[94m│\u001b[0m # Translate the sequence                                                                                        \u001b[94m│\u001b[0m\n",
              "\u001b[94m│\u001b[0m translated_sequence = sequence.translate()                                                                      \u001b[94m│\u001b[0m\n",
              "\u001b[94m│\u001b[0m                                                                                                                 \u001b[94m│\u001b[0m\n",
              "\u001b[94m│\u001b[0m # Output the translated sequence                                                                                \u001b[94m│\u001b[0m\n",
              "\u001b[94m│\u001b[0m print(translated_sequence)                                                                                      \u001b[94m│\u001b[0m\n",
              "\u001b[94m│\u001b[0m ```                                                                                                             \u001b[94m│\u001b[0m\n",
              "\u001b[94m│\u001b[0m                                                                                                                 \u001b[94m│\u001b[0m\n",
              "\u001b[94m│\u001b[0m This should give you the translated amino acid sequence. If you need further assistance or want me to try       \u001b[94m│\u001b[0m\n",
              "\u001b[94m│\u001b[0m something else, please let me know!                                                                             \u001b[94m│\u001b[0m\n",
              "\u001b[94m╰─────────────────────────────────────────────────────────────────────────────────────────────────────────────────╯\u001b[0m\n"
            ]
          },
          "metadata": {},
          "output_type": "display_data"
        }
      ],
      "source": [
        "agent.query(\"translate ATGCATAGGTAG with biopython\")\n",
        "agent.memory.pretty_print_all_messages()"
      ]
    },
    {
      "cell_type": "code",
      "execution_count": null,
      "metadata": {
        "id": "rx9VtjBOgevZ"
      },
      "outputs": [],
      "source": []
    }
  ],
  "metadata": {
    "colab": {
      "include_colab_link": true,
      "provenance": []
    },
    "kernelspec": {
      "display_name": "Python 3",
      "name": "python3"
    },
    "language_info": {
      "codemirror_mode": {
        "name": "ipython",
        "version": 3
      },
      "file_extension": ".py",
      "mimetype": "text/x-python",
      "name": "python",
      "nbconvert_exporter": "python",
      "pygments_lexer": "ipython3",
      "version": "3.12.3"
    }
  },
  "nbformat": 4,
  "nbformat_minor": 0
}
