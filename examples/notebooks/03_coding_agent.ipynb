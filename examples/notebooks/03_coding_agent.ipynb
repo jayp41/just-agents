{
  "cells": [
    {
      "cell_type": "markdown",
      "metadata": {
        "id": "view-in-github",
        "colab_type": "text"
      },
      "source": [
        "<a href=\"https://colab.research.google.com/github/longevity-genie/just-agents/blob/main/examples/notebooks/03_coding_agent.ipynb\" target=\"_parent\"><img src=\"https://colab.research.google.com/assets/colab-badge.svg\" alt=\"Open In Colab\"/></a>"
      ]
    },
    {
      "cell_type": "markdown",
      "metadata": {
        "id": "xMh-QD4m8F7V"
      },
      "source": [
        "# Coding Just-Agents tutorial\n",
        "\n",
        "In this tutorial we will develop an LLM agent that can code with just-agents library."
      ]
    },
    {
      "cell_type": "markdown",
      "metadata": {
        "id": "I-pvhtr9ZW1C"
      },
      "source": [
        "It is the third tutorial in a series of tutorials, other ones are:\n",
        "1. Basic agents tutorial\n",
        "2. Database agent tutorial\n",
        "3. Coding agent tutorial  (THIS ONE)"
      ]
    },
    {
      "cell_type": "markdown",
      "metadata": {
        "id": "1-vnEKue7nD-"
      },
      "source": [
        "Here we will write an agent that can write code and install dependencies. The default just-agents code agent uses safe non-root docker sandboxes to isolate environment from the host. However, such approach will not work with google collab, so we will write a coding agent from scratch"
      ]
    },
    {
      "cell_type": "markdown",
      "metadata": {
        "id": "BT5jfOGxZb7j"
      },
      "source": [
        "Install just-agents library and provide API keys for Groq and OpenAi"
      ]
    },
    {
      "cell_type": "code",
      "execution_count": 11,
      "metadata": {
        "colab": {
          "base_uri": "https://localhost:8080/"
        },
        "collapsed": true,
        "id": "dGi8WOSQZe2s",
        "outputId": "5545e4c3-831f-41be-abaf-ef0384c7f232"
      },
      "outputs": [
        {
          "output_type": "stream",
          "name": "stdout",
          "text": [
            "Requirement already satisfied: litellm==1.67.4.post1 in /usr/local/lib/python3.11/dist-packages (1.67.4.post1)\n",
            "Requirement already satisfied: aiohttp in /usr/local/lib/python3.11/dist-packages (from litellm==1.67.4.post1) (3.11.15)\n",
            "Requirement already satisfied: click in /usr/local/lib/python3.11/dist-packages (from litellm==1.67.4.post1) (8.2.0)\n",
            "Requirement already satisfied: httpx>=0.23.0 in /usr/local/lib/python3.11/dist-packages (from litellm==1.67.4.post1) (0.28.1)\n",
            "Requirement already satisfied: importlib-metadata>=6.8.0 in /usr/local/lib/python3.11/dist-packages (from litellm==1.67.4.post1) (8.7.0)\n",
            "Requirement already satisfied: jinja2<4.0.0,>=3.1.2 in /usr/local/lib/python3.11/dist-packages (from litellm==1.67.4.post1) (3.1.6)\n",
            "Requirement already satisfied: jsonschema<5.0.0,>=4.22.0 in /usr/local/lib/python3.11/dist-packages (from litellm==1.67.4.post1) (4.23.0)\n",
            "Requirement already satisfied: openai>=1.68.2 in /usr/local/lib/python3.11/dist-packages (from litellm==1.67.4.post1) (1.78.1)\n",
            "Requirement already satisfied: pydantic<3.0.0,>=2.0.0 in /usr/local/lib/python3.11/dist-packages (from litellm==1.67.4.post1) (2.11.4)\n",
            "Requirement already satisfied: python-dotenv>=0.2.0 in /usr/local/lib/python3.11/dist-packages (from litellm==1.67.4.post1) (1.1.0)\n",
            "Requirement already satisfied: tiktoken>=0.7.0 in /usr/local/lib/python3.11/dist-packages (from litellm==1.67.4.post1) (0.9.0)\n",
            "Requirement already satisfied: tokenizers in /usr/local/lib/python3.11/dist-packages (from litellm==1.67.4.post1) (0.21.1)\n",
            "Requirement already satisfied: anyio in /usr/local/lib/python3.11/dist-packages (from httpx>=0.23.0->litellm==1.67.4.post1) (4.9.0)\n",
            "Requirement already satisfied: certifi in /usr/local/lib/python3.11/dist-packages (from httpx>=0.23.0->litellm==1.67.4.post1) (2025.4.26)\n",
            "Requirement already satisfied: httpcore==1.* in /usr/local/lib/python3.11/dist-packages (from httpx>=0.23.0->litellm==1.67.4.post1) (1.0.9)\n",
            "Requirement already satisfied: idna in /usr/local/lib/python3.11/dist-packages (from httpx>=0.23.0->litellm==1.67.4.post1) (3.10)\n",
            "Requirement already satisfied: h11>=0.16 in /usr/local/lib/python3.11/dist-packages (from httpcore==1.*->httpx>=0.23.0->litellm==1.67.4.post1) (0.16.0)\n",
            "Requirement already satisfied: zipp>=3.20 in /usr/local/lib/python3.11/dist-packages (from importlib-metadata>=6.8.0->litellm==1.67.4.post1) (3.21.0)\n",
            "Requirement already satisfied: MarkupSafe>=2.0 in /usr/local/lib/python3.11/dist-packages (from jinja2<4.0.0,>=3.1.2->litellm==1.67.4.post1) (3.0.2)\n",
            "Requirement already satisfied: attrs>=22.2.0 in /usr/local/lib/python3.11/dist-packages (from jsonschema<5.0.0,>=4.22.0->litellm==1.67.4.post1) (25.3.0)\n",
            "Requirement already satisfied: jsonschema-specifications>=2023.03.6 in /usr/local/lib/python3.11/dist-packages (from jsonschema<5.0.0,>=4.22.0->litellm==1.67.4.post1) (2025.4.1)\n",
            "Requirement already satisfied: referencing>=0.28.4 in /usr/local/lib/python3.11/dist-packages (from jsonschema<5.0.0,>=4.22.0->litellm==1.67.4.post1) (0.36.2)\n",
            "Requirement already satisfied: rpds-py>=0.7.1 in /usr/local/lib/python3.11/dist-packages (from jsonschema<5.0.0,>=4.22.0->litellm==1.67.4.post1) (0.24.0)\n",
            "Requirement already satisfied: distro<2,>=1.7.0 in /usr/local/lib/python3.11/dist-packages (from openai>=1.68.2->litellm==1.67.4.post1) (1.9.0)\n",
            "Requirement already satisfied: jiter<1,>=0.4.0 in /usr/local/lib/python3.11/dist-packages (from openai>=1.68.2->litellm==1.67.4.post1) (0.9.0)\n",
            "Requirement already satisfied: sniffio in /usr/local/lib/python3.11/dist-packages (from openai>=1.68.2->litellm==1.67.4.post1) (1.3.1)\n",
            "Requirement already satisfied: tqdm>4 in /usr/local/lib/python3.11/dist-packages (from openai>=1.68.2->litellm==1.67.4.post1) (4.67.1)\n",
            "Requirement already satisfied: typing-extensions<5,>=4.11 in /usr/local/lib/python3.11/dist-packages (from openai>=1.68.2->litellm==1.67.4.post1) (4.13.2)\n",
            "Requirement already satisfied: annotated-types>=0.6.0 in /usr/local/lib/python3.11/dist-packages (from pydantic<3.0.0,>=2.0.0->litellm==1.67.4.post1) (0.7.0)\n",
            "Requirement already satisfied: pydantic-core==2.33.2 in /usr/local/lib/python3.11/dist-packages (from pydantic<3.0.0,>=2.0.0->litellm==1.67.4.post1) (2.33.2)\n",
            "Requirement already satisfied: typing-inspection>=0.4.0 in /usr/local/lib/python3.11/dist-packages (from pydantic<3.0.0,>=2.0.0->litellm==1.67.4.post1) (0.4.0)\n",
            "Requirement already satisfied: regex>=2022.1.18 in /usr/local/lib/python3.11/dist-packages (from tiktoken>=0.7.0->litellm==1.67.4.post1) (2024.11.6)\n",
            "Requirement already satisfied: requests>=2.26.0 in /usr/local/lib/python3.11/dist-packages (from tiktoken>=0.7.0->litellm==1.67.4.post1) (2.32.3)\n",
            "Requirement already satisfied: aiohappyeyeballs>=2.3.0 in /usr/local/lib/python3.11/dist-packages (from aiohttp->litellm==1.67.4.post1) (2.6.1)\n",
            "Requirement already satisfied: aiosignal>=1.1.2 in /usr/local/lib/python3.11/dist-packages (from aiohttp->litellm==1.67.4.post1) (1.3.2)\n",
            "Requirement already satisfied: frozenlist>=1.1.1 in /usr/local/lib/python3.11/dist-packages (from aiohttp->litellm==1.67.4.post1) (1.6.0)\n",
            "Requirement already satisfied: multidict<7.0,>=4.5 in /usr/local/lib/python3.11/dist-packages (from aiohttp->litellm==1.67.4.post1) (6.4.3)\n",
            "Requirement already satisfied: propcache>=0.2.0 in /usr/local/lib/python3.11/dist-packages (from aiohttp->litellm==1.67.4.post1) (0.3.1)\n",
            "Requirement already satisfied: yarl<2.0,>=1.17.0 in /usr/local/lib/python3.11/dist-packages (from aiohttp->litellm==1.67.4.post1) (1.20.0)\n",
            "Requirement already satisfied: huggingface-hub<1.0,>=0.16.4 in /usr/local/lib/python3.11/dist-packages (from tokenizers->litellm==1.67.4.post1) (0.31.2)\n",
            "Requirement already satisfied: filelock in /usr/local/lib/python3.11/dist-packages (from huggingface-hub<1.0,>=0.16.4->tokenizers->litellm==1.67.4.post1) (3.18.0)\n",
            "Requirement already satisfied: fsspec>=2023.5.0 in /usr/local/lib/python3.11/dist-packages (from huggingface-hub<1.0,>=0.16.4->tokenizers->litellm==1.67.4.post1) (2025.3.2)\n",
            "Requirement already satisfied: packaging>=20.9 in /usr/local/lib/python3.11/dist-packages (from huggingface-hub<1.0,>=0.16.4->tokenizers->litellm==1.67.4.post1) (24.2)\n",
            "Requirement already satisfied: pyyaml>=5.1 in /usr/local/lib/python3.11/dist-packages (from huggingface-hub<1.0,>=0.16.4->tokenizers->litellm==1.67.4.post1) (6.0.2)\n",
            "Requirement already satisfied: charset-normalizer<4,>=2 in /usr/local/lib/python3.11/dist-packages (from requests>=2.26.0->tiktoken>=0.7.0->litellm==1.67.4.post1) (3.4.2)\n",
            "Requirement already satisfied: urllib3<3,>=1.21.1 in /usr/local/lib/python3.11/dist-packages (from requests>=2.26.0->tiktoken>=0.7.0->litellm==1.67.4.post1) (2.4.0)\n",
            "Requirement already satisfied: just-agents-core==0.7.2 in /usr/local/lib/python3.11/dist-packages (0.7.2)\n",
            "Requirement already satisfied: docstring_parser in /usr/local/lib/python3.11/dist-packages (from just-agents-core==0.7.2) (0.16)\n",
            "Requirement already satisfied: litellm>=1.67.2 in /usr/local/lib/python3.11/dist-packages (from just-agents-core==0.7.2) (1.67.4.post1)\n",
            "Requirement already satisfied: numpydoc in /usr/local/lib/python3.11/dist-packages (from just-agents-core==0.7.2) (1.8.0)\n",
            "Requirement already satisfied: pydantic<3.0.0,>=2.0.0 in /usr/local/lib/python3.11/dist-packages (from just-agents-core==0.7.2) (2.11.4)\n",
            "Requirement already satisfied: python-dotenv>=1.1.0 in /usr/local/lib/python3.11/dist-packages (from just-agents-core==0.7.2) (1.1.0)\n",
            "Requirement already satisfied: requests in /usr/local/lib/python3.11/dist-packages (from just-agents-core==0.7.2) (2.32.3)\n",
            "Requirement already satisfied: rich>=14.0.0 in /usr/local/lib/python3.11/dist-packages (from just-agents-core==0.7.2) (14.0.0)\n",
            "Requirement already satisfied: aiohttp in /usr/local/lib/python3.11/dist-packages (from litellm>=1.67.2->just-agents-core==0.7.2) (3.11.15)\n",
            "Requirement already satisfied: click in /usr/local/lib/python3.11/dist-packages (from litellm>=1.67.2->just-agents-core==0.7.2) (8.2.0)\n",
            "Requirement already satisfied: httpx>=0.23.0 in /usr/local/lib/python3.11/dist-packages (from litellm>=1.67.2->just-agents-core==0.7.2) (0.28.1)\n",
            "Requirement already satisfied: importlib-metadata>=6.8.0 in /usr/local/lib/python3.11/dist-packages (from litellm>=1.67.2->just-agents-core==0.7.2) (8.7.0)\n",
            "Requirement already satisfied: jinja2<4.0.0,>=3.1.2 in /usr/local/lib/python3.11/dist-packages (from litellm>=1.67.2->just-agents-core==0.7.2) (3.1.6)\n",
            "Requirement already satisfied: jsonschema<5.0.0,>=4.22.0 in /usr/local/lib/python3.11/dist-packages (from litellm>=1.67.2->just-agents-core==0.7.2) (4.23.0)\n",
            "Requirement already satisfied: openai>=1.68.2 in /usr/local/lib/python3.11/dist-packages (from litellm>=1.67.2->just-agents-core==0.7.2) (1.78.1)\n",
            "Requirement already satisfied: tiktoken>=0.7.0 in /usr/local/lib/python3.11/dist-packages (from litellm>=1.67.2->just-agents-core==0.7.2) (0.9.0)\n",
            "Requirement already satisfied: tokenizers in /usr/local/lib/python3.11/dist-packages (from litellm>=1.67.2->just-agents-core==0.7.2) (0.21.1)\n",
            "Requirement already satisfied: annotated-types>=0.6.0 in /usr/local/lib/python3.11/dist-packages (from pydantic<3.0.0,>=2.0.0->just-agents-core==0.7.2) (0.7.0)\n",
            "Requirement already satisfied: pydantic-core==2.33.2 in /usr/local/lib/python3.11/dist-packages (from pydantic<3.0.0,>=2.0.0->just-agents-core==0.7.2) (2.33.2)\n",
            "Requirement already satisfied: typing-extensions>=4.12.2 in /usr/local/lib/python3.11/dist-packages (from pydantic<3.0.0,>=2.0.0->just-agents-core==0.7.2) (4.13.2)\n",
            "Requirement already satisfied: typing-inspection>=0.4.0 in /usr/local/lib/python3.11/dist-packages (from pydantic<3.0.0,>=2.0.0->just-agents-core==0.7.2) (0.4.0)\n",
            "Requirement already satisfied: markdown-it-py>=2.2.0 in /usr/local/lib/python3.11/dist-packages (from rich>=14.0.0->just-agents-core==0.7.2) (3.0.0)\n",
            "Requirement already satisfied: pygments<3.0.0,>=2.13.0 in /usr/local/lib/python3.11/dist-packages (from rich>=14.0.0->just-agents-core==0.7.2) (2.19.1)\n",
            "Requirement already satisfied: sphinx>=6 in /usr/local/lib/python3.11/dist-packages (from numpydoc->just-agents-core==0.7.2) (8.2.3)\n",
            "Requirement already satisfied: tabulate>=0.8.10 in /usr/local/lib/python3.11/dist-packages (from numpydoc->just-agents-core==0.7.2) (0.9.0)\n",
            "Requirement already satisfied: charset-normalizer<4,>=2 in /usr/local/lib/python3.11/dist-packages (from requests->just-agents-core==0.7.2) (3.4.2)\n",
            "Requirement already satisfied: idna<4,>=2.5 in /usr/local/lib/python3.11/dist-packages (from requests->just-agents-core==0.7.2) (3.10)\n",
            "Requirement already satisfied: urllib3<3,>=1.21.1 in /usr/local/lib/python3.11/dist-packages (from requests->just-agents-core==0.7.2) (2.4.0)\n",
            "Requirement already satisfied: certifi>=2017.4.17 in /usr/local/lib/python3.11/dist-packages (from requests->just-agents-core==0.7.2) (2025.4.26)\n",
            "Requirement already satisfied: anyio in /usr/local/lib/python3.11/dist-packages (from httpx>=0.23.0->litellm>=1.67.2->just-agents-core==0.7.2) (4.9.0)\n",
            "Requirement already satisfied: httpcore==1.* in /usr/local/lib/python3.11/dist-packages (from httpx>=0.23.0->litellm>=1.67.2->just-agents-core==0.7.2) (1.0.9)\n",
            "Requirement already satisfied: h11>=0.16 in /usr/local/lib/python3.11/dist-packages (from httpcore==1.*->httpx>=0.23.0->litellm>=1.67.2->just-agents-core==0.7.2) (0.16.0)\n",
            "Requirement already satisfied: zipp>=3.20 in /usr/local/lib/python3.11/dist-packages (from importlib-metadata>=6.8.0->litellm>=1.67.2->just-agents-core==0.7.2) (3.21.0)\n",
            "Requirement already satisfied: MarkupSafe>=2.0 in /usr/local/lib/python3.11/dist-packages (from jinja2<4.0.0,>=3.1.2->litellm>=1.67.2->just-agents-core==0.7.2) (3.0.2)\n",
            "Requirement already satisfied: attrs>=22.2.0 in /usr/local/lib/python3.11/dist-packages (from jsonschema<5.0.0,>=4.22.0->litellm>=1.67.2->just-agents-core==0.7.2) (25.3.0)\n",
            "Requirement already satisfied: jsonschema-specifications>=2023.03.6 in /usr/local/lib/python3.11/dist-packages (from jsonschema<5.0.0,>=4.22.0->litellm>=1.67.2->just-agents-core==0.7.2) (2025.4.1)\n",
            "Requirement already satisfied: referencing>=0.28.4 in /usr/local/lib/python3.11/dist-packages (from jsonschema<5.0.0,>=4.22.0->litellm>=1.67.2->just-agents-core==0.7.2) (0.36.2)\n",
            "Requirement already satisfied: rpds-py>=0.7.1 in /usr/local/lib/python3.11/dist-packages (from jsonschema<5.0.0,>=4.22.0->litellm>=1.67.2->just-agents-core==0.7.2) (0.24.0)\n",
            "Requirement already satisfied: mdurl~=0.1 in /usr/local/lib/python3.11/dist-packages (from markdown-it-py>=2.2.0->rich>=14.0.0->just-agents-core==0.7.2) (0.1.2)\n",
            "Requirement already satisfied: distro<2,>=1.7.0 in /usr/local/lib/python3.11/dist-packages (from openai>=1.68.2->litellm>=1.67.2->just-agents-core==0.7.2) (1.9.0)\n",
            "Requirement already satisfied: jiter<1,>=0.4.0 in /usr/local/lib/python3.11/dist-packages (from openai>=1.68.2->litellm>=1.67.2->just-agents-core==0.7.2) (0.9.0)\n",
            "Requirement already satisfied: sniffio in /usr/local/lib/python3.11/dist-packages (from openai>=1.68.2->litellm>=1.67.2->just-agents-core==0.7.2) (1.3.1)\n",
            "Requirement already satisfied: tqdm>4 in /usr/local/lib/python3.11/dist-packages (from openai>=1.68.2->litellm>=1.67.2->just-agents-core==0.7.2) (4.67.1)\n",
            "Requirement already satisfied: sphinxcontrib-applehelp>=1.0.7 in /usr/local/lib/python3.11/dist-packages (from sphinx>=6->numpydoc->just-agents-core==0.7.2) (2.0.0)\n",
            "Requirement already satisfied: sphinxcontrib-devhelp>=1.0.6 in /usr/local/lib/python3.11/dist-packages (from sphinx>=6->numpydoc->just-agents-core==0.7.2) (2.0.0)\n",
            "Requirement already satisfied: sphinxcontrib-htmlhelp>=2.0.6 in /usr/local/lib/python3.11/dist-packages (from sphinx>=6->numpydoc->just-agents-core==0.7.2) (2.1.0)\n",
            "Requirement already satisfied: sphinxcontrib-jsmath>=1.0.1 in /usr/local/lib/python3.11/dist-packages (from sphinx>=6->numpydoc->just-agents-core==0.7.2) (1.0.1)\n",
            "Requirement already satisfied: sphinxcontrib-qthelp>=1.0.6 in /usr/local/lib/python3.11/dist-packages (from sphinx>=6->numpydoc->just-agents-core==0.7.2) (2.0.0)\n",
            "Requirement already satisfied: sphinxcontrib-serializinghtml>=1.1.9 in /usr/local/lib/python3.11/dist-packages (from sphinx>=6->numpydoc->just-agents-core==0.7.2) (2.0.0)\n",
            "Requirement already satisfied: docutils<0.22,>=0.20 in /usr/local/lib/python3.11/dist-packages (from sphinx>=6->numpydoc->just-agents-core==0.7.2) (0.21.2)\n",
            "Requirement already satisfied: snowballstemmer>=2.2 in /usr/local/lib/python3.11/dist-packages (from sphinx>=6->numpydoc->just-agents-core==0.7.2) (3.0.1)\n",
            "Requirement already satisfied: babel>=2.13 in /usr/local/lib/python3.11/dist-packages (from sphinx>=6->numpydoc->just-agents-core==0.7.2) (2.17.0)\n",
            "Requirement already satisfied: alabaster>=0.7.14 in /usr/local/lib/python3.11/dist-packages (from sphinx>=6->numpydoc->just-agents-core==0.7.2) (1.0.0)\n",
            "Requirement already satisfied: imagesize>=1.3 in /usr/local/lib/python3.11/dist-packages (from sphinx>=6->numpydoc->just-agents-core==0.7.2) (1.4.1)\n",
            "Requirement already satisfied: roman-numerals-py>=1.0.0 in /usr/local/lib/python3.11/dist-packages (from sphinx>=6->numpydoc->just-agents-core==0.7.2) (3.1.0)\n",
            "Requirement already satisfied: packaging>=23.0 in /usr/local/lib/python3.11/dist-packages (from sphinx>=6->numpydoc->just-agents-core==0.7.2) (24.2)\n",
            "Requirement already satisfied: regex>=2022.1.18 in /usr/local/lib/python3.11/dist-packages (from tiktoken>=0.7.0->litellm>=1.67.2->just-agents-core==0.7.2) (2024.11.6)\n",
            "Requirement already satisfied: aiohappyeyeballs>=2.3.0 in /usr/local/lib/python3.11/dist-packages (from aiohttp->litellm>=1.67.2->just-agents-core==0.7.2) (2.6.1)\n",
            "Requirement already satisfied: aiosignal>=1.1.2 in /usr/local/lib/python3.11/dist-packages (from aiohttp->litellm>=1.67.2->just-agents-core==0.7.2) (1.3.2)\n",
            "Requirement already satisfied: frozenlist>=1.1.1 in /usr/local/lib/python3.11/dist-packages (from aiohttp->litellm>=1.67.2->just-agents-core==0.7.2) (1.6.0)\n",
            "Requirement already satisfied: multidict<7.0,>=4.5 in /usr/local/lib/python3.11/dist-packages (from aiohttp->litellm>=1.67.2->just-agents-core==0.7.2) (6.4.3)\n",
            "Requirement already satisfied: propcache>=0.2.0 in /usr/local/lib/python3.11/dist-packages (from aiohttp->litellm>=1.67.2->just-agents-core==0.7.2) (0.3.1)\n",
            "Requirement already satisfied: yarl<2.0,>=1.17.0 in /usr/local/lib/python3.11/dist-packages (from aiohttp->litellm>=1.67.2->just-agents-core==0.7.2) (1.20.0)\n",
            "Requirement already satisfied: huggingface-hub<1.0,>=0.16.4 in /usr/local/lib/python3.11/dist-packages (from tokenizers->litellm>=1.67.2->just-agents-core==0.7.2) (0.31.2)\n",
            "Requirement already satisfied: filelock in /usr/local/lib/python3.11/dist-packages (from huggingface-hub<1.0,>=0.16.4->tokenizers->litellm>=1.67.2->just-agents-core==0.7.2) (3.18.0)\n",
            "Requirement already satisfied: fsspec>=2023.5.0 in /usr/local/lib/python3.11/dist-packages (from huggingface-hub<1.0,>=0.16.4->tokenizers->litellm>=1.67.2->just-agents-core==0.7.2) (2025.3.2)\n",
            "Requirement already satisfied: pyyaml>=5.1 in /usr/local/lib/python3.11/dist-packages (from huggingface-hub<1.0,>=0.16.4->tokenizers->litellm>=1.67.2->just-agents-core==0.7.2) (6.0.2)\n",
            "Requirement already satisfied: just-agents-examples==0.7.2 in /usr/local/lib/python3.11/dist-packages (0.7.2)\n",
            "Requirement already satisfied: docker>=7.1.0 in /usr/local/lib/python3.11/dist-packages (from just-agents-examples==0.7.2) (7.1.0)\n",
            "Requirement already satisfied: just-agents-coding in /usr/local/lib/python3.11/dist-packages (from just-agents-examples==0.7.2) (0.7.3)\n",
            "Requirement already satisfied: just-agents-router in /usr/local/lib/python3.11/dist-packages (from just-agents-examples==0.7.2) (0.7.3)\n",
            "Requirement already satisfied: just-agents-tools in /usr/local/lib/python3.11/dist-packages (from just-agents-examples==0.7.2) (0.7.3)\n",
            "Requirement already satisfied: just-agents-web in /usr/local/lib/python3.11/dist-packages (from just-agents-examples==0.7.2) (0.7.3)\n",
            "Requirement already satisfied: requests>=2.26.0 in /usr/local/lib/python3.11/dist-packages (from docker>=7.1.0->just-agents-examples==0.7.2) (2.32.3)\n",
            "Requirement already satisfied: urllib3>=1.26.0 in /usr/local/lib/python3.11/dist-packages (from docker>=7.1.0->just-agents-examples==0.7.2) (2.4.0)\n",
            "Requirement already satisfied: just-agents-core in /usr/local/lib/python3.11/dist-packages (from just-agents-coding->just-agents-examples==0.7.2) (0.7.2)\n",
            "Requirement already satisfied: llm-sandbox>=0.2.4 in /usr/local/lib/python3.11/dist-packages (from llm-sandbox[podman]>=0.2.4->just-agents-coding->just-agents-examples==0.7.2) (0.2.4)\n",
            "Requirement already satisfied: semanticscholar>=0.10.0 in /usr/local/lib/python3.11/dist-packages (from just-agents-tools->just-agents-examples==0.7.2) (0.10.0)\n",
            "Requirement already satisfied: aiofiles>=24.1.0 in /usr/local/lib/python3.11/dist-packages (from just-agents-web->just-agents-examples==0.7.2) (24.1.0)\n",
            "Requirement already satisfied: coolname>=2.2.0 in /usr/local/lib/python3.11/dist-packages (from just-agents-web->just-agents-examples==0.7.2) (2.2.0)\n",
            "Requirement already satisfied: fastapi>=0.115.12 in /usr/local/lib/python3.11/dist-packages (from just-agents-web->just-agents-examples==0.7.2) (0.115.12)\n",
            "Requirement already satisfied: fastmcp>=2.2.10 in /usr/local/lib/python3.11/dist-packages (from just-agents-web->just-agents-examples==0.7.2) (2.3.5)\n",
            "Requirement already satisfied: pycomfort>=0.0.18 in /usr/local/lib/python3.11/dist-packages (from just-agents-web->just-agents-examples==0.7.2) (0.0.18)\n",
            "Requirement already satisfied: python-dotenv>=1.1.0 in /usr/local/lib/python3.11/dist-packages (from just-agents-web->just-agents-examples==0.7.2) (1.1.0)\n",
            "Requirement already satisfied: uvicorn>=0.34.0 in /usr/local/lib/python3.11/dist-packages (from just-agents-web->just-agents-examples==0.7.2) (0.34.2)\n",
            "Requirement already satisfied: starlette<0.47.0,>=0.40.0 in /usr/local/lib/python3.11/dist-packages (from fastapi>=0.115.12->just-agents-web->just-agents-examples==0.7.2) (0.46.2)\n",
            "Requirement already satisfied: pydantic!=1.8,!=1.8.1,!=2.0.0,!=2.0.1,!=2.1.0,<3.0.0,>=1.7.4 in /usr/local/lib/python3.11/dist-packages (from fastapi>=0.115.12->just-agents-web->just-agents-examples==0.7.2) (2.11.4)\n",
            "Requirement already satisfied: typing-extensions>=4.8.0 in /usr/local/lib/python3.11/dist-packages (from fastapi>=0.115.12->just-agents-web->just-agents-examples==0.7.2) (4.13.2)\n",
            "Requirement already satisfied: exceptiongroup>=1.2.2 in /usr/local/lib/python3.11/dist-packages (from fastmcp>=2.2.10->just-agents-web->just-agents-examples==0.7.2) (1.3.0)\n",
            "Requirement already satisfied: httpx>=0.28.1 in /usr/local/lib/python3.11/dist-packages (from fastmcp>=2.2.10->just-agents-web->just-agents-examples==0.7.2) (0.28.1)\n",
            "Requirement already satisfied: mcp<2.0.0,>=1.9.0 in /usr/local/lib/python3.11/dist-packages (from fastmcp>=2.2.10->just-agents-web->just-agents-examples==0.7.2) (1.9.0)\n",
            "Requirement already satisfied: openapi-pydantic>=0.5.1 in /usr/local/lib/python3.11/dist-packages (from fastmcp>=2.2.10->just-agents-web->just-agents-examples==0.7.2) (0.5.1)\n",
            "Requirement already satisfied: rich>=13.9.4 in /usr/local/lib/python3.11/dist-packages (from fastmcp>=2.2.10->just-agents-web->just-agents-examples==0.7.2) (14.0.0)\n",
            "Requirement already satisfied: typer>=0.15.2 in /usr/local/lib/python3.11/dist-packages (from fastmcp>=2.2.10->just-agents-web->just-agents-examples==0.7.2) (0.15.3)\n",
            "Requirement already satisfied: websockets>=14.0 in /usr/local/lib/python3.11/dist-packages (from fastmcp>=2.2.10->just-agents-web->just-agents-examples==0.7.2) (15.0.1)\n",
            "Requirement already satisfied: podman<6.0.0,>=5.2.0 in /usr/local/lib/python3.11/dist-packages (from llm-sandbox[podman]>=0.2.4->just-agents-coding->just-agents-examples==0.7.2) (5.4.0.1)\n",
            "Requirement already satisfied: Deprecated>=1.2.15 in /usr/local/lib/python3.11/dist-packages (from pycomfort>=0.0.18->just-agents-web->just-agents-examples==0.7.2) (1.2.18)\n",
            "Requirement already satisfied: eliot>=1.17.5 in /usr/local/lib/python3.11/dist-packages (from pycomfort>=0.0.18->just-agents-web->just-agents-examples==0.7.2) (1.17.5)\n",
            "Requirement already satisfied: eliot-tree>=24.0.0 in /usr/local/lib/python3.11/dist-packages (from pycomfort>=0.0.18->just-agents-web->just-agents-examples==0.7.2) (24.0.0)\n",
            "Requirement already satisfied: more-itertools>=10.6.0 in /usr/local/lib/python3.11/dist-packages (from pycomfort>=0.0.18->just-agents-web->just-agents-examples==0.7.2) (10.7.0)\n",
            "Requirement already satisfied: pyfunctional<=1.5.0 in /usr/local/lib/python3.11/dist-packages (from pycomfort>=0.0.18->just-agents-web->just-agents-examples==0.7.2) (1.5.0)\n",
            "Requirement already satisfied: charset-normalizer<4,>=2 in /usr/local/lib/python3.11/dist-packages (from requests>=2.26.0->docker>=7.1.0->just-agents-examples==0.7.2) (3.4.2)\n",
            "Requirement already satisfied: idna<4,>=2.5 in /usr/local/lib/python3.11/dist-packages (from requests>=2.26.0->docker>=7.1.0->just-agents-examples==0.7.2) (3.10)\n",
            "Requirement already satisfied: certifi>=2017.4.17 in /usr/local/lib/python3.11/dist-packages (from requests>=2.26.0->docker>=7.1.0->just-agents-examples==0.7.2) (2025.4.26)\n",
            "Requirement already satisfied: tenacity in /usr/local/lib/python3.11/dist-packages (from semanticscholar>=0.10.0->just-agents-tools->just-agents-examples==0.7.2) (9.1.2)\n",
            "Requirement already satisfied: nest_asyncio in /usr/local/lib/python3.11/dist-packages (from semanticscholar>=0.10.0->just-agents-tools->just-agents-examples==0.7.2) (1.6.0)\n",
            "Requirement already satisfied: click>=7.0 in /usr/local/lib/python3.11/dist-packages (from uvicorn>=0.34.0->just-agents-web->just-agents-examples==0.7.2) (8.2.0)\n",
            "Requirement already satisfied: h11>=0.8 in /usr/local/lib/python3.11/dist-packages (from uvicorn>=0.34.0->just-agents-web->just-agents-examples==0.7.2) (0.16.0)\n",
            "Requirement already satisfied: docstring_parser in /usr/local/lib/python3.11/dist-packages (from just-agents-core->just-agents-coding->just-agents-examples==0.7.2) (0.16)\n",
            "Requirement already satisfied: litellm>=1.67.2 in /usr/local/lib/python3.11/dist-packages (from just-agents-core->just-agents-coding->just-agents-examples==0.7.2) (1.67.4.post1)\n",
            "Requirement already satisfied: numpydoc in /usr/local/lib/python3.11/dist-packages (from just-agents-core->just-agents-coding->just-agents-examples==0.7.2) (1.8.0)\n",
            "Requirement already satisfied: wrapt<2,>=1.10 in /usr/local/lib/python3.11/dist-packages (from Deprecated>=1.2.15->pycomfort>=0.0.18->just-agents-web->just-agents-examples==0.7.2) (1.17.2)\n",
            "Requirement already satisfied: zope.interface in /usr/local/lib/python3.11/dist-packages (from eliot>=1.17.5->pycomfort>=0.0.18->just-agents-web->just-agents-examples==0.7.2) (7.2)\n",
            "Requirement already satisfied: pyrsistent>=0.11.8 in /usr/local/lib/python3.11/dist-packages (from eliot>=1.17.5->pycomfort>=0.0.18->just-agents-web->just-agents-examples==0.7.2) (0.20.0)\n",
            "Requirement already satisfied: boltons>=19.0.1 in /usr/local/lib/python3.11/dist-packages (from eliot>=1.17.5->pycomfort>=0.0.18->just-agents-web->just-agents-examples==0.7.2) (25.0.0)\n",
            "Requirement already satisfied: orjson in /usr/local/lib/python3.11/dist-packages (from eliot>=1.17.5->pycomfort>=0.0.18->just-agents-web->just-agents-examples==0.7.2) (3.10.18)\n",
            "Requirement already satisfied: six>=1.13.0 in /usr/local/lib/python3.11/dist-packages (from eliot-tree>=24.0.0->pycomfort>=0.0.18->just-agents-web->just-agents-examples==0.7.2) (1.17.0)\n",
            "Requirement already satisfied: jmespath>=0.7.1 in /usr/local/lib/python3.11/dist-packages (from eliot-tree>=24.0.0->pycomfort>=0.0.18->just-agents-web->just-agents-examples==0.7.2) (1.0.1)\n",
            "Requirement already satisfied: iso8601>=0.1.10 in /usr/local/lib/python3.11/dist-packages (from eliot-tree>=24.0.0->pycomfort>=0.0.18->just-agents-web->just-agents-examples==0.7.2) (2.1.0)\n",
            "Requirement already satisfied: colored>=1.4.2 in /usr/local/lib/python3.11/dist-packages (from eliot-tree>=24.0.0->pycomfort>=0.0.18->just-agents-web->just-agents-examples==0.7.2) (2.3.0)\n",
            "Requirement already satisfied: toolz>=0.8.2 in /usr/local/lib/python3.11/dist-packages (from eliot-tree>=24.0.0->pycomfort>=0.0.18->just-agents-web->just-agents-examples==0.7.2) (0.12.1)\n",
            "Requirement already satisfied: anyio in /usr/local/lib/python3.11/dist-packages (from httpx>=0.28.1->fastmcp>=2.2.10->just-agents-web->just-agents-examples==0.7.2) (4.9.0)\n",
            "Requirement already satisfied: httpcore==1.* in /usr/local/lib/python3.11/dist-packages (from httpx>=0.28.1->fastmcp>=2.2.10->just-agents-web->just-agents-examples==0.7.2) (1.0.9)\n",
            "Requirement already satisfied: aiohttp in /usr/local/lib/python3.11/dist-packages (from litellm>=1.67.2->just-agents-core->just-agents-coding->just-agents-examples==0.7.2) (3.11.15)\n",
            "Requirement already satisfied: importlib-metadata>=6.8.0 in /usr/local/lib/python3.11/dist-packages (from litellm>=1.67.2->just-agents-core->just-agents-coding->just-agents-examples==0.7.2) (8.7.0)\n",
            "Requirement already satisfied: jinja2<4.0.0,>=3.1.2 in /usr/local/lib/python3.11/dist-packages (from litellm>=1.67.2->just-agents-core->just-agents-coding->just-agents-examples==0.7.2) (3.1.6)\n",
            "Requirement already satisfied: jsonschema<5.0.0,>=4.22.0 in /usr/local/lib/python3.11/dist-packages (from litellm>=1.67.2->just-agents-core->just-agents-coding->just-agents-examples==0.7.2) (4.23.0)\n",
            "Requirement already satisfied: openai>=1.68.2 in /usr/local/lib/python3.11/dist-packages (from litellm>=1.67.2->just-agents-core->just-agents-coding->just-agents-examples==0.7.2) (1.78.1)\n",
            "Requirement already satisfied: tiktoken>=0.7.0 in /usr/local/lib/python3.11/dist-packages (from litellm>=1.67.2->just-agents-core->just-agents-coding->just-agents-examples==0.7.2) (0.9.0)\n",
            "Requirement already satisfied: tokenizers in /usr/local/lib/python3.11/dist-packages (from litellm>=1.67.2->just-agents-core->just-agents-coding->just-agents-examples==0.7.2) (0.21.1)\n",
            "Requirement already satisfied: httpx-sse>=0.4 in /usr/local/lib/python3.11/dist-packages (from mcp<2.0.0,>=1.9.0->fastmcp>=2.2.10->just-agents-web->just-agents-examples==0.7.2) (0.4.0)\n",
            "Requirement already satisfied: pydantic-settings>=2.5.2 in /usr/local/lib/python3.11/dist-packages (from mcp<2.0.0,>=1.9.0->fastmcp>=2.2.10->just-agents-web->just-agents-examples==0.7.2) (2.9.1)\n",
            "Requirement already satisfied: python-multipart>=0.0.9 in /usr/local/lib/python3.11/dist-packages (from mcp<2.0.0,>=1.9.0->fastmcp>=2.2.10->just-agents-web->just-agents-examples==0.7.2) (0.0.20)\n",
            "Requirement already satisfied: sse-starlette>=1.6.1 in /usr/local/lib/python3.11/dist-packages (from mcp<2.0.0,>=1.9.0->fastmcp>=2.2.10->just-agents-web->just-agents-examples==0.7.2) (2.3.5)\n",
            "Requirement already satisfied: annotated-types>=0.6.0 in /usr/local/lib/python3.11/dist-packages (from pydantic!=1.8,!=1.8.1,!=2.0.0,!=2.0.1,!=2.1.0,<3.0.0,>=1.7.4->fastapi>=0.115.12->just-agents-web->just-agents-examples==0.7.2) (0.7.0)\n",
            "Requirement already satisfied: pydantic-core==2.33.2 in /usr/local/lib/python3.11/dist-packages (from pydantic!=1.8,!=1.8.1,!=2.0.0,!=2.0.1,!=2.1.0,<3.0.0,>=1.7.4->fastapi>=0.115.12->just-agents-web->just-agents-examples==0.7.2) (2.33.2)\n",
            "Requirement already satisfied: typing-inspection>=0.4.0 in /usr/local/lib/python3.11/dist-packages (from pydantic!=1.8,!=1.8.1,!=2.0.0,!=2.0.1,!=2.1.0,<3.0.0,>=1.7.4->fastapi>=0.115.12->just-agents-web->just-agents-examples==0.7.2) (0.4.0)\n",
            "Requirement already satisfied: dill>=0.2.5 in /usr/local/lib/python3.11/dist-packages (from pyfunctional<=1.5.0->pycomfort>=0.0.18->just-agents-web->just-agents-examples==0.7.2) (0.3.7)\n",
            "Requirement already satisfied: tabulate<=1.0.0 in /usr/local/lib/python3.11/dist-packages (from pyfunctional<=1.5.0->pycomfort>=0.0.18->just-agents-web->just-agents-examples==0.7.2) (0.9.0)\n",
            "Requirement already satisfied: markdown-it-py>=2.2.0 in /usr/local/lib/python3.11/dist-packages (from rich>=13.9.4->fastmcp>=2.2.10->just-agents-web->just-agents-examples==0.7.2) (3.0.0)\n",
            "Requirement already satisfied: pygments<3.0.0,>=2.13.0 in /usr/local/lib/python3.11/dist-packages (from rich>=13.9.4->fastmcp>=2.2.10->just-agents-web->just-agents-examples==0.7.2) (2.19.1)\n",
            "Requirement already satisfied: shellingham>=1.3.0 in /usr/local/lib/python3.11/dist-packages (from typer>=0.15.2->fastmcp>=2.2.10->just-agents-web->just-agents-examples==0.7.2) (1.5.4)\n",
            "Requirement already satisfied: sphinx>=6 in /usr/local/lib/python3.11/dist-packages (from numpydoc->just-agents-core->just-agents-coding->just-agents-examples==0.7.2) (8.2.3)\n",
            "Requirement already satisfied: sniffio>=1.1 in /usr/local/lib/python3.11/dist-packages (from anyio->httpx>=0.28.1->fastmcp>=2.2.10->just-agents-web->just-agents-examples==0.7.2) (1.3.1)\n",
            "Requirement already satisfied: zipp>=3.20 in /usr/local/lib/python3.11/dist-packages (from importlib-metadata>=6.8.0->litellm>=1.67.2->just-agents-core->just-agents-coding->just-agents-examples==0.7.2) (3.21.0)\n",
            "Requirement already satisfied: MarkupSafe>=2.0 in /usr/local/lib/python3.11/dist-packages (from jinja2<4.0.0,>=3.1.2->litellm>=1.67.2->just-agents-core->just-agents-coding->just-agents-examples==0.7.2) (3.0.2)\n",
            "Requirement already satisfied: attrs>=22.2.0 in /usr/local/lib/python3.11/dist-packages (from jsonschema<5.0.0,>=4.22.0->litellm>=1.67.2->just-agents-core->just-agents-coding->just-agents-examples==0.7.2) (25.3.0)\n",
            "Requirement already satisfied: jsonschema-specifications>=2023.03.6 in /usr/local/lib/python3.11/dist-packages (from jsonschema<5.0.0,>=4.22.0->litellm>=1.67.2->just-agents-core->just-agents-coding->just-agents-examples==0.7.2) (2025.4.1)\n",
            "Requirement already satisfied: referencing>=0.28.4 in /usr/local/lib/python3.11/dist-packages (from jsonschema<5.0.0,>=4.22.0->litellm>=1.67.2->just-agents-core->just-agents-coding->just-agents-examples==0.7.2) (0.36.2)\n",
            "Requirement already satisfied: rpds-py>=0.7.1 in /usr/local/lib/python3.11/dist-packages (from jsonschema<5.0.0,>=4.22.0->litellm>=1.67.2->just-agents-core->just-agents-coding->just-agents-examples==0.7.2) (0.24.0)\n",
            "Requirement already satisfied: mdurl~=0.1 in /usr/local/lib/python3.11/dist-packages (from markdown-it-py>=2.2.0->rich>=13.9.4->fastmcp>=2.2.10->just-agents-web->just-agents-examples==0.7.2) (0.1.2)\n",
            "Requirement already satisfied: distro<2,>=1.7.0 in /usr/local/lib/python3.11/dist-packages (from openai>=1.68.2->litellm>=1.67.2->just-agents-core->just-agents-coding->just-agents-examples==0.7.2) (1.9.0)\n",
            "Requirement already satisfied: jiter<1,>=0.4.0 in /usr/local/lib/python3.11/dist-packages (from openai>=1.68.2->litellm>=1.67.2->just-agents-core->just-agents-coding->just-agents-examples==0.7.2) (0.9.0)\n",
            "Requirement already satisfied: tqdm>4 in /usr/local/lib/python3.11/dist-packages (from openai>=1.68.2->litellm>=1.67.2->just-agents-core->just-agents-coding->just-agents-examples==0.7.2) (4.67.1)\n",
            "Requirement already satisfied: sphinxcontrib-applehelp>=1.0.7 in /usr/local/lib/python3.11/dist-packages (from sphinx>=6->numpydoc->just-agents-core->just-agents-coding->just-agents-examples==0.7.2) (2.0.0)\n",
            "Requirement already satisfied: sphinxcontrib-devhelp>=1.0.6 in /usr/local/lib/python3.11/dist-packages (from sphinx>=6->numpydoc->just-agents-core->just-agents-coding->just-agents-examples==0.7.2) (2.0.0)\n",
            "Requirement already satisfied: sphinxcontrib-htmlhelp>=2.0.6 in /usr/local/lib/python3.11/dist-packages (from sphinx>=6->numpydoc->just-agents-core->just-agents-coding->just-agents-examples==0.7.2) (2.1.0)\n",
            "Requirement already satisfied: sphinxcontrib-jsmath>=1.0.1 in /usr/local/lib/python3.11/dist-packages (from sphinx>=6->numpydoc->just-agents-core->just-agents-coding->just-agents-examples==0.7.2) (1.0.1)\n",
            "Requirement already satisfied: sphinxcontrib-qthelp>=1.0.6 in /usr/local/lib/python3.11/dist-packages (from sphinx>=6->numpydoc->just-agents-core->just-agents-coding->just-agents-examples==0.7.2) (2.0.0)\n",
            "Requirement already satisfied: sphinxcontrib-serializinghtml>=1.1.9 in /usr/local/lib/python3.11/dist-packages (from sphinx>=6->numpydoc->just-agents-core->just-agents-coding->just-agents-examples==0.7.2) (2.0.0)\n",
            "Requirement already satisfied: docutils<0.22,>=0.20 in /usr/local/lib/python3.11/dist-packages (from sphinx>=6->numpydoc->just-agents-core->just-agents-coding->just-agents-examples==0.7.2) (0.21.2)\n",
            "Requirement already satisfied: snowballstemmer>=2.2 in /usr/local/lib/python3.11/dist-packages (from sphinx>=6->numpydoc->just-agents-core->just-agents-coding->just-agents-examples==0.7.2) (3.0.1)\n",
            "Requirement already satisfied: babel>=2.13 in /usr/local/lib/python3.11/dist-packages (from sphinx>=6->numpydoc->just-agents-core->just-agents-coding->just-agents-examples==0.7.2) (2.17.0)\n",
            "Requirement already satisfied: alabaster>=0.7.14 in /usr/local/lib/python3.11/dist-packages (from sphinx>=6->numpydoc->just-agents-core->just-agents-coding->just-agents-examples==0.7.2) (1.0.0)\n",
            "Requirement already satisfied: imagesize>=1.3 in /usr/local/lib/python3.11/dist-packages (from sphinx>=6->numpydoc->just-agents-core->just-agents-coding->just-agents-examples==0.7.2) (1.4.1)\n",
            "Requirement already satisfied: roman-numerals-py>=1.0.0 in /usr/local/lib/python3.11/dist-packages (from sphinx>=6->numpydoc->just-agents-core->just-agents-coding->just-agents-examples==0.7.2) (3.1.0)\n",
            "Requirement already satisfied: packaging>=23.0 in /usr/local/lib/python3.11/dist-packages (from sphinx>=6->numpydoc->just-agents-core->just-agents-coding->just-agents-examples==0.7.2) (24.2)\n",
            "Requirement already satisfied: regex>=2022.1.18 in /usr/local/lib/python3.11/dist-packages (from tiktoken>=0.7.0->litellm>=1.67.2->just-agents-core->just-agents-coding->just-agents-examples==0.7.2) (2024.11.6)\n",
            "Requirement already satisfied: aiohappyeyeballs>=2.3.0 in /usr/local/lib/python3.11/dist-packages (from aiohttp->litellm>=1.67.2->just-agents-core->just-agents-coding->just-agents-examples==0.7.2) (2.6.1)\n",
            "Requirement already satisfied: aiosignal>=1.1.2 in /usr/local/lib/python3.11/dist-packages (from aiohttp->litellm>=1.67.2->just-agents-core->just-agents-coding->just-agents-examples==0.7.2) (1.3.2)\n",
            "Requirement already satisfied: frozenlist>=1.1.1 in /usr/local/lib/python3.11/dist-packages (from aiohttp->litellm>=1.67.2->just-agents-core->just-agents-coding->just-agents-examples==0.7.2) (1.6.0)\n",
            "Requirement already satisfied: multidict<7.0,>=4.5 in /usr/local/lib/python3.11/dist-packages (from aiohttp->litellm>=1.67.2->just-agents-core->just-agents-coding->just-agents-examples==0.7.2) (6.4.3)\n",
            "Requirement already satisfied: propcache>=0.2.0 in /usr/local/lib/python3.11/dist-packages (from aiohttp->litellm>=1.67.2->just-agents-core->just-agents-coding->just-agents-examples==0.7.2) (0.3.1)\n",
            "Requirement already satisfied: yarl<2.0,>=1.17.0 in /usr/local/lib/python3.11/dist-packages (from aiohttp->litellm>=1.67.2->just-agents-core->just-agents-coding->just-agents-examples==0.7.2) (1.20.0)\n",
            "Requirement already satisfied: huggingface-hub<1.0,>=0.16.4 in /usr/local/lib/python3.11/dist-packages (from tokenizers->litellm>=1.67.2->just-agents-core->just-agents-coding->just-agents-examples==0.7.2) (0.31.2)\n",
            "Requirement already satisfied: setuptools in /usr/local/lib/python3.11/dist-packages (from zope.interface->eliot>=1.17.5->pycomfort>=0.0.18->just-agents-web->just-agents-examples==0.7.2) (75.2.0)\n",
            "Requirement already satisfied: filelock in /usr/local/lib/python3.11/dist-packages (from huggingface-hub<1.0,>=0.16.4->tokenizers->litellm>=1.67.2->just-agents-core->just-agents-coding->just-agents-examples==0.7.2) (3.18.0)\n",
            "Requirement already satisfied: fsspec>=2023.5.0 in /usr/local/lib/python3.11/dist-packages (from huggingface-hub<1.0,>=0.16.4->tokenizers->litellm>=1.67.2->just-agents-core->just-agents-coding->just-agents-examples==0.7.2) (2025.3.2)\n",
            "Requirement already satisfied: pyyaml>=5.1 in /usr/local/lib/python3.11/dist-packages (from huggingface-hub<1.0,>=0.16.4->tokenizers->litellm>=1.67.2->just-agents-core->just-agents-coding->just-agents-examples==0.7.2) (6.0.2)\n"
          ]
        }
      ],
      "source": [
        "!pip install litellm==1.67.4.post1\n",
        "!pip install just-agents-core==0.7.2\n",
        "!pip install just-agents-examples==0.7.2"
      ]
    },
    {
      "cell_type": "code",
      "execution_count": 12,
      "metadata": {
        "colab": {
          "base_uri": "https://localhost:8080/"
        },
        "collapsed": true,
        "id": "AAeKVTq0Zgo-",
        "outputId": "7aa99568-62b3-49f2-9a25-2c7ab48ad68d"
      },
      "outputs": [
        {
          "output_type": "stream",
          "name": "stdout",
          "text": [
            "GROQ API key already set in environment.\n"
          ]
        }
      ],
      "source": [
        "import os\n",
        "import getpass\n",
        "from dotenv import load_dotenv\n",
        "\n",
        "def get_api_keys():\n",
        "  \"\"\"Gets API keys from the user.\"\"\"\n",
        "  load_dotenv(override=True)\n",
        "\n",
        "  # Check if GROQ_API_KEY is already set in environment\n",
        "  groq_api_key = os.environ.get(\"GROQ_API_KEY\")\n",
        "  openai_api_key = os.environ.get(\"OPENAI_API_KEY\")\n",
        "\n",
        "  # Only prompt for key if not already set\n",
        "  if not groq_api_key:\n",
        "    print(\"Please enter your API keys:\")\n",
        "    groq_api_key = getpass.getpass(\"GROQ_API_KEY: \")\n",
        "    # Set environment variable\n",
        "    os.environ[\"GROQ_API_KEY\"] = groq_api_key\n",
        "    print(\"GROQ_API key set successfully.\")\n",
        "  else:\n",
        "    print(\"GROQ API key already set in environment.\")\n",
        "\n",
        "\n",
        "# Call the function to get API keys from the user\n",
        "get_api_keys()"
      ]
    },
    {
      "cell_type": "markdown",
      "metadata": {
        "id": "z_UqGQ-jaGgq"
      },
      "source": [
        "### Run functions to run code\n",
        "\n",
        "Writing custom functions to run code and install dependencies"
      ]
    },
    {
      "cell_type": "code",
      "execution_count": 13,
      "metadata": {
        "id": "Hime-BufbBUu"
      },
      "outputs": [],
      "source": [
        "# Define the function\n",
        "import io\n",
        "import contextlib\n",
        "\n",
        "def run_python_code(code: str):\n",
        "    \"\"\"\n",
        "    code: str # python code to run\n",
        "    \"\"\"\n",
        "    output = io.StringIO()\n",
        "    error = io.StringIO()\n",
        "\n",
        "    try:\n",
        "        with contextlib.redirect_stdout(output), contextlib.redirect_stderr(error):\n",
        "            exec(code)\n",
        "        result = output.getvalue()\n",
        "        if result:\n",
        "            return result.strip()\n",
        "        else:\n",
        "            return \"No output.\"\n",
        "    except Exception as e:\n",
        "        return f\"Error: {str(e)}\""
      ]
    },
    {
      "cell_type": "markdown",
      "metadata": {
        "id": "9tIM7nM0bDST"
      },
      "source": [
        "Let's test that code generation works"
      ]
    },
    {
      "cell_type": "code",
      "execution_count": 14,
      "metadata": {
        "colab": {
          "base_uri": "https://localhost:8080/",
          "height": 36
        },
        "collapsed": true,
        "id": "85UAQb8qbHJI",
        "outputId": "c369f1e1-77d7-4ca2-e4e8-6d6d4c4e4271"
      },
      "outputs": [
        {
          "output_type": "execute_result",
          "data": {
            "text/plain": [
              "'Hello World'"
            ],
            "application/vnd.google.colaboratory.intrinsic+json": {
              "type": "string"
            }
          },
          "metadata": {},
          "execution_count": 14
        }
      ],
      "source": [
        "run_python_code(\"print('Hello World')\")"
      ]
    },
    {
      "cell_type": "code",
      "execution_count": 15,
      "metadata": {
        "colab": {
          "base_uri": "https://localhost:8080/",
          "height": 289
        },
        "collapsed": true,
        "id": "O8kajbQ4aljb",
        "outputId": "01a94a9e-4c21-4474-9bb4-67c66ad6ae6d"
      },
      "outputs": [
        {
          "output_type": "display_data",
          "data": {
            "text/plain": [
              "\u001b[93m╭─\u001b[0m\u001b[93m──────────────────────────────────────────────────\u001b[0m\u001b[1;33m [System] \u001b[0m\u001b[93m───────────────────────────────────────────────────\u001b[0m\u001b[93m─╮\u001b[0m\n",
              "\u001b[93m│\u001b[0m You are a helpful AI assistant                                                                                  \u001b[93m│\u001b[0m\n",
              "\u001b[93m╰─────────────────────────────────────────────────────────────────────────────────────────────────────────────────╯\u001b[0m\n"
            ],
            "text/html": [
              "<pre style=\"white-space:pre;overflow-x:auto;line-height:normal;font-family:Menlo,'DejaVu Sans Mono',consolas,'Courier New',monospace\"><span style=\"color: #ffff00; text-decoration-color: #ffff00\">╭───────────────────────────────────────────────────</span><span style=\"color: #808000; text-decoration-color: #808000; font-weight: bold\"> [System] </span><span style=\"color: #ffff00; text-decoration-color: #ffff00\">────────────────────────────────────────────────────╮</span>\n",
              "<span style=\"color: #ffff00; text-decoration-color: #ffff00\">│</span> You are a helpful AI assistant                                                                                  <span style=\"color: #ffff00; text-decoration-color: #ffff00\">│</span>\n",
              "<span style=\"color: #ffff00; text-decoration-color: #ffff00\">╰─────────────────────────────────────────────────────────────────────────────────────────────────────────────────╯</span>\n",
              "</pre>\n"
            ]
          },
          "metadata": {}
        },
        {
          "output_type": "display_data",
          "data": {
            "text/plain": [
              "\u001b[92m╭─\u001b[0m\u001b[92m───────────────────────────────────────────────────\u001b[0m\u001b[1;32m [User] \u001b[0m\u001b[92m────────────────────────────────────────────────────\u001b[0m\u001b[92m─╮\u001b[0m\n",
              "\u001b[92m│\u001b[0m Compute 2 * 10 + (342 +3) / 23.0                                                                                \u001b[92m│\u001b[0m\n",
              "\u001b[92m╰─────────────────────────────────────────────────────────────────────────────────────────────────────────────────╯\u001b[0m\n"
            ],
            "text/html": [
              "<pre style=\"white-space:pre;overflow-x:auto;line-height:normal;font-family:Menlo,'DejaVu Sans Mono',consolas,'Courier New',monospace\"><span style=\"color: #00ff00; text-decoration-color: #00ff00\">╭────────────────────────────────────────────────────</span><span style=\"color: #008000; text-decoration-color: #008000; font-weight: bold\"> [User] </span><span style=\"color: #00ff00; text-decoration-color: #00ff00\">─────────────────────────────────────────────────────╮</span>\n",
              "<span style=\"color: #00ff00; text-decoration-color: #00ff00\">│</span> Compute 2 * 10 + (342 +3) / 23.0                                                                                <span style=\"color: #00ff00; text-decoration-color: #00ff00\">│</span>\n",
              "<span style=\"color: #00ff00; text-decoration-color: #00ff00\">╰─────────────────────────────────────────────────────────────────────────────────────────────────────────────────╯</span>\n",
              "</pre>\n"
            ]
          },
          "metadata": {}
        },
        {
          "output_type": "display_data",
          "data": {
            "text/plain": [
              "\u001b[34m╭─\u001b[0m\u001b[34m─────────────────────────────────────────────────\u001b[0m\u001b[1;34m [Assistant] \u001b[0m\u001b[34m─────────────────────────────────────────────────\u001b[0m\u001b[34m─╮\u001b[0m\n",
              "\u001b[34m│\u001b[0m Tool Call to \u001b[1;35mrun_python_code\u001b[0m:                                                                                   \u001b[34m│\u001b[0m\n",
              "\u001b[34m│\u001b[0m {\"code\": \"print(2 * 10 + (342 + 3) / 23.0)\"}                                                                    \u001b[34m│\u001b[0m\n",
              "\u001b[34m╰─────────────────────────────────────────────────────────────────────────────────────────────────────────────────╯\u001b[0m\n"
            ],
            "text/html": [
              "<pre style=\"white-space:pre;overflow-x:auto;line-height:normal;font-family:Menlo,'DejaVu Sans Mono',consolas,'Courier New',monospace\"><span style=\"color: #000080; text-decoration-color: #000080\">╭──────────────────────────────────────────────────</span><span style=\"color: #000080; text-decoration-color: #000080; font-weight: bold\"> [Assistant] </span><span style=\"color: #000080; text-decoration-color: #000080\">──────────────────────────────────────────────────╮</span>\n",
              "<span style=\"color: #000080; text-decoration-color: #000080\">│</span> Tool Call to <span style=\"color: #800080; text-decoration-color: #800080; font-weight: bold\">run_python_code</span>:                                                                                   <span style=\"color: #000080; text-decoration-color: #000080\">│</span>\n",
              "<span style=\"color: #000080; text-decoration-color: #000080\">│</span> {\"code\": \"print(2 * 10 + (342 + 3) / 23.0)\"}                                                                    <span style=\"color: #000080; text-decoration-color: #000080\">│</span>\n",
              "<span style=\"color: #000080; text-decoration-color: #000080\">╰─────────────────────────────────────────────────────────────────────────────────────────────────────────────────╯</span>\n",
              "</pre>\n"
            ]
          },
          "metadata": {}
        },
        {
          "output_type": "display_data",
          "data": {
            "text/plain": [
              "\u001b[95m╭─\u001b[0m\u001b[95m───────────────────────────────────────────────────\u001b[0m\u001b[1;35m [Tool] \u001b[0m\u001b[95m────────────────────────────────────────────────────\u001b[0m\u001b[95m─╮\u001b[0m\n",
              "\u001b[95m│\u001b[0m Response from \u001b[1;35mrun_python_code\u001b[0m:                                                                                  \u001b[95m│\u001b[0m\n",
              "\u001b[95m│\u001b[0m 35.0                                                                                                            \u001b[95m│\u001b[0m\n",
              "\u001b[95m╰─────────────────────────────────────────────────────────────────────────────────────────────────────────────────╯\u001b[0m\n"
            ],
            "text/html": [
              "<pre style=\"white-space:pre;overflow-x:auto;line-height:normal;font-family:Menlo,'DejaVu Sans Mono',consolas,'Courier New',monospace\"><span style=\"color: #ff00ff; text-decoration-color: #ff00ff\">╭────────────────────────────────────────────────────</span><span style=\"color: #800080; text-decoration-color: #800080; font-weight: bold\"> [Tool] </span><span style=\"color: #ff00ff; text-decoration-color: #ff00ff\">─────────────────────────────────────────────────────╮</span>\n",
              "<span style=\"color: #ff00ff; text-decoration-color: #ff00ff\">│</span> Response from <span style=\"color: #800080; text-decoration-color: #800080; font-weight: bold\">run_python_code</span>:                                                                                  <span style=\"color: #ff00ff; text-decoration-color: #ff00ff\">│</span>\n",
              "<span style=\"color: #ff00ff; text-decoration-color: #ff00ff\">│</span> 35.0                                                                                                            <span style=\"color: #ff00ff; text-decoration-color: #ff00ff\">│</span>\n",
              "<span style=\"color: #ff00ff; text-decoration-color: #ff00ff\">╰─────────────────────────────────────────────────────────────────────────────────────────────────────────────────╯</span>\n",
              "</pre>\n"
            ]
          },
          "metadata": {}
        },
        {
          "output_type": "display_data",
          "data": {
            "text/plain": [
              "\u001b[94m╭─\u001b[0m\u001b[94m─────────────────────────────────────────────────\u001b[0m\u001b[1;34m [Assistant] \u001b[0m\u001b[94m─────────────────────────────────────────────────\u001b[0m\u001b[94m─╮\u001b[0m\n",
              "\u001b[94m│\u001b[0m The result of the computation is 35.0.                                                                          \u001b[94m│\u001b[0m\n",
              "\u001b[94m╰─────────────────────────────────────────────────────────────────────────────────────────────────────────────────╯\u001b[0m\n"
            ],
            "text/html": [
              "<pre style=\"white-space:pre;overflow-x:auto;line-height:normal;font-family:Menlo,'DejaVu Sans Mono',consolas,'Courier New',monospace\"><span style=\"color: #0000ff; text-decoration-color: #0000ff\">╭──────────────────────────────────────────────────</span><span style=\"color: #000080; text-decoration-color: #000080; font-weight: bold\"> [Assistant] </span><span style=\"color: #0000ff; text-decoration-color: #0000ff\">──────────────────────────────────────────────────╮</span>\n",
              "<span style=\"color: #0000ff; text-decoration-color: #0000ff\">│</span> The result of the computation is 35.0.                                                                          <span style=\"color: #0000ff; text-decoration-color: #0000ff\">│</span>\n",
              "<span style=\"color: #0000ff; text-decoration-color: #0000ff\">╰─────────────────────────────────────────────────────────────────────────────────────────────────────────────────╯</span>\n",
              "</pre>\n"
            ]
          },
          "metadata": {}
        }
      ],
      "source": [
        "from just_agents import llm_options\n",
        "from just_agents.base_agent import BaseAgent\n",
        "\n",
        "prompt = \"Compute 2 * 10 + (342 +3) / 23.0\"\n",
        "\n",
        "agent: BaseAgent = BaseAgent(\n",
        "    llm_options=llm_options.LLAMA3_3,\n",
        "    tools=[run_python_code]\n",
        ")\n",
        "response = agent.query(prompt)\n",
        "f\"\"\"MODEL RESPONSE = \"{response}\" \"\"\"\n",
        "agent.memory.pretty_print_all_messages()"
      ]
    },
    {
      "cell_type": "markdown",
      "metadata": {
        "id": "hhLqOlBAg4ew"
      },
      "source": [
        "# Dependency hell management"
      ]
    },
    {
      "cell_type": "markdown",
      "metadata": {
        "id": "NOZFuSv4ciSH"
      },
      "source": [
        "But what if it does not have dependencies installed?"
      ]
    },
    {
      "cell_type": "code",
      "execution_count": 16,
      "metadata": {
        "colab": {
          "base_uri": "https://localhost:8080/",
          "height": 36
        },
        "collapsed": true,
        "id": "SatGdw47gy-_",
        "outputId": "deaf9e35-ef33-423a-dece-0db75a1a70c2"
      },
      "outputs": [
        {
          "output_type": "execute_result",
          "data": {
            "text/plain": [
              "'The translation of the DNA sequence \"ATGCATAGGTAG\" is \"MHR*\".'"
            ],
            "application/vnd.google.colaboratory.intrinsic+json": {
              "type": "string"
            }
          },
          "metadata": {},
          "execution_count": 16
        }
      ],
      "source": [
        "agent.query(\"translate ATGCATAGGTAG with biopython\")"
      ]
    },
    {
      "cell_type": "code",
      "execution_count": 17,
      "metadata": {
        "colab": {
          "base_uri": "https://localhost:8080/"
        },
        "collapsed": true,
        "id": "X95ZKLSOcwlx",
        "outputId": "a31cc3a9-6312-4257-fb89-94cd542223db"
      },
      "outputs": [
        {
          "output_type": "stream",
          "name": "stdout",
          "text": [
            "total 16\n",
            "drwxr-xr-x 1 root root 4096 May 14 13:38 .\n",
            "drwxr-xr-x 1 root root 4096 May 21 07:52 ..\n",
            "drwxr-xr-x 4 root root 4096 May 14 13:38 .config\n",
            "drwxr-xr-x 1 root root 4096 May 14 13:38 sample_data\n"
          ]
        }
      ],
      "source": [
        "import subprocess\n",
        "\n",
        "def execute_bash(command: str):\n",
        "    \"\"\"\n",
        "    Executes a Bash command and returns the output or error message.\n",
        "\n",
        "    Parameters:\n",
        "    command (st): Bash command as a string.\n",
        "\n",
        "    Returns:\n",
        "    str: The output or error message from executing the command.\n",
        "    \"\"\"\n",
        "    try:\n",
        "        result = subprocess.run(command, shell=True, text=True, capture_output=True)\n",
        "        if result.returncode == 0:\n",
        "            return result.stdout.strip() if result.stdout else \"No output.\"\n",
        "        else:\n",
        "            return f\"Error: {result.stderr.strip()}\"\n",
        "    except Exception as e:\n",
        "        return f\"Exception: {str(e)}\"\n",
        "\n",
        "# Example usage:\n",
        "bash_command = \"ls -la\"\n",
        "output = execute_bash(bash_command)\n",
        "print(output)\n"
      ]
    },
    {
      "cell_type": "code",
      "execution_count": 18,
      "metadata": {
        "colab": {
          "base_uri": "https://localhost:8080/",
          "height": 400
        },
        "collapsed": true,
        "id": "3aKHivPXf3Ad",
        "outputId": "7e71cc4f-78c9-4651-b684-7d95f9742231"
      },
      "outputs": [
        {
          "output_type": "stream",
          "name": "stdout",
          "text": [
            "{'content': 'Install biopython with pip', 'role': user}\n",
            "{'content': 'You are a helpful AI assistant', 'role': system}\n",
            "{'annotations': [],\n",
            " 'role': 'assistant',\n",
            " 'tool_calls': [{'function': {'arguments': '{\"command\":\"pip install '\n",
            "                                           'biopython\"}',\n",
            "                              'name': 'execute_bash'},\n",
            "                 'id': 'call_D9ObQGAZsGQpUYntGtzdHYD7',\n",
            "                 'type': 'function'}]}\n",
            "{'content': 'Requirement already satisfied: biopython in '\n",
            "            '/usr/local/lib/python3.11/dist-packages (1.85)\\n'\n",
            "            'Requirement already satisfied: numpy in '\n",
            "            '/usr/local/lib/python3.11/dist-packages (from biopython) (2.0.2)',\n",
            " 'name': 'execute_bash',\n",
            " 'role': 'tool',\n",
            " 'tool_call_id': 'call_D9ObQGAZsGQpUYntGtzdHYD7'}\n",
            "{'annotations': [],\n",
            " 'content': 'Biopython is already installed on your system. The installed '\n",
            "            'version is 1.85, and it also requires NumPy, which is already '\n",
            "            'satisfied with version 2.0.2.',\n",
            " 'role': 'assistant'}\n"
          ]
        },
        {
          "output_type": "execute_result",
          "data": {
            "text/plain": [
              "'Biopython is already installed on your system. The installed version is 1.85, and it also requires NumPy, which is already satisfied with version 2.0.2.'"
            ],
            "application/vnd.google.colaboratory.intrinsic+json": {
              "type": "string"
            }
          },
          "metadata": {},
          "execution_count": 18
        }
      ],
      "source": [
        "from just_agents import llm_options\n",
        "from just_agents.base_agent import BaseAgent\n",
        "import pprint\n",
        "\n",
        "\n",
        "agent: BaseAgent = BaseAgent(\n",
        "    llm_options=llm_options.OPENAI_GPT4oMINI,\n",
        "    tools=[run_python_code, execute_bash]\n",
        ")\n",
        "agent.memory.add_on_message(lambda m: pprint.pprint(m))\n",
        "\n",
        "result = agent.query(\"Install biopython with pip\")\n",
        "result"
      ]
    },
    {
      "cell_type": "code",
      "execution_count": 19,
      "metadata": {
        "colab": {
          "base_uri": "https://localhost:8080/",
          "height": 1000
        },
        "id": "IGpWtGoXgU2W",
        "outputId": "e0053e4d-bd7b-468b-f26f-17ca6eb082fa"
      },
      "outputs": [
        {
          "output_type": "stream",
          "name": "stdout",
          "text": [
            "{'content': 'translate ATGCATAGGTAG with biopython', 'role': user}\n",
            "{'content': 'You are a helpful AI assistant', 'role': system}\n",
            "{'annotations': [],\n",
            " 'role': 'assistant',\n",
            " 'tool_calls': [{'function': {'arguments': '{\"code\":\"from Bio.Seq import '\n",
            "                                           'Seq\\\\n\\\\n# Create a sequence '\n",
            "                                           'object\\\\nsequence = '\n",
            "                                           \"Seq('ATGCATAGGTAG')\\\\n\\\\n# \"\n",
            "                                           'Translate the '\n",
            "                                           'sequence\\\\ntranslated_sequence = '\n",
            "                                           'sequence.translate()\\\\ntranslated_sequence\"}',\n",
            "                              'name': 'run_python_code'},\n",
            "                 'id': 'call_gSkJvYJSDVNulMszzw1MXdFs',\n",
            "                 'type': 'function'}]}\n",
            "{'content': 'No output.',\n",
            " 'name': 'run_python_code',\n",
            " 'role': 'tool',\n",
            " 'tool_call_id': 'call_gSkJvYJSDVNulMszzw1MXdFs'}\n",
            "{'annotations': [],\n",
            " 'content': 'It seems that the translation did not produce any output. Let me '\n",
            "            'check the code and ensure that the translation is performed '\n",
            "            \"correctly. I'll run the translation again and display the result.\",\n",
            " 'role': 'assistant',\n",
            " 'tool_calls': [{'function': {'arguments': '{\"code\":\"from Bio.Seq import '\n",
            "                                           'Seq\\\\n\\\\n# Create a sequence '\n",
            "                                           'object\\\\nsequence = '\n",
            "                                           \"Seq('ATGCATAGGTAG')\\\\n\\\\n# \"\n",
            "                                           'Translate the '\n",
            "                                           'sequence\\\\ntranslated_sequence = '\n",
            "                                           'sequence.translate()\\\\n\\\\n# Output '\n",
            "                                           'the translated '\n",
            "                                           'sequence\\\\nstr(translated_sequence)\"}',\n",
            "                              'name': 'run_python_code'},\n",
            "                 'id': 'call_CsAE5u7dcgEH8E7CQLdKZEsp',\n",
            "                 'type': 'function'}]}\n",
            "{'content': 'No output.',\n",
            " 'name': 'run_python_code',\n",
            " 'role': 'tool',\n",
            " 'tool_call_id': 'call_CsAE5u7dcgEH8E7CQLdKZEsp'}\n",
            "{'annotations': [],\n",
            " 'content': 'It appears that the translation of the sequence did not yield any '\n",
            "            'output again. This could be due to the fact that the sequence may '\n",
            "            'not correspond to a complete codon or may not translate into a '\n",
            "            'valid protein sequence.\\n'\n",
            "            '\\n'\n",
            "            'The sequence \"ATGCATAGGTAG\" translates to a partial sequence, and '\n",
            "            \"if it doesn't end with a complete codon, it may not produce a \"\n",
            "            'valid output. \\n'\n",
            "            '\\n'\n",
            "            'Let me check the translation result again and ensure that it is '\n",
            "            \"being processed correctly. I'll also include the output in a more \"\n",
            "            'explicit way.',\n",
            " 'role': 'assistant',\n",
            " 'tool_calls': [{'function': {'arguments': '{\"code\":\"from Bio.Seq import '\n",
            "                                           'Seq\\\\n\\\\n# Create a sequence '\n",
            "                                           'object\\\\nsequence = '\n",
            "                                           \"Seq('ATGCATAGGTAG')\\\\n\\\\n# \"\n",
            "                                           'Translate the '\n",
            "                                           'sequence\\\\ntranslated_sequence = '\n",
            "                                           'sequence.translate()\\\\n\\\\n# Output '\n",
            "                                           'the translated '\n",
            "                                           'sequence\\\\nprint(translated_sequence)\"}',\n",
            "                              'name': 'run_python_code'},\n",
            "                 'id': 'call_6zrerD3gbur6NhoysUXtVmAB',\n",
            "                 'type': 'function'}]}\n",
            "{'content': 'MHR*',\n",
            " 'name': 'run_python_code',\n",
            " 'role': 'tool',\n",
            " 'tool_call_id': 'call_6zrerD3gbur6NhoysUXtVmAB'}\n",
            "{'annotations': [],\n",
            " 'content': 'The translation of the sequence \"ATGCATAGGTAG\" results in the '\n",
            "            'peptide sequence \"MHR*\". \\n'\n",
            "            '\\n'\n",
            "            'Here, \"M\" stands for Methionine, \"H\" for Histidine, \"R\" for '\n",
            "            'Arginine, and \"*\" indicates a stop codon. This means that the '\n",
            "            'translation process encountered a stop codon, which terminates '\n",
            "            'the translation.',\n",
            " 'role': 'assistant'}\n"
          ]
        },
        {
          "output_type": "display_data",
          "data": {
            "text/plain": [
              "\u001b[93m╭─\u001b[0m\u001b[93m──────────────────────────────────────────────────\u001b[0m\u001b[1;33m [System] \u001b[0m\u001b[93m───────────────────────────────────────────────────\u001b[0m\u001b[93m─╮\u001b[0m\n",
              "\u001b[93m│\u001b[0m You are a helpful AI assistant                                                                                  \u001b[93m│\u001b[0m\n",
              "\u001b[93m╰─────────────────────────────────────────────────────────────────────────────────────────────────────────────────╯\u001b[0m\n"
            ],
            "text/html": [
              "<pre style=\"white-space:pre;overflow-x:auto;line-height:normal;font-family:Menlo,'DejaVu Sans Mono',consolas,'Courier New',monospace\"><span style=\"color: #ffff00; text-decoration-color: #ffff00\">╭───────────────────────────────────────────────────</span><span style=\"color: #808000; text-decoration-color: #808000; font-weight: bold\"> [System] </span><span style=\"color: #ffff00; text-decoration-color: #ffff00\">────────────────────────────────────────────────────╮</span>\n",
              "<span style=\"color: #ffff00; text-decoration-color: #ffff00\">│</span> You are a helpful AI assistant                                                                                  <span style=\"color: #ffff00; text-decoration-color: #ffff00\">│</span>\n",
              "<span style=\"color: #ffff00; text-decoration-color: #ffff00\">╰─────────────────────────────────────────────────────────────────────────────────────────────────────────────────╯</span>\n",
              "</pre>\n"
            ]
          },
          "metadata": {}
        },
        {
          "output_type": "display_data",
          "data": {
            "text/plain": [
              "\u001b[92m╭─\u001b[0m\u001b[92m───────────────────────────────────────────────────\u001b[0m\u001b[1;32m [User] \u001b[0m\u001b[92m────────────────────────────────────────────────────\u001b[0m\u001b[92m─╮\u001b[0m\n",
              "\u001b[92m│\u001b[0m Install biopython with pip                                                                                      \u001b[92m│\u001b[0m\n",
              "\u001b[92m╰─────────────────────────────────────────────────────────────────────────────────────────────────────────────────╯\u001b[0m\n"
            ],
            "text/html": [
              "<pre style=\"white-space:pre;overflow-x:auto;line-height:normal;font-family:Menlo,'DejaVu Sans Mono',consolas,'Courier New',monospace\"><span style=\"color: #00ff00; text-decoration-color: #00ff00\">╭────────────────────────────────────────────────────</span><span style=\"color: #008000; text-decoration-color: #008000; font-weight: bold\"> [User] </span><span style=\"color: #00ff00; text-decoration-color: #00ff00\">─────────────────────────────────────────────────────╮</span>\n",
              "<span style=\"color: #00ff00; text-decoration-color: #00ff00\">│</span> Install biopython with pip                                                                                      <span style=\"color: #00ff00; text-decoration-color: #00ff00\">│</span>\n",
              "<span style=\"color: #00ff00; text-decoration-color: #00ff00\">╰─────────────────────────────────────────────────────────────────────────────────────────────────────────────────╯</span>\n",
              "</pre>\n"
            ]
          },
          "metadata": {}
        },
        {
          "output_type": "display_data",
          "data": {
            "text/plain": [
              "\u001b[34m╭─\u001b[0m\u001b[34m─────────────────────────────────────────────────\u001b[0m\u001b[1;34m [Assistant] \u001b[0m\u001b[34m─────────────────────────────────────────────────\u001b[0m\u001b[34m─╮\u001b[0m\n",
              "\u001b[34m│\u001b[0m Tool Call to \u001b[1;35mexecute_bash\u001b[0m:                                                                                      \u001b[34m│\u001b[0m\n",
              "\u001b[34m│\u001b[0m {\"command\":\"pip install biopython\"}                                                                             \u001b[34m│\u001b[0m\n",
              "\u001b[34m╰─────────────────────────────────────────────────────────────────────────────────────────────────────────────────╯\u001b[0m\n"
            ],
            "text/html": [
              "<pre style=\"white-space:pre;overflow-x:auto;line-height:normal;font-family:Menlo,'DejaVu Sans Mono',consolas,'Courier New',monospace\"><span style=\"color: #000080; text-decoration-color: #000080\">╭──────────────────────────────────────────────────</span><span style=\"color: #000080; text-decoration-color: #000080; font-weight: bold\"> [Assistant] </span><span style=\"color: #000080; text-decoration-color: #000080\">──────────────────────────────────────────────────╮</span>\n",
              "<span style=\"color: #000080; text-decoration-color: #000080\">│</span> Tool Call to <span style=\"color: #800080; text-decoration-color: #800080; font-weight: bold\">execute_bash</span>:                                                                                      <span style=\"color: #000080; text-decoration-color: #000080\">│</span>\n",
              "<span style=\"color: #000080; text-decoration-color: #000080\">│</span> {\"command\":\"pip install biopython\"}                                                                             <span style=\"color: #000080; text-decoration-color: #000080\">│</span>\n",
              "<span style=\"color: #000080; text-decoration-color: #000080\">╰─────────────────────────────────────────────────────────────────────────────────────────────────────────────────╯</span>\n",
              "</pre>\n"
            ]
          },
          "metadata": {}
        },
        {
          "output_type": "display_data",
          "data": {
            "text/plain": [
              "\u001b[95m╭─\u001b[0m\u001b[95m───────────────────────────────────────────────────\u001b[0m\u001b[1;35m [Tool] \u001b[0m\u001b[95m────────────────────────────────────────────────────\u001b[0m\u001b[95m─╮\u001b[0m\n",
              "\u001b[95m│\u001b[0m Response from \u001b[1;35mexecute_bash\u001b[0m:                                                                                     \u001b[95m│\u001b[0m\n",
              "\u001b[95m│\u001b[0m Requirement already satisfied: biopython in /usr/local/lib/python3.11/dist-packages (1.85)                      \u001b[95m│\u001b[0m\n",
              "\u001b[95m│\u001b[0m Requirement already satisfied: numpy in /usr/local/lib/python3.11/dist-packages (from biopython) (2.0.2)        \u001b[95m│\u001b[0m\n",
              "\u001b[95m╰─────────────────────────────────────────────────────────────────────────────────────────────────────────────────╯\u001b[0m\n"
            ],
            "text/html": [
              "<pre style=\"white-space:pre;overflow-x:auto;line-height:normal;font-family:Menlo,'DejaVu Sans Mono',consolas,'Courier New',monospace\"><span style=\"color: #ff00ff; text-decoration-color: #ff00ff\">╭────────────────────────────────────────────────────</span><span style=\"color: #800080; text-decoration-color: #800080; font-weight: bold\"> [Tool] </span><span style=\"color: #ff00ff; text-decoration-color: #ff00ff\">─────────────────────────────────────────────────────╮</span>\n",
              "<span style=\"color: #ff00ff; text-decoration-color: #ff00ff\">│</span> Response from <span style=\"color: #800080; text-decoration-color: #800080; font-weight: bold\">execute_bash</span>:                                                                                     <span style=\"color: #ff00ff; text-decoration-color: #ff00ff\">│</span>\n",
              "<span style=\"color: #ff00ff; text-decoration-color: #ff00ff\">│</span> Requirement already satisfied: biopython in /usr/local/lib/python3.11/dist-packages (1.85)                      <span style=\"color: #ff00ff; text-decoration-color: #ff00ff\">│</span>\n",
              "<span style=\"color: #ff00ff; text-decoration-color: #ff00ff\">│</span> Requirement already satisfied: numpy in /usr/local/lib/python3.11/dist-packages (from biopython) (2.0.2)        <span style=\"color: #ff00ff; text-decoration-color: #ff00ff\">│</span>\n",
              "<span style=\"color: #ff00ff; text-decoration-color: #ff00ff\">╰─────────────────────────────────────────────────────────────────────────────────────────────────────────────────╯</span>\n",
              "</pre>\n"
            ]
          },
          "metadata": {}
        },
        {
          "output_type": "display_data",
          "data": {
            "text/plain": [
              "\u001b[94m╭─\u001b[0m\u001b[94m─────────────────────────────────────────────────\u001b[0m\u001b[1;34m [Assistant] \u001b[0m\u001b[94m─────────────────────────────────────────────────\u001b[0m\u001b[94m─╮\u001b[0m\n",
              "\u001b[94m│\u001b[0m Biopython is already installed on your system. The installed version is 1.85, and it also requires NumPy, which \u001b[94m│\u001b[0m\n",
              "\u001b[94m│\u001b[0m is already satisfied with version 2.0.2.                                                                        \u001b[94m│\u001b[0m\n",
              "\u001b[94m╰─────────────────────────────────────────────────────────────────────────────────────────────────────────────────╯\u001b[0m\n"
            ],
            "text/html": [
              "<pre style=\"white-space:pre;overflow-x:auto;line-height:normal;font-family:Menlo,'DejaVu Sans Mono',consolas,'Courier New',monospace\"><span style=\"color: #0000ff; text-decoration-color: #0000ff\">╭──────────────────────────────────────────────────</span><span style=\"color: #000080; text-decoration-color: #000080; font-weight: bold\"> [Assistant] </span><span style=\"color: #0000ff; text-decoration-color: #0000ff\">──────────────────────────────────────────────────╮</span>\n",
              "<span style=\"color: #0000ff; text-decoration-color: #0000ff\">│</span> Biopython is already installed on your system. The installed version is 1.85, and it also requires NumPy, which <span style=\"color: #0000ff; text-decoration-color: #0000ff\">│</span>\n",
              "<span style=\"color: #0000ff; text-decoration-color: #0000ff\">│</span> is already satisfied with version 2.0.2.                                                                        <span style=\"color: #0000ff; text-decoration-color: #0000ff\">│</span>\n",
              "<span style=\"color: #0000ff; text-decoration-color: #0000ff\">╰─────────────────────────────────────────────────────────────────────────────────────────────────────────────────╯</span>\n",
              "</pre>\n"
            ]
          },
          "metadata": {}
        },
        {
          "output_type": "display_data",
          "data": {
            "text/plain": [
              "\u001b[92m╭─\u001b[0m\u001b[92m───────────────────────────────────────────────────\u001b[0m\u001b[1;32m [User] \u001b[0m\u001b[92m────────────────────────────────────────────────────\u001b[0m\u001b[92m─╮\u001b[0m\n",
              "\u001b[92m│\u001b[0m translate ATGCATAGGTAG with biopython                                                                           \u001b[92m│\u001b[0m\n",
              "\u001b[92m╰─────────────────────────────────────────────────────────────────────────────────────────────────────────────────╯\u001b[0m\n"
            ],
            "text/html": [
              "<pre style=\"white-space:pre;overflow-x:auto;line-height:normal;font-family:Menlo,'DejaVu Sans Mono',consolas,'Courier New',monospace\"><span style=\"color: #00ff00; text-decoration-color: #00ff00\">╭────────────────────────────────────────────────────</span><span style=\"color: #008000; text-decoration-color: #008000; font-weight: bold\"> [User] </span><span style=\"color: #00ff00; text-decoration-color: #00ff00\">─────────────────────────────────────────────────────╮</span>\n",
              "<span style=\"color: #00ff00; text-decoration-color: #00ff00\">│</span> translate ATGCATAGGTAG with biopython                                                                           <span style=\"color: #00ff00; text-decoration-color: #00ff00\">│</span>\n",
              "<span style=\"color: #00ff00; text-decoration-color: #00ff00\">╰─────────────────────────────────────────────────────────────────────────────────────────────────────────────────╯</span>\n",
              "</pre>\n"
            ]
          },
          "metadata": {}
        },
        {
          "output_type": "display_data",
          "data": {
            "text/plain": [
              "\u001b[34m╭─\u001b[0m\u001b[34m─────────────────────────────────────────────────\u001b[0m\u001b[1;34m [Assistant] \u001b[0m\u001b[34m─────────────────────────────────────────────────\u001b[0m\u001b[34m─╮\u001b[0m\n",
              "\u001b[34m│\u001b[0m Tool Call to \u001b[1;35mrun_python_code\u001b[0m:                                                                                   \u001b[34m│\u001b[0m\n",
              "\u001b[34m│\u001b[0m {\"code\":\"from Bio.Seq import Seq\\n\\n# Create a sequence object\\nsequence = Seq('ATGCATAGGTAG')\\n\\n# Translate   \u001b[34m│\u001b[0m\n",
              "\u001b[34m│\u001b[0m the sequence\\ntranslated_sequence = sequence.translate()\\ntranslated_sequence\"}                                 \u001b[34m│\u001b[0m\n",
              "\u001b[34m╰─────────────────────────────────────────────────────────────────────────────────────────────────────────────────╯\u001b[0m\n"
            ],
            "text/html": [
              "<pre style=\"white-space:pre;overflow-x:auto;line-height:normal;font-family:Menlo,'DejaVu Sans Mono',consolas,'Courier New',monospace\"><span style=\"color: #000080; text-decoration-color: #000080\">╭──────────────────────────────────────────────────</span><span style=\"color: #000080; text-decoration-color: #000080; font-weight: bold\"> [Assistant] </span><span style=\"color: #000080; text-decoration-color: #000080\">──────────────────────────────────────────────────╮</span>\n",
              "<span style=\"color: #000080; text-decoration-color: #000080\">│</span> Tool Call to <span style=\"color: #800080; text-decoration-color: #800080; font-weight: bold\">run_python_code</span>:                                                                                   <span style=\"color: #000080; text-decoration-color: #000080\">│</span>\n",
              "<span style=\"color: #000080; text-decoration-color: #000080\">│</span> {\"code\":\"from Bio.Seq import Seq\\n\\n# Create a sequence object\\nsequence = Seq('ATGCATAGGTAG')\\n\\n# Translate   <span style=\"color: #000080; text-decoration-color: #000080\">│</span>\n",
              "<span style=\"color: #000080; text-decoration-color: #000080\">│</span> the sequence\\ntranslated_sequence = sequence.translate()\\ntranslated_sequence\"}                                 <span style=\"color: #000080; text-decoration-color: #000080\">│</span>\n",
              "<span style=\"color: #000080; text-decoration-color: #000080\">╰─────────────────────────────────────────────────────────────────────────────────────────────────────────────────╯</span>\n",
              "</pre>\n"
            ]
          },
          "metadata": {}
        },
        {
          "output_type": "display_data",
          "data": {
            "text/plain": [
              "\u001b[95m╭─\u001b[0m\u001b[95m───────────────────────────────────────────────────\u001b[0m\u001b[1;35m [Tool] \u001b[0m\u001b[95m────────────────────────────────────────────────────\u001b[0m\u001b[95m─╮\u001b[0m\n",
              "\u001b[95m│\u001b[0m Response from \u001b[1;35mrun_python_code\u001b[0m:                                                                                  \u001b[95m│\u001b[0m\n",
              "\u001b[95m│\u001b[0m No output.                                                                                                      \u001b[95m│\u001b[0m\n",
              "\u001b[95m╰─────────────────────────────────────────────────────────────────────────────────────────────────────────────────╯\u001b[0m\n"
            ],
            "text/html": [
              "<pre style=\"white-space:pre;overflow-x:auto;line-height:normal;font-family:Menlo,'DejaVu Sans Mono',consolas,'Courier New',monospace\"><span style=\"color: #ff00ff; text-decoration-color: #ff00ff\">╭────────────────────────────────────────────────────</span><span style=\"color: #800080; text-decoration-color: #800080; font-weight: bold\"> [Tool] </span><span style=\"color: #ff00ff; text-decoration-color: #ff00ff\">─────────────────────────────────────────────────────╮</span>\n",
              "<span style=\"color: #ff00ff; text-decoration-color: #ff00ff\">│</span> Response from <span style=\"color: #800080; text-decoration-color: #800080; font-weight: bold\">run_python_code</span>:                                                                                  <span style=\"color: #ff00ff; text-decoration-color: #ff00ff\">│</span>\n",
              "<span style=\"color: #ff00ff; text-decoration-color: #ff00ff\">│</span> No output.                                                                                                      <span style=\"color: #ff00ff; text-decoration-color: #ff00ff\">│</span>\n",
              "<span style=\"color: #ff00ff; text-decoration-color: #ff00ff\">╰─────────────────────────────────────────────────────────────────────────────────────────────────────────────────╯</span>\n",
              "</pre>\n"
            ]
          },
          "metadata": {}
        },
        {
          "output_type": "display_data",
          "data": {
            "text/plain": [
              "\u001b[34m╭─\u001b[0m\u001b[34m─────────────────────────────────────────────────\u001b[0m\u001b[1;34m [Assistant] \u001b[0m\u001b[34m─────────────────────────────────────────────────\u001b[0m\u001b[34m─╮\u001b[0m\n",
              "\u001b[34m│\u001b[0m Tool Call to \u001b[1;35mrun_python_code\u001b[0m:                                                                                   \u001b[34m│\u001b[0m\n",
              "\u001b[34m│\u001b[0m {\"code\":\"from Bio.Seq import Seq\\n\\n# Create a sequence object\\nsequence = Seq('ATGCATAGGTAG')\\n\\n# Translate   \u001b[34m│\u001b[0m\n",
              "\u001b[34m│\u001b[0m the sequence\\ntranslated_sequence = sequence.translate()\\n\\n# Output the translated                             \u001b[34m│\u001b[0m\n",
              "\u001b[34m│\u001b[0m sequence\\nstr(translated_sequence)\"}                                                                            \u001b[34m│\u001b[0m\n",
              "\u001b[34m╰─────────────────────────────────────────────────────────────────────────────────────────────────────────────────╯\u001b[0m\n"
            ],
            "text/html": [
              "<pre style=\"white-space:pre;overflow-x:auto;line-height:normal;font-family:Menlo,'DejaVu Sans Mono',consolas,'Courier New',monospace\"><span style=\"color: #000080; text-decoration-color: #000080\">╭──────────────────────────────────────────────────</span><span style=\"color: #000080; text-decoration-color: #000080; font-weight: bold\"> [Assistant] </span><span style=\"color: #000080; text-decoration-color: #000080\">──────────────────────────────────────────────────╮</span>\n",
              "<span style=\"color: #000080; text-decoration-color: #000080\">│</span> Tool Call to <span style=\"color: #800080; text-decoration-color: #800080; font-weight: bold\">run_python_code</span>:                                                                                   <span style=\"color: #000080; text-decoration-color: #000080\">│</span>\n",
              "<span style=\"color: #000080; text-decoration-color: #000080\">│</span> {\"code\":\"from Bio.Seq import Seq\\n\\n# Create a sequence object\\nsequence = Seq('ATGCATAGGTAG')\\n\\n# Translate   <span style=\"color: #000080; text-decoration-color: #000080\">│</span>\n",
              "<span style=\"color: #000080; text-decoration-color: #000080\">│</span> the sequence\\ntranslated_sequence = sequence.translate()\\n\\n# Output the translated                             <span style=\"color: #000080; text-decoration-color: #000080\">│</span>\n",
              "<span style=\"color: #000080; text-decoration-color: #000080\">│</span> sequence\\nstr(translated_sequence)\"}                                                                            <span style=\"color: #000080; text-decoration-color: #000080\">│</span>\n",
              "<span style=\"color: #000080; text-decoration-color: #000080\">╰─────────────────────────────────────────────────────────────────────────────────────────────────────────────────╯</span>\n",
              "</pre>\n"
            ]
          },
          "metadata": {}
        },
        {
          "output_type": "display_data",
          "data": {
            "text/plain": [
              "\u001b[95m╭─\u001b[0m\u001b[95m───────────────────────────────────────────────────\u001b[0m\u001b[1;35m [Tool] \u001b[0m\u001b[95m────────────────────────────────────────────────────\u001b[0m\u001b[95m─╮\u001b[0m\n",
              "\u001b[95m│\u001b[0m Response from \u001b[1;35mrun_python_code\u001b[0m:                                                                                  \u001b[95m│\u001b[0m\n",
              "\u001b[95m│\u001b[0m No output.                                                                                                      \u001b[95m│\u001b[0m\n",
              "\u001b[95m╰─────────────────────────────────────────────────────────────────────────────────────────────────────────────────╯\u001b[0m\n"
            ],
            "text/html": [
              "<pre style=\"white-space:pre;overflow-x:auto;line-height:normal;font-family:Menlo,'DejaVu Sans Mono',consolas,'Courier New',monospace\"><span style=\"color: #ff00ff; text-decoration-color: #ff00ff\">╭────────────────────────────────────────────────────</span><span style=\"color: #800080; text-decoration-color: #800080; font-weight: bold\"> [Tool] </span><span style=\"color: #ff00ff; text-decoration-color: #ff00ff\">─────────────────────────────────────────────────────╮</span>\n",
              "<span style=\"color: #ff00ff; text-decoration-color: #ff00ff\">│</span> Response from <span style=\"color: #800080; text-decoration-color: #800080; font-weight: bold\">run_python_code</span>:                                                                                  <span style=\"color: #ff00ff; text-decoration-color: #ff00ff\">│</span>\n",
              "<span style=\"color: #ff00ff; text-decoration-color: #ff00ff\">│</span> No output.                                                                                                      <span style=\"color: #ff00ff; text-decoration-color: #ff00ff\">│</span>\n",
              "<span style=\"color: #ff00ff; text-decoration-color: #ff00ff\">╰─────────────────────────────────────────────────────────────────────────────────────────────────────────────────╯</span>\n",
              "</pre>\n"
            ]
          },
          "metadata": {}
        },
        {
          "output_type": "display_data",
          "data": {
            "text/plain": [
              "\u001b[34m╭─\u001b[0m\u001b[34m─────────────────────────────────────────────────\u001b[0m\u001b[1;34m [Assistant] \u001b[0m\u001b[34m─────────────────────────────────────────────────\u001b[0m\u001b[34m─╮\u001b[0m\n",
              "\u001b[34m│\u001b[0m Tool Call to \u001b[1;35mrun_python_code\u001b[0m:                                                                                   \u001b[34m│\u001b[0m\n",
              "\u001b[34m│\u001b[0m {\"code\":\"from Bio.Seq import Seq\\n\\n# Create a sequence object\\nsequence = Seq('ATGCATAGGTAG')\\n\\n# Translate   \u001b[34m│\u001b[0m\n",
              "\u001b[34m│\u001b[0m the sequence\\ntranslated_sequence = sequence.translate()\\n\\n# Output the translated                             \u001b[34m│\u001b[0m\n",
              "\u001b[34m│\u001b[0m sequence\\nprint(translated_sequence)\"}                                                                          \u001b[34m│\u001b[0m\n",
              "\u001b[34m╰─────────────────────────────────────────────────────────────────────────────────────────────────────────────────╯\u001b[0m\n"
            ],
            "text/html": [
              "<pre style=\"white-space:pre;overflow-x:auto;line-height:normal;font-family:Menlo,'DejaVu Sans Mono',consolas,'Courier New',monospace\"><span style=\"color: #000080; text-decoration-color: #000080\">╭──────────────────────────────────────────────────</span><span style=\"color: #000080; text-decoration-color: #000080; font-weight: bold\"> [Assistant] </span><span style=\"color: #000080; text-decoration-color: #000080\">──────────────────────────────────────────────────╮</span>\n",
              "<span style=\"color: #000080; text-decoration-color: #000080\">│</span> Tool Call to <span style=\"color: #800080; text-decoration-color: #800080; font-weight: bold\">run_python_code</span>:                                                                                   <span style=\"color: #000080; text-decoration-color: #000080\">│</span>\n",
              "<span style=\"color: #000080; text-decoration-color: #000080\">│</span> {\"code\":\"from Bio.Seq import Seq\\n\\n# Create a sequence object\\nsequence = Seq('ATGCATAGGTAG')\\n\\n# Translate   <span style=\"color: #000080; text-decoration-color: #000080\">│</span>\n",
              "<span style=\"color: #000080; text-decoration-color: #000080\">│</span> the sequence\\ntranslated_sequence = sequence.translate()\\n\\n# Output the translated                             <span style=\"color: #000080; text-decoration-color: #000080\">│</span>\n",
              "<span style=\"color: #000080; text-decoration-color: #000080\">│</span> sequence\\nprint(translated_sequence)\"}                                                                          <span style=\"color: #000080; text-decoration-color: #000080\">│</span>\n",
              "<span style=\"color: #000080; text-decoration-color: #000080\">╰─────────────────────────────────────────────────────────────────────────────────────────────────────────────────╯</span>\n",
              "</pre>\n"
            ]
          },
          "metadata": {}
        },
        {
          "output_type": "display_data",
          "data": {
            "text/plain": [
              "\u001b[95m╭─\u001b[0m\u001b[95m───────────────────────────────────────────────────\u001b[0m\u001b[1;35m [Tool] \u001b[0m\u001b[95m────────────────────────────────────────────────────\u001b[0m\u001b[95m─╮\u001b[0m\n",
              "\u001b[95m│\u001b[0m Response from \u001b[1;35mrun_python_code\u001b[0m:                                                                                  \u001b[95m│\u001b[0m\n",
              "\u001b[95m│\u001b[0m MHR*                                                                                                            \u001b[95m│\u001b[0m\n",
              "\u001b[95m╰─────────────────────────────────────────────────────────────────────────────────────────────────────────────────╯\u001b[0m\n"
            ],
            "text/html": [
              "<pre style=\"white-space:pre;overflow-x:auto;line-height:normal;font-family:Menlo,'DejaVu Sans Mono',consolas,'Courier New',monospace\"><span style=\"color: #ff00ff; text-decoration-color: #ff00ff\">╭────────────────────────────────────────────────────</span><span style=\"color: #800080; text-decoration-color: #800080; font-weight: bold\"> [Tool] </span><span style=\"color: #ff00ff; text-decoration-color: #ff00ff\">─────────────────────────────────────────────────────╮</span>\n",
              "<span style=\"color: #ff00ff; text-decoration-color: #ff00ff\">│</span> Response from <span style=\"color: #800080; text-decoration-color: #800080; font-weight: bold\">run_python_code</span>:                                                                                  <span style=\"color: #ff00ff; text-decoration-color: #ff00ff\">│</span>\n",
              "<span style=\"color: #ff00ff; text-decoration-color: #ff00ff\">│</span> MHR*                                                                                                            <span style=\"color: #ff00ff; text-decoration-color: #ff00ff\">│</span>\n",
              "<span style=\"color: #ff00ff; text-decoration-color: #ff00ff\">╰─────────────────────────────────────────────────────────────────────────────────────────────────────────────────╯</span>\n",
              "</pre>\n"
            ]
          },
          "metadata": {}
        },
        {
          "output_type": "display_data",
          "data": {
            "text/plain": [
              "\u001b[94m╭─\u001b[0m\u001b[94m─────────────────────────────────────────────────\u001b[0m\u001b[1;34m [Assistant] \u001b[0m\u001b[94m─────────────────────────────────────────────────\u001b[0m\u001b[94m─╮\u001b[0m\n",
              "\u001b[94m│\u001b[0m The translation of the sequence \"ATGCATAGGTAG\" results in the peptide sequence \"MHR*\".                          \u001b[94m│\u001b[0m\n",
              "\u001b[94m│\u001b[0m                                                                                                                 \u001b[94m│\u001b[0m\n",
              "\u001b[94m│\u001b[0m Here, \"M\" stands for Methionine, \"H\" for Histidine, \"R\" for Arginine, and \"*\" indicates a stop codon. This      \u001b[94m│\u001b[0m\n",
              "\u001b[94m│\u001b[0m means that the translation process encountered a stop codon, which terminates the translation.                  \u001b[94m│\u001b[0m\n",
              "\u001b[94m╰─────────────────────────────────────────────────────────────────────────────────────────────────────────────────╯\u001b[0m\n"
            ],
            "text/html": [
              "<pre style=\"white-space:pre;overflow-x:auto;line-height:normal;font-family:Menlo,'DejaVu Sans Mono',consolas,'Courier New',monospace\"><span style=\"color: #0000ff; text-decoration-color: #0000ff\">╭──────────────────────────────────────────────────</span><span style=\"color: #000080; text-decoration-color: #000080; font-weight: bold\"> [Assistant] </span><span style=\"color: #0000ff; text-decoration-color: #0000ff\">──────────────────────────────────────────────────╮</span>\n",
              "<span style=\"color: #0000ff; text-decoration-color: #0000ff\">│</span> The translation of the sequence \"ATGCATAGGTAG\" results in the peptide sequence \"MHR*\".                          <span style=\"color: #0000ff; text-decoration-color: #0000ff\">│</span>\n",
              "<span style=\"color: #0000ff; text-decoration-color: #0000ff\">│</span>                                                                                                                 <span style=\"color: #0000ff; text-decoration-color: #0000ff\">│</span>\n",
              "<span style=\"color: #0000ff; text-decoration-color: #0000ff\">│</span> Here, \"M\" stands for Methionine, \"H\" for Histidine, \"R\" for Arginine, and \"*\" indicates a stop codon. This      <span style=\"color: #0000ff; text-decoration-color: #0000ff\">│</span>\n",
              "<span style=\"color: #0000ff; text-decoration-color: #0000ff\">│</span> means that the translation process encountered a stop codon, which terminates the translation.                  <span style=\"color: #0000ff; text-decoration-color: #0000ff\">│</span>\n",
              "<span style=\"color: #0000ff; text-decoration-color: #0000ff\">╰─────────────────────────────────────────────────────────────────────────────────────────────────────────────────╯</span>\n",
              "</pre>\n"
            ]
          },
          "metadata": {}
        }
      ],
      "source": [
        "agent.query(\"translate ATGCATAGGTAG with biopython\")\n",
        "agent.memory.pretty_print_all_messages()"
      ]
    },
    {
      "cell_type": "code",
      "execution_count": null,
      "metadata": {
        "id": "rx9VtjBOgevZ"
      },
      "outputs": [],
      "source": []
    }
  ],
  "metadata": {
    "colab": {
      "provenance": [],
      "include_colab_link": true
    },
    "kernelspec": {
      "display_name": "Python 3",
      "name": "python3"
    },
    "language_info": {
      "codemirror_mode": {
        "name": "ipython",
        "version": 3
      },
      "file_extension": ".py",
      "mimetype": "text/x-python",
      "name": "python",
      "nbconvert_exporter": "python",
      "pygments_lexer": "ipython3",
      "version": "3.12.3"
    }
  },
  "nbformat": 4,
  "nbformat_minor": 0
}